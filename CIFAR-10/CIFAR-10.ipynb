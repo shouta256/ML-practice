{
 "cells": [
  {
   "cell_type": "code",
   "execution_count": 5,
   "metadata": {
    "id": "kaCoVj1nb-Ni"
   },
   "outputs": [],
   "source": [
    "import torch #PyTorchの基本ライブラリ\n",
    "import torch.nn as nn #ニューラルネットワークモデルを構築するため\n",
    "import torch.optim as optim #最適化アルゴリズムのライブラリ\n",
    "import torch.nn.functional as F #ニューラルネットワークのレイヤーや活性化関数\n",
    "from torchvision import datasets, transforms #datasetsは画像データセットを簡単に取得できる。transformsは前処理用\n",
    "from torch.utils.data import DataLoader #データセットの管理とバッチ処理を行う\n",
    "import matplotlib.pyplot as plt #データの可視化を行う\n",
    "import torchvision #画像認識用のライブラリ"
   ]
  },
  {
   "cell_type": "code",
   "execution_count": 6,
   "metadata": {
    "id": "VAV33PlUcJ1v"
   },
   "outputs": [],
   "source": [
    "# 複数の画像変換処理を順番に実行するためにComposeを使用\n",
    "transform = transforms.Compose([\n",
    "    transforms.RandomHorizontalFlip(),# 画像を左右反転する（デフォルトでは50%の確率で反転し、データ拡張に役立つ）\n",
    "    transforms.RandomCrop(32, padding=4),# 画像をランダムにクロップ（切り取り）する。サイズは32*32で、4pxの余白\n",
    "    transforms.ToTensor(),# 画像をPyTorchのTensor型に変換\n",
    "    transforms.Normalize((0.5, 0.5, 0.5), (0.5, 0.5, 0.5)) # 各チャネル（RGB）の画素値を正規化する。画素値を[-1, 1]の範囲にスケーリング\n",
    "])"
   ]
  },
  {
   "cell_type": "code",
   "execution_count": 7,
   "metadata": {
    "colab": {
     "base_uri": "https://localhost:8080/"
    },
    "id": "T7QiqobPcTub",
    "outputId": "c9ffdb55-a550-4f80-d84c-80a4a99ee219"
   },
   "outputs": [
    {
     "name": "stdout",
     "output_type": "stream",
     "text": [
      "Downloading https://www.cs.toronto.edu/~kriz/cifar-10-python.tar.gz to ./data/cifar-10-python.tar.gz\n"
     ]
    },
    {
     "name": "stderr",
     "output_type": "stream",
     "text": [
      "100%|███████████████████████████████████████████████████████████████████████████████████| 170M/170M [00:06<00:00, 26.1MB/s]\n"
     ]
    },
    {
     "name": "stdout",
     "output_type": "stream",
     "text": [
      "Extracting ./data/cifar-10-python.tar.gz to ./data\n",
      "Files already downloaded and verified\n"
     ]
    }
   ],
   "source": [
    "# CIFAR-10データセットのロード\n",
    "train_set = torchvision.datasets.CIFAR10(\n",
    "    root='./data', train=True, download=True, transform=transform\n",
    ")\n",
    "train_loader = torch.utils.data.DataLoader(\n",
    "    train_set, batch_size=4, shuffle=True, num_workers=2\n",
    ")\n",
    "\n",
    "test_set = torchvision.datasets.CIFAR10(\n",
    "    root='./data', train=False, download=True, transform=transform\n",
    ")\n",
    "test_loader = torch.utils.data.DataLoader(\n",
    "    test_set, batch_size=4, shuffle=False, num_workers=2\n",
    ")"
   ]
  },
  {
   "cell_type": "code",
   "execution_count": 8,
   "metadata": {
    "colab": {
     "base_uri": "https://localhost:8080/",
     "height": 541
    },
    "id": "3nWefvIIerZV",
    "outputId": "a5337de4-1e98-418c-951c-58cb29a21f5a"
   },
   "outputs": [
    {
     "name": "stderr",
     "output_type": "stream",
     "text": [
      "Clipping input data to the valid range for imshow with RGB data ([0..1] for floats or [0..255] for integers).\n"
     ]
    },
    {
     "data": {
      "image/png": "[encoded data removed]",
      "text/plain": [
       "<Figure size 640x480 with 1 Axes>"
      ]
     },
     "metadata": {},
     "output_type": "display_data"
    },
    {
     "name": "stdout",
     "output_type": "stream",
     "text": [
      "Image shape: torch.Size([3, 32, 32])\n",
      "Image data type: torch.float32\n",
      "Label: 6\n"
     ]
    }
   ],
   "source": [
    "# 訓練データセットから最初の画像とラベルを取得\n",
    "image, label = train_set[0]\n",
    "\n",
    "# 画像を表示\n",
    "import matplotlib.pyplot as plt\n",
    "plt.imshow(image.permute(1, 2, 0)) # PyTorchのテンソルはチャンネルが最初にくるので、順番を入れ替える必要がある\n",
    "plt.title(f\"Label: {label}\")\n",
    "plt.show()\n",
    "\n",
    "# 画像データの形状とデータ型を表示\n",
    "print(\"Image shape:\", image.shape)\n",
    "print(\"Image data type:\", image.dtype)\n",
    "\n",
    "# ラベルを表示\n",
    "print(\"Label:\", label)"
   ]
  },
  {
   "cell_type": "code",
   "execution_count": 28,
   "metadata": {
    "id": "HlViX_6IcTyq"
   },
   "outputs": [],
   "source": [
    "train_loader = DataLoader(train_set, batch_size=128, shuffle=True)#訓練用データセット\n",
    "test_loader = DataLoader(test_set, batch_size=128, shuffle=False)#テスト用データセット"
   ]
  },
  {
   "cell_type": "code",
   "execution_count": 10,
   "metadata": {
    "id": "C9Vs67CudbY6"
   },
   "outputs": [],
   "source": [
    "classes = (\n",
    "    'airplane', 'automobile', 'bird', 'cat',\n",
    "    'deer', 'dog', 'frog', 'horse', 'ship', 'truck'\n",
    ")\n"
   ]
  },
  {
   "cell_type": "code",
   "execution_count": 39,
   "metadata": {
    "id": "HGDvt1d9cT1S"
   },
   "outputs": [],
   "source": [
    "class CIFARClassifierImproved(nn.Module):\n",
    "    def __init__(self):\n",
    "        super(CIFARClassifierImproved, self).__init__()\n",
    "        \n",
    "        # 畳み込み層 + バッチ正規化\n",
    "        self.conv1 = nn.Conv2d(3, 64, kernel_size=3, padding=1)\n",
    "        self.bn1 = nn.BatchNorm2d(64)\n",
    "        self.conv2 = nn.Conv2d(64, 128, kernel_size=3, padding=1)\n",
    "        self.bn2 = nn.BatchNorm2d(128)\n",
    "        self.conv3 = nn.Conv2d(128, 256, kernel_size=3, padding=1)\n",
    "        self.bn3 = nn.BatchNorm2d(256)\n",
    "        self.conv4 = nn.Conv2d(256, 512, kernel_size=3, padding=1)\n",
    "        self.bn4 = nn.BatchNorm2d(512)\n",
    "        \n",
    "        # グローバル平均プーリング\n",
    "        self.global_avg_pool = nn.AdaptiveAvgPool2d(1)\n",
    "        \n",
    "        # 全結合層\n",
    "        self.fc1 = nn.Linear(512, 256)\n",
    "        self.fc2 = nn.Linear(256, 10)\n",
    "        \n",
    "        # ドロップアウト\n",
    "        self.dropout = nn.Dropout(0.5)\n",
    "    \n",
    "    def forward(self, x):\n",
    "        x = nn.functional.relu(self.bn1(self.conv1(x)))\n",
    "        x = nn.functional.max_pool2d(x, 2)\n",
    "        x = nn.functional.relu(self.bn2(self.conv2(x)))\n",
    "        x = nn.functional.max_pool2d(x, 2)\n",
    "        x = nn.functional.relu(self.bn3(self.conv3(x)))\n",
    "        x = nn.functional.max_pool2d(x, 2)\n",
    "        x = nn.functional.relu(self.bn4(self.conv4(x)))\n",
    "        \n",
    "        # グローバル平均プーリング\n",
    "        x = self.global_avg_pool(x)\n",
    "        x = torch.flatten(x, 1)\n",
    "        \n",
    "        # 全結合層\n",
    "        x = nn.functional.relu(self.fc1(x))\n",
    "        x = self.dropout(x)\n",
    "        x = self.fc2(x)\n",
    "        \n",
    "        return x\n",
    "\n",
    "model = CIFARClassifierImproved()\n",
    "\n"
   ]
  },
  {
   "cell_type": "code",
   "execution_count": 41,
   "metadata": {
    "id": "4aykAHRWcT4A"
   },
   "outputs": [],
   "source": [
    "criterion = nn.CrossEntropyLoss()# 損失関数としてクロスエントロピー損失を使用\n",
    "optimizer = optim.SGD(model.parameters(), lr=0.01, momentum=0.9, weight_decay=5e-4)#最適化アルゴリズムとしてSGD（確率的勾配降下法）を使用\n"
   ]
  },
  {
   "cell_type": "code",
   "execution_count": 13,
   "metadata": {
    "id": "KgUo1Oj7cT6r"
   },
   "outputs": [],
   "source": [
    "def train(model, train_loader, criterion, optimizer, epoch):\n",
    "    model.train()#モデルを訓練モードに設定\n",
    "    running_loss = 0.0\n",
    "    for batch_idx, (data, target) in enumerate(train_loader):#data:入力データ,target:正解ラベル\n",
    "        optimizer.zero_grad()#勾配の初期化\n",
    "        output = model(data)#モデルにデータを入力し、予測結果を取得\n",
    "        loss = criterion(output, target)#損失を計算\n",
    "        loss.backward()#誤差逆伝播法を行い、各パラメータの勾配を計算\n",
    "        optimizer.step()#パラメータを更新\n",
    "        running_loss += loss.item()#各ミニバッチの損失値を累積\n",
    "\n",
    "    print(f'Epoch {epoch+1}, Loss: {running_loss / len(train_loader)}')#平均損失の表示"
   ]
  },
  {
   "cell_type": "code",
   "execution_count": 22,
   "metadata": {},
   "outputs": [],
   "source": [
    "class EarlyStopping:\n",
    "    def __init__(self, patience=5):\n",
    "        self.patience = patience#バリデーション損失が悪化しても許容する回数\n",
    "        self.best_loss = None#過去のバリデーション損失を保存\n",
    "        self.counter = 0#損失が悪化した回数をカウント\n",
    "\n",
    "    def __call__(self, validation_loss):\n",
    "        if self.best_loss is None:#初回の呼び出し時に\n",
    "            self.best_loss = validation_loss#best_lossを設定\n",
    "        elif validation_loss > self.best_loss:#バリデーション損失が悪化した場合\n",
    "            self.counter += 1#カウンターを増加\n",
    "            if self.counter >= self.patience:#許容範囲を越えたら終了\n",
    "                print(\"Early stopping\")\n",
    "                return True\n",
    "        else:\n",
    "            self.best_loss = validation_loss#更新\n",
    "            self.counter = 0\n",
    "        return False"
   ]
  },
  {
   "cell_type": "code",
   "execution_count": 14,
   "metadata": {
    "id": "dob2JBSFcT9K"
   },
   "outputs": [],
   "source": [
    "def validate(model, test_loader):\n",
    "    model.eval()#モデルを評価モードに設定\n",
    "    validation_loss = 0.0\n",
    "    correct = 0\n",
    "    with torch.no_grad():#勾配計算を無効化\n",
    "        for data, target in test_loader:#ミニバッチ単位でデータとラベルを取得\n",
    "            output = model(data)#予測結果を取得\n",
    "            loss = criterion(output, target)#損失を計算\n",
    "            validation_loss += loss.item()#各ミニバッチの損失値を累積\n",
    "            pred = output.argmax(dim=1, keepdim=True)#出力スコアの中で一番大きいスコアのクラスを取得\n",
    "            correct += pred.eq(target.view_as(pred)).sum().item()#予測結果と正解ラベルを比較し、一致している数を合計する\n",
    "\n",
    "    accuracy = 100. * correct / len(test_loader.dataset)#精度の計算\n",
    "    print(f'Accuracy: {accuracy:.2f}%')#精度を表示\n",
    "\n",
    "    return validation_loss"
   ]
  },
  {
   "cell_type": "code",
   "execution_count": 43,
   "metadata": {
    "colab": {
     "base_uri": "https://localhost:8080/"
    },
    "id": "jNUCKg25cT_l",
    "outputId": "533bba61-a08f-4511-cf46-45275c0365fc"
   },
   "outputs": [
    {
     "name": "stdout",
     "output_type": "stream",
     "text": [
      "Epoch 1, Loss: 1.564953532060394\n",
      "Accuracy: 44.50%\n",
      "Epoch 2, Loss: 1.1533327448703443\n",
      "Accuracy: 59.88%\n",
      "Epoch 3, Loss: 0.9866481220630734\n",
      "Accuracy: 55.47%\n",
      "Epoch 4, Loss: 0.8766872853879124\n",
      "Accuracy: 65.58%\n",
      "Epoch 5, Loss: 0.8023927852015971\n",
      "Accuracy: 66.06%\n",
      "Epoch 6, Loss: 0.7569013383534863\n",
      "Accuracy: 70.99%\n",
      "Epoch 7, Loss: 0.7078090217869605\n",
      "Accuracy: 71.66%\n",
      "Epoch 8, Loss: 0.6808688340284635\n",
      "Accuracy: 70.83%\n",
      "Epoch 9, Loss: 0.6430945482552813\n",
      "Accuracy: 76.49%\n",
      "Epoch 10, Loss: 0.6190817354585204\n",
      "Accuracy: 75.37%\n",
      "Epoch 11, Loss: 0.5958119753529044\n",
      "Accuracy: 77.17%\n",
      "Epoch 12, Loss: 0.5738219370317581\n",
      "Accuracy: 77.04%\n",
      "Epoch 13, Loss: 0.5480174092990359\n",
      "Accuracy: 75.01%\n",
      "Epoch 14, Loss: 0.5301822829429451\n",
      "Accuracy: 78.83%\n",
      "Epoch 15, Loss: 0.5162311578193284\n",
      "Accuracy: 80.18%\n",
      "Epoch 16, Loss: 0.5010960365805175\n",
      "Accuracy: 79.86%\n",
      "Epoch 17, Loss: 0.48995086657421666\n",
      "Accuracy: 79.83%\n",
      "Epoch 18, Loss: 0.4751262555799216\n",
      "Accuracy: 81.02%\n",
      "Epoch 19, Loss: 0.46786307488256096\n",
      "Accuracy: 79.93%\n",
      "Epoch 20, Loss: 0.44245971960332386\n",
      "Accuracy: 79.89%\n",
      "Epoch 21, Loss: 0.4363809320932764\n",
      "Accuracy: 80.44%\n",
      "Epoch 22, Loss: 0.42610163925706274\n",
      "Accuracy: 81.15%\n",
      "Epoch 23, Loss: 0.41766316857179414\n",
      "Accuracy: 83.20%\n",
      "Epoch 24, Loss: 0.4057633595545883\n",
      "Accuracy: 82.47%\n",
      "Epoch 25, Loss: 0.39524784097281257\n",
      "Accuracy: 83.05%\n",
      "Epoch 26, Loss: 0.3871978747722743\n",
      "Accuracy: 81.62%\n",
      "Epoch 27, Loss: 0.37975058035777354\n",
      "Accuracy: 83.26%\n",
      "Epoch 28, Loss: 0.36682204940282476\n",
      "Accuracy: 83.94%\n",
      "Epoch 29, Loss: 0.3603572026847878\n",
      "Accuracy: 83.83%\n",
      "Epoch 30, Loss: 0.35777896486432353\n",
      "Accuracy: 83.15%\n",
      "Epoch 31, Loss: 0.34375076323671416\n",
      "Accuracy: 83.03%\n",
      "Epoch 32, Loss: 0.3382475012937165\n",
      "Accuracy: 83.14%\n",
      "Epoch 33, Loss: 0.3355870195819289\n",
      "Accuracy: 83.61%\n",
      "Epoch 34, Loss: 0.32707678623821423\n",
      "Accuracy: 84.45%\n",
      "Epoch 35, Loss: 0.31932923887544273\n",
      "Accuracy: 84.47%\n",
      "Epoch 36, Loss: 0.31688230597149686\n",
      "Accuracy: 84.77%\n",
      "Epoch 37, Loss: 0.30810379025423923\n",
      "Accuracy: 82.44%\n",
      "Epoch 38, Loss: 0.30203240122789005\n",
      "Accuracy: 85.37%\n",
      "Epoch 39, Loss: 0.30076115938556164\n",
      "Accuracy: 85.12%\n",
      "Epoch 40, Loss: 0.2902479611165688\n",
      "Accuracy: 85.19%\n",
      "Epoch 41, Loss: 0.2902451560396673\n",
      "Accuracy: 84.86%\n",
      "Epoch 42, Loss: 0.2814425872567365\n",
      "Accuracy: 84.10%\n",
      "Epoch 43, Loss: 0.279039856075021\n",
      "Accuracy: 85.20%\n",
      "Epoch 44, Loss: 0.276363508971146\n",
      "Accuracy: 85.59%\n",
      "Epoch 45, Loss: 0.26994415488846774\n",
      "Accuracy: 85.26%\n",
      "Epoch 46, Loss: 0.26301206433026075\n",
      "Accuracy: 84.62%\n",
      "Epoch 47, Loss: 0.26187220480664614\n",
      "Accuracy: 84.93%\n",
      "Epoch 48, Loss: 0.25717634423766905\n",
      "Accuracy: 86.43%\n",
      "Epoch 49, Loss: 0.26166301092985644\n",
      "Accuracy: 85.50%\n",
      "Epoch 50, Loss: 0.2610957657780184\n",
      "Accuracy: 85.16%\n",
      "Epoch 51, Loss: 0.24623058328543174\n",
      "Accuracy: 85.10%\n",
      "Epoch 52, Loss: 0.25309951096544486\n",
      "Accuracy: 85.38%\n",
      "Epoch 53, Loss: 0.2469511575749158\n",
      "Accuracy: 83.17%\n",
      "Epoch 54, Loss: 0.24261357412313866\n",
      "Accuracy: 85.53%\n",
      "Epoch 55, Loss: 0.23847054652012217\n",
      "Accuracy: 85.99%\n",
      "Epoch 56, Loss: 0.23412101574794716\n",
      "Accuracy: 85.64%\n",
      "Epoch 57, Loss: 0.2369813395049566\n",
      "Accuracy: 84.14%\n",
      "Epoch 58, Loss: 0.22762873298143182\n",
      "Accuracy: 86.08%\n",
      "Early stopping\n"
     ]
    }
   ],
   "source": [
    "early_stopping = EarlyStopping(patience=10)\n",
    "\n",
    "for epoch in range(200):  # 最大エポック数\n",
    "    train(model, train_loader, criterion, optimizer, epoch)\n",
    "    validation_loss = validate(model, test_loader)\n",
    "    \n",
    "    # Early Stopping をチェック\n",
    "    if early_stopping(validation_loss):\n",
    "        break"
   ]
  },
  {
   "cell_type": "code",
   "execution_count": 47,
   "metadata": {},
   "outputs": [],
   "source": [
    "# モデルのパラメータを保存\n",
    "torch.save(model.state_dict(), 'cifar_classifier.pth')\n"
   ]
  },
  {
   "cell_type": "code",
   "execution_count": 44,
   "metadata": {
    "colab": {
     "base_uri": "https://localhost:8080/",
     "height": 121
    },
    "id": "EmHJrsk5cUB3",
    "outputId": "1805d1cf-be6a-4095-9a0d-24f265e34e82"
   },
   "outputs": [
    {
     "data": {
      "image/png": "[encoded data removed]",
      "text/plain": [
       "<Figure size 1500x500 with 10 Axes>"
      ]
     },
     "metadata": {},
     "output_type": "display_data"
    }
   ],
   "source": [
    "import matplotlib.pyplot as plt\n",
    "import numpy as np\n",
    "\n",
    "def visualize_predictions(model, test_loader, classes):\n",
    "    model.eval()\n",
    "    with torch.no_grad():\n",
    "        for data, target in test_loader:\n",
    "            # モデルによる予測\n",
    "            output = model(data)\n",
    "            pred = output.argmax(dim=1, keepdim=True).squeeze(dim=1)\n",
    "\n",
    "            # 画像の表示（最大10枚まで）\n",
    "            num_images = min(len(data), 10)  # 最大表示数\n",
    "            fig, axes = plt.subplots(1, num_images, figsize=(15, 5))\n",
    "            if num_images == 1:  # バッチサイズが1の場合\n",
    "                axes = [axes]\n",
    "\n",
    "            for i in range(num_images):\n",
    "                img = data[i].numpy()\n",
    "                img = np.transpose(img, (1, 2, 0))  # チャネルの順序を変換\n",
    "                img = (img * 0.5 + 0.5).clip(0, 1)  # 正規化を元に戻す\n",
    "\n",
    "                axes[i].imshow(img)\n",
    "                axes[i].set_title(f\"Pred: {classes[pred[i].item()]}\\nTrue: {classes[target[i].item()]}\")\n",
    "                axes[i].axis(\"off\")\n",
    "\n",
    "            plt.show()\n",
    "            break  # 最初のバッチのみ表示\n",
    "visualize_predictions(model, test_loader, classes)\n"
   ]
  },
  {
   "cell_type": "code",
   "execution_count": 49,
   "metadata": {
    "id": "fcKblsgAjVs_"
   },
   "outputs": [
    {
     "name": "stdout",
     "output_type": "stream",
     "text": [
      "テストデータの正解率: 86.15%\n"
     ]
    }
   ],
   "source": [
    "def calculate_accuracy(model, data_loader):\n",
    "    model.eval()  # 評価モードに設定\n",
    "    correct = 0\n",
    "    total = 0\n",
    "\n",
    "    with torch.no_grad():  # 勾配計算を無効化\n",
    "        for images, labels in data_loader:\n",
    "            outputs = model(images)\n",
    "            _, predicted = torch.max(outputs, 1)  # 最大値のインデックスを取得\n",
    "            total += labels.size(0)\n",
    "            correct += (predicted == labels).sum().item()\n",
    "\n",
    "    accuracy = 100 * correct / total\n",
    "    return accuracy\n",
    "\n",
    "test_accuracy = calculate_accuracy(model, test_loader)\n",
    "print(f\"テストデータの正解率: {test_accuracy:.2f}%\")\n"
   ]
  },
  {
   "cell_type": "code",
   "execution_count": null,
   "metadata": {
    "id": "kj0UfReAcUD4"
   },
   "outputs": [],
   "source": []
  },
  {
   "cell_type": "code",
   "execution_count": null,
   "metadata": {
    "id": "yzsgENeJcUH2"
   },
   "outputs": [],
   "source": []
  },
  {
   "cell_type": "code",
   "execution_count": null,
   "metadata": {
    "id": "3d_aFsjOcUKT"
   },
   "outputs": [],
   "source": []
  }
 ],
 "metadata": {
  "accelerator": "GPU",
  "colab": {
   "gpuType": "T4",
   "provenance": []
  },
  "kernelspec": {
   "display_name": "Python 3 (ipykernel)",
   "language": "python",
   "name": "python3"
  },
  "language_info": {
   "codemirror_mode": {
    "name": "ipython",
    "version": 3
   },
   "file_extension": ".py",
   "mimetype": "text/x-python",
   "name": "python",
   "nbconvert_exporter": "python",
   "pygments_lexer": "ipython3",
   "version": "3.12.4"
  }
 },
 "nbformat": 4,
 "nbformat_minor": 4
}
