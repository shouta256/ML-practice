{
 "cells": [
  {
   "cell_type": "markdown",
   "id": "2843136a-f218-4c62-86fb-d3310cb5af91",
   "metadata": {},
   "source": [
    "# スタッキング（Stacking）\n",
    "複数の異なるモデル（ベースモデル）の予測結果を、新たなモデル（メタモデル）に入力し、最終的な予測を行う方法  \n",
    "異なる種類のモデルの強みを組み合わせられるため、単一モデルよりも性能が向上することがある  \n",
    "複数のモデル間の相補性を活かせる"
   ]
  },
  {
   "cell_type": "code",
   "execution_count": 2,
   "id": "fe6d693f-b12e-4d4c-b48e-dc2cac44f055",
   "metadata": {},
   "outputs": [],
   "source": [
    "import torch\n",
    "import torch.nn as nn\n",
    "import torch.optim as optim\n",
    "import numpy as np\n",
    "\n",
    "# シード固定\n",
    "torch.manual_seed(42)\n",
    "np.random.seed(42)\n",
    "\n",
    "# サンプルデータ生成： y = 2*x + 1 にノイズを加える\n",
    "X = np.linspace(-1, 1, 100).reshape(-1, 1)\n",
    "y = 2 * X + 1 + np.random.normal(0, 0.1, X.shape)\n",
    "\n",
    "# NumPy → Tensor\n",
    "X_tensor = torch.tensor(X, dtype=torch.float32)\n",
    "y_tensor = torch.tensor(y, dtype=torch.float32)\n",
    "\n",
    "# シンプルなMLPモデル（1層隠れ層）\n",
    "class SimpleMLP(nn.Module):\n",
    "    def __init__(self, hidden_size=16):\n",
    "        super(SimpleMLP, self).__init__()\n",
    "        self.fc1 = nn.Linear(1, hidden_size)\n",
    "        self.relu = nn.ReLU()\n",
    "        self.fc2 = nn.Linear(hidden_size, 1)\n",
    "        \n",
    "    def forward(self, x):\n",
    "        x = self.fc1(x)\n",
    "        x = self.relu(x)\n",
    "        x = self.fc2(x)\n",
    "        return x\n",
    "\n",
    "# シンプルな学習ループ（エポック数は100）\n",
    "def train_model(model, optimizer, epochs=100):\n",
    "    criterion = nn.MSELoss()\n",
    "    for epoch in range(epochs):\n",
    "        model.train()\n",
    "        optimizer.zero_grad()\n",
    "        preds = model(X_tensor)\n",
    "        loss = criterion(preds, y_tensor)\n",
    "        loss.backward()\n",
    "        optimizer.step()\n",
    "    return loss.item()\n"
   ]
  },
  {
   "cell_type": "code",
   "execution_count": 3,
   "id": "3a0493fc-f54d-4b38-9e68-f19642756e73",
   "metadata": {},
   "outputs": [
    {
     "name": "stdout",
     "output_type": "stream",
     "text": [
      "Stacking ensemble final loss: 0.33685579895973206\n"
     ]
    }
   ],
   "source": [
    "# 2つの基底モデルを学習（全データで学習）\n",
    "base_model1 = SimpleMLP(hidden_size=16)\n",
    "optimizer_b1 = optim.Adam(base_model1.parameters(), lr=0.01)\n",
    "train_model(base_model1, optimizer_b1, epochs=100)\n",
    "\n",
    "base_model2 = SimpleMLP(hidden_size=16)\n",
    "optimizer_b2 = optim.Adam(base_model2.parameters(), lr=0.01)\n",
    "train_model(base_model2, optimizer_b2, epochs=100)\n",
    "\n",
    "# 基底モデルの予測を収集\n",
    "with torch.no_grad():\n",
    "    pred1 = base_model1(X_tensor)\n",
    "    pred2 = base_model2(X_tensor)\n",
    "# 2つの予測を横に結合：形状 (n_samples, 2)\n",
    "stacked_features = torch.cat([pred1, pred2], dim=1)\n",
    "\n",
    "# メタモデル（単純な線形回帰）\n",
    "class MetaModel(nn.Module):\n",
    "    def __init__(self):\n",
    "        super(MetaModel, self).__init__()\n",
    "        self.linear = nn.Linear(2, 1)\n",
    "    def forward(self, x):\n",
    "        return self.linear(x)\n",
    "\n",
    "meta_model = MetaModel()\n",
    "optimizer_meta = optim.Adam(meta_model.parameters(), lr=0.01)\n",
    "\n",
    "# メタモデルの訓練\n",
    "def train_meta(meta_model, features, target, optimizer, epochs=100):\n",
    "    criterion = nn.MSELoss()\n",
    "    for epoch in range(epochs):\n",
    "        meta_model.train()\n",
    "        optimizer.zero_grad()\n",
    "        preds = meta_model(features)\n",
    "        loss = criterion(preds, target)\n",
    "        loss.backward()\n",
    "        optimizer.step()\n",
    "    return loss.item()\n",
    "\n",
    "meta_loss = train_meta(meta_model, stacked_features, y_tensor, optimizer_meta, epochs=100)\n",
    "\n",
    "# 最終予測：基底モデルの予測をメタモデルに入力\n",
    "with torch.no_grad():\n",
    "    meta_preds = meta_model(stacked_features)\n",
    "print(\"Stacking ensemble final loss:\", nn.MSELoss()(meta_preds, y_tensor).item())\n"
   ]
  },
  {
   "cell_type": "code",
   "execution_count": null,
   "id": "00ca1d80-4c33-4451-a808-7505d3b7d33a",
   "metadata": {},
   "outputs": [],
   "source": []
  }
 ],
 "metadata": {
  "kernelspec": {
   "display_name": "Python (torch_env)",
   "language": "python",
   "name": "torch_env"
  },
  "language_info": {
   "codemirror_mode": {
    "name": "ipython",
    "version": 3
   },
   "file_extension": ".py",
   "mimetype": "text/x-python",
   "name": "python",
   "nbconvert_exporter": "python",
   "pygments_lexer": "ipython3",
   "version": "3.10.16"
  }
 },
 "nbformat": 4,
 "nbformat_minor": 5
}
