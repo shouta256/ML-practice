{
 "cells": [
  {
   "cell_type": "markdown",
   "id": "52124e5a-fcdc-41b7-b804-c4f306648160",
   "metadata": {},
   "source": [
    "# ブレンディング（Blending）\n",
    "ホールドアウト検証セットを使ってベースモデルの予測結果をメタモデルに入力する  \n",
    "計算コストが低く、実装がシンプルな場合が多い"
   ]
  },
  {
   "cell_type": "code",
   "execution_count": 9,
   "id": "5a253fc4-7db8-49f8-a7f7-70ae7bb12efe",
   "metadata": {},
   "outputs": [],
   "source": [
    "import torch\n",
    "import torch.nn as nn\n",
    "import torch.optim as optim\n",
    "import numpy as np\n",
    "from sklearn.model_selection import train_test_split\n",
    "\n",
    "# シード固定\n",
    "torch.manual_seed(42)\n",
    "np.random.seed(42)\n",
    "\n",
    "# サンプルデータ生成： y = 2*x + 1 にノイズを加える\n",
    "X = np.linspace(-1, 1, 100).reshape(-1, 1)\n",
    "y = 2 * X + 1 + np.random.normal(0, 0.1, X.shape)\n",
    "\n",
    "# NumPy → Tensor\n",
    "X_tensor = torch.tensor(X, dtype=torch.float32)\n",
    "y_tensor = torch.tensor(y, dtype=torch.float32)\n",
    "\n",
    "# シンプルなMLPモデル（1層隠れ層）\n",
    "class SimpleMLP(nn.Module):\n",
    "    def __init__(self, hidden_size=16):\n",
    "        super(SimpleMLP, self).__init__()\n",
    "        self.fc1 = nn.Linear(1, hidden_size)\n",
    "        self.relu = nn.ReLU()\n",
    "        self.fc2 = nn.Linear(hidden_size, 1)\n",
    "        \n",
    "    def forward(self, x):\n",
    "        x = self.fc1(x)\n",
    "        x = self.relu(x)\n",
    "        x = self.fc2(x)\n",
    "        return x\n",
    "\n",
    "# メタモデル（スタッキング・ブレンディング用のシンプルな線形モデル）\n",
    "class MetaModel(nn.Module):\n",
    "    def __init__(self):\n",
    "        super(MetaModel, self).__init__()\n",
    "        self.linear = nn.Linear(2, 1)\n",
    "        \n",
    "    def forward(self, x):\n",
    "        return self.linear(x)\n",
    "\n",
    "# シンプルな学習ループ\n",
    "def train_on_data(model, optimizer, X_data, y_data, epochs=100):\n",
    "    criterion = nn.MSELoss()\n",
    "    for epoch in range(epochs):\n",
    "        model.train()\n",
    "        optimizer.zero_grad()\n",
    "        preds = model(X_data)\n",
    "        loss = criterion(preds, y_data)\n",
    "        loss.backward()\n",
    "        optimizer.step()\n",
    "    return loss.item()\n",
    "\n"
   ]
  },
  {
   "cell_type": "code",
   "execution_count": 11,
   "id": "cdb486d8-b990-48cf-9d04-8240a318ea10",
   "metadata": {},
   "outputs": [
    {
     "name": "stdout",
     "output_type": "stream",
     "text": [
      "Blending ensemble final loss: 0.3350297510623932\n"
     ]
    }
   ],
   "source": [
    "# ホールドアウトセットを使ってブレンディング用データを作成\n",
    "X_train, X_holdout, y_train, y_holdout = train_test_split(X_tensor, y_tensor, test_size=0.2, random_state=42)\n",
    "\n",
    "# 基底モデル1と基底モデル2を学習（ホールドアウトセット以外で訓練）\n",
    "base_model1 = SimpleMLP(hidden_size=16)\n",
    "optimizer_b1 = optim.Adam(base_model1.parameters(), lr=0.01)\n",
    "train_on_data(base_model1, optimizer_b1, X_train, y_train, epochs=100)\n",
    "\n",
    "base_model2 = SimpleMLP(hidden_size=16)\n",
    "optimizer_b2 = optim.Adam(base_model2.parameters(), lr=0.01)\n",
    "train_on_data(base_model2, optimizer_b2, X_train, y_train, epochs=100)\n",
    "\n",
    "# ホールドアウトセットで基底モデルの予測を取得\n",
    "with torch.no_grad():\n",
    "    pred1_holdout = base_model1(X_holdout)\n",
    "    pred2_holdout = base_model2(X_holdout)\n",
    "# スタック：ホールドアウトセットでの予測をメタモデルへの入力として利用\n",
    "stacked_holdout = torch.cat([pred1_holdout, pred2_holdout], dim=1)\n",
    "\n",
    "# メタモデルの定義と訓練（ブレンディング用）\n",
    "meta_model = MetaModel()\n",
    "optimizer_meta = optim.Adam(meta_model.parameters(), lr=0.01)\n",
    "def train_meta(meta_model, features, target, optimizer, epochs=100):\n",
    "    criterion = nn.MSELoss()\n",
    "    for epoch in range(epochs):\n",
    "        meta_model.train()\n",
    "        optimizer.zero_grad()\n",
    "        preds = meta_model(features)\n",
    "        loss = criterion(preds, target)\n",
    "        loss.backward()\n",
    "        optimizer.step()\n",
    "    return loss.item()\n",
    "\n",
    "meta_loss = train_meta(meta_model, stacked_holdout, y_holdout, optimizer_meta, epochs=100)\n",
    "\n",
    "# 最終予測：ホールドアウトセットではなく全データに対して基底モデルの予測を取得し、メタモデルに入力する\n",
    "with torch.no_grad():\n",
    "    pred1_all = base_model1(X_tensor)\n",
    "    pred2_all = base_model2(X_tensor)\n",
    "    stacked_all = torch.cat([pred1_all, pred2_all], dim=1)\n",
    "    blend_preds = meta_model(stacked_all)\n",
    "\n",
    "final_loss = nn.MSELoss()(blend_preds, y_tensor).item()\n",
    "print(\"Blending ensemble final loss:\", final_loss)\n"
   ]
  },
  {
   "cell_type": "code",
   "execution_count": null,
   "id": "f60e1d99-a3af-49f8-8bd4-63d68cff4069",
   "metadata": {},
   "outputs": [],
   "source": []
  }
 ],
 "metadata": {
  "kernelspec": {
   "display_name": "Python (torch_env)",
   "language": "python",
   "name": "torch_env"
  },
  "language_info": {
   "codemirror_mode": {
    "name": "ipython",
    "version": 3
   },
   "file_extension": ".py",
   "mimetype": "text/x-python",
   "name": "python",
   "nbconvert_exporter": "python",
   "pygments_lexer": "ipython3",
   "version": "3.10.16"
  }
 },
 "nbformat": 4,
 "nbformat_minor": 5
}
