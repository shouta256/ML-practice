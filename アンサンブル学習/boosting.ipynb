{
 "cells": [
  {
   "cell_type": "markdown",
   "id": "9f699e32-833c-4d06-97fb-2ab35c42b642",
   "metadata": {},
   "source": [
    "# ブースティング（Boosting）\n",
    "逐次的にモデルを学習し、前のモデルが間違えたサンプルに対して重みを大きくすることで、全体の予測性能を向上させる手法  \n",
    "弱学習器（弱い予測器）を組み合わせることで、強力な予測器を構築できる  \n",
    "適切な正則化やパラメータ調整により、過学習を防ぎながら高い精度が得られる"
   ]
  },
  {
   "cell_type": "code",
   "execution_count": 2,
   "id": "9dc1c9df-e884-4d48-8863-36324c9b11af",
   "metadata": {},
   "outputs": [],
   "source": [
    "import torch\n",
    "import torch.nn as nn\n",
    "import torch.optim as optim\n",
    "import numpy as np\n",
    "\n",
    "# シード固定\n",
    "torch.manual_seed(42)\n",
    "np.random.seed(42)\n",
    "\n",
    "# サンプルデータ生成： y = 2*x + 1 にノイズを加える\n",
    "X = np.linspace(-1, 1, 100).reshape(-1, 1)\n",
    "y = 2 * X + 1 + np.random.normal(0, 0.1, X.shape)\n",
    "\n",
    "# NumPy → Tensor\n",
    "X_tensor = torch.tensor(X, dtype=torch.float32)\n",
    "y_tensor = torch.tensor(y, dtype=torch.float32)\n",
    "\n",
    "# シンプルなMLPモデル（1層隠れ層）\n",
    "class SimpleMLP(nn.Module):\n",
    "    def __init__(self, hidden_size=16):\n",
    "        super(SimpleMLP, self).__init__()\n",
    "        self.fc1 = nn.Linear(1, hidden_size)\n",
    "        self.relu = nn.ReLU()\n",
    "        self.fc2 = nn.Linear(hidden_size, 1)\n",
    "        \n",
    "    def forward(self, x):\n",
    "        x = self.fc1(x)\n",
    "        x = self.relu(x)\n",
    "        x = self.fc2(x)\n",
    "        return x\n",
    "\n",
    "# シンプルな学習ループ（エポック数は100）\n",
    "def train_model(model, optimizer, epochs=100):\n",
    "    criterion = nn.MSELoss()\n",
    "    for epoch in range(epochs):\n",
    "        model.train()\n",
    "        optimizer.zero_grad()\n",
    "        preds = model(X_tensor)\n",
    "        loss = criterion(preds, y_tensor)\n",
    "        loss.backward()\n",
    "        optimizer.step()\n",
    "    return loss.item()\n"
   ]
  },
  {
   "cell_type": "code",
   "execution_count": 4,
   "id": "abc1b800-ba00-42e0-98a8-23d8f528c7a8",
   "metadata": {},
   "outputs": [
    {
     "name": "stdout",
     "output_type": "stream",
     "text": [
      "Boosting ensemble final loss: 0.009433283470571041\n"
     ]
    }
   ],
   "source": [
    "# 1台目のモデル（初期予測器）\n",
    "model1 = SimpleMLP(hidden_size=16)\n",
    "optimizer1 = optim.Adam(model1.parameters(), lr=0.01)\n",
    "train_model(model1, optimizer1, epochs=100)\n",
    "\n",
    "# 残差計算： y - model1(x)\n",
    "with torch.no_grad():\n",
    "    residual = y_tensor - model1(X_tensor)\n",
    "\n",
    "# 2台目のモデル（残差予測器）\n",
    "model2 = SimpleMLP(hidden_size=16)\n",
    "optimizer2 = optim.Adam(model2.parameters(), lr=0.01)\n",
    "# 残差を目的として学習\n",
    "def train_model_on_residual(model, optimizer, target, epochs=100):\n",
    "    criterion = nn.MSELoss()\n",
    "    for epoch in range(epochs):\n",
    "        model.train()\n",
    "        optimizer.zero_grad()\n",
    "        preds = model(X_tensor)\n",
    "        loss = criterion(preds, target)\n",
    "        loss.backward()\n",
    "        optimizer.step()\n",
    "    return loss.item()\n",
    "\n",
    "train_model_on_residual(model2, optimizer2, residual, epochs=100)\n",
    "\n",
    "# ブースティングの最終予測（学習率 eta を調整）\n",
    "eta = 0.5\n",
    "with torch.no_grad():\n",
    "    boost_preds = model1(X_tensor) + eta * model2(X_tensor)\n",
    "\n",
    "print(\"Boosting ensemble final loss:\", nn.MSELoss()(boost_preds, y_tensor).item())\n"
   ]
  }
 ],
 "metadata": {
  "kernelspec": {
   "display_name": "Python (torch_env)",
   "language": "python",
   "name": "torch_env"
  },
  "language_info": {
   "codemirror_mode": {
    "name": "ipython",
    "version": 3
   },
   "file_extension": ".py",
   "mimetype": "text/x-python",
   "name": "python",
   "nbconvert_exporter": "python",
   "pygments_lexer": "ipython3",
   "version": "3.10.16"
  }
 },
 "nbformat": 4,
 "nbformat_minor": 5
}
