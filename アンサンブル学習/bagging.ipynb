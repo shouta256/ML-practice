{
 "cells": [
  {
   "cell_type": "markdown",
   "id": "2a505a65-efc6-4d2f-ba57-6e91757ad764",
   "metadata": {},
   "source": [
    "# バギング（Bagging: Bootstrap Aggregating）\n",
    "複数のサブデータセット（元のデータからブートストラップサンプリングによって抽出されたデータ）を用いて個別にモデルを学習し、その予測結果を平均（回帰の場合）または多数決（分類の場合）で統合する  \n",
    "ランダムフォレストは、バギングの代表例  \n",
    "各モデルが独立して学習されるため、過学習のリスクが低減される  \n",
    "ノイズの影響が平均化され、安定した予測が期待できる  \n",
    "データのばらつきやノイズに対してロバスト"
   ]
  },
  {
   "cell_type": "code",
   "execution_count": 2,
   "id": "cce0ccb7-91ff-4857-aaea-5e67ab66185f",
   "metadata": {},
   "outputs": [],
   "source": [
    "import torch\n",
    "import torch.nn as nn\n",
    "import torch.optim as optim\n",
    "import numpy as np\n",
    "\n",
    "# シード固定\n",
    "torch.manual_seed(42)\n",
    "np.random.seed(42)\n",
    "\n",
    "# サンプルデータ生成： y = 2*x + 1 にノイズを加える\n",
    "X = np.linspace(-1, 1, 100).reshape(-1, 1)\n",
    "y = 2 * X + 1 + np.random.normal(0, 0.1, X.shape)\n",
    "\n",
    "# NumPy → Tensor\n",
    "X_tensor = torch.tensor(X, dtype=torch.float32)\n",
    "y_tensor = torch.tensor(y, dtype=torch.float32)\n",
    "\n",
    "# シンプルなMLPモデル（1層隠れ層）\n",
    "class SimpleMLP(nn.Module):\n",
    "    def __init__(self, hidden_size=16):\n",
    "        super(SimpleMLP, self).__init__()\n",
    "        self.fc1 = nn.Linear(1, hidden_size)\n",
    "        self.relu = nn.ReLU()\n",
    "        self.fc2 = nn.Linear(hidden_size, 1)\n",
    "        \n",
    "    def forward(self, x):\n",
    "        x = self.fc1(x)\n",
    "        x = self.relu(x)\n",
    "        x = self.fc2(x)\n",
    "        return x\n",
    "\n",
    "# シンプルな学習ループ（エポック数は100）\n",
    "def train_model(model, optimizer, epochs=100):\n",
    "    criterion = nn.MSELoss()\n",
    "    for epoch in range(epochs):\n",
    "        model.train()\n",
    "        optimizer.zero_grad()\n",
    "        preds = model(X_tensor)\n",
    "        loss = criterion(preds, y_tensor)\n",
    "        loss.backward()\n",
    "        optimizer.step()\n",
    "    return loss.item()\n"
   ]
  },
  {
   "cell_type": "code",
   "execution_count": 6,
   "id": "303b2811-29bf-4e99-86e4-b284a20a0bf5",
   "metadata": {},
   "outputs": [
    {
     "name": "stdout",
     "output_type": "stream",
     "text": [
      "Bagging ensemble final loss: 0.008324990049004555\n"
     ]
    }
   ],
   "source": [
    "def bootstrap_sample(X, y):\n",
    "    # ブートストラップサンプリング\n",
    "    n = X.shape[0]\n",
    "    indices = np.random.choice(n, n, replace=True)\n",
    "    return X[indices], y[indices]\n",
    "\n",
    "num_models = 5\n",
    "bagged_models = []\n",
    "for i in range(num_models):\n",
    "    # ブートストラップサンプルを作成\n",
    "    X_bs, y_bs = bootstrap_sample(X_tensor, y_tensor)\n",
    "    # 各モデルを初期化\n",
    "    model = SimpleMLP(hidden_size=16)\n",
    "    optimizer = optim.Adam(model.parameters(), lr=0.01)\n",
    "    # サンプル用のデータを使って訓練（ここでは100エポック）\n",
    "    criterion = nn.MSELoss()\n",
    "    for epoch in range(100):\n",
    "        model.train()\n",
    "        optimizer.zero_grad()\n",
    "        preds = model(X_bs)\n",
    "        loss = criterion(preds, y_bs)\n",
    "        loss.backward()\n",
    "        optimizer.step()\n",
    "    bagged_models.append(model)\n",
    "\n",
    "# 予測：各モデルの予測を平均\n",
    "def bagging_predict(x):\n",
    "    preds = []\n",
    "    for model in bagged_models:\n",
    "        model.eval()           # 各モデルを評価モードに切り替える\n",
    "        with torch.no_grad():\n",
    "            pred = model(x)    # 予測値を計算\n",
    "        preds.append(pred)\n",
    "    preds = torch.stack(preds, dim=0)\n",
    "    return preds.mean(dim=0)\n",
    "\n",
    "bagging_preds = bagging_predict(X_tensor)\n",
    "print(\"Bagging ensemble final loss:\", nn.MSELoss()(bagging_preds, y_tensor).item())\n"
   ]
  },
  {
   "cell_type": "code",
   "execution_count": null,
   "id": "59ad5340-1da6-4ff8-b3b8-5a9016cd68bc",
   "metadata": {},
   "outputs": [],
   "source": []
  }
 ],
 "metadata": {
  "kernelspec": {
   "display_name": "Python (torch_env)",
   "language": "python",
   "name": "torch_env"
  },
  "language_info": {
   "codemirror_mode": {
    "name": "ipython",
    "version": 3
   },
   "file_extension": ".py",
   "mimetype": "text/x-python",
   "name": "python",
   "nbconvert_exporter": "python",
   "pygments_lexer": "ipython3",
   "version": "3.10.16"
  }
 },
 "nbformat": 4,
 "nbformat_minor": 5
}
