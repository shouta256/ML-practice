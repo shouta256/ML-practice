{
 "cells": [
  {
   "cell_type": "markdown",
   "id": "417a2f81-6092-4c56-9f94-7c59332280fd",
   "metadata": {},
   "source": [
    "# Adagrad\n",
    "各パラメータごとに適応的な学習率を割り当てる手法  \n",
    "パラメータの更新頻度に応じて学習率が自動調整されるため、希少な特徴量にも対応するが、学習率がどんどん小さくなる傾向がある"
   ]
  },
  {
   "cell_type": "code",
   "execution_count": 2,
   "id": "a0ca4166-074c-4bc6-a478-6a498f3aaddf",
   "metadata": {},
   "outputs": [],
   "source": [
    "import torch\n",
    "import torch.nn as nn\n",
    "import torch.optim as optim\n",
    "import numpy as np\n",
    "\n",
    "# シード固定\n",
    "torch.manual_seed(42)\n",
    "np.random.seed(42)\n",
    "\n",
    "# サンプルデータ生成： y = 2*x + 1 にノイズ\n",
    "X = np.linspace(-1, 1, 100).reshape(-1, 1)\n",
    "y = 2 * X + 1 + np.random.normal(0, 0.1, X.shape)\n",
    "\n",
    "# NumPyからTensorに変換\n",
    "X_tensor = torch.tensor(X, dtype=torch.float32)\n",
    "y_tensor = torch.tensor(y, dtype=torch.float32)\n",
    "\n",
    "# シンプルな線形モデル：入力1次元、出力1次元\n",
    "def create_model():\n",
    "    return nn.Linear(1, 1)\n",
    "\n",
    "# 訓練ループ（エポック数は固定：100エポック）\n",
    "def train_model(model, optimizer, epochs=100):\n",
    "    criterion = nn.MSELoss()\n",
    "    for epoch in range(epochs):\n",
    "        model.train()\n",
    "        optimizer.zero_grad()\n",
    "        preds = model(X_tensor)\n",
    "        loss = criterion(preds, y_tensor)\n",
    "        loss.backward()\n",
    "        optimizer.step()\n",
    "    return loss.item()\n"
   ]
  },
  {
   "cell_type": "code",
   "execution_count": 4,
   "id": "8679a49e-4543-4b58-b0ae-40f357297d29",
   "metadata": {},
   "outputs": [
    {
     "name": "stdout",
     "output_type": "stream",
     "text": [
      "Adagrad Loss: 0.011433648876845837\n"
     ]
    }
   ],
   "source": [
    "model_adagrad = create_model()\n",
    "# Adagrad: 各パラメータごとに学習率を適応的に更新\n",
    "optimizer_adagrad = optim.Adagrad(model_adagrad.parameters(), lr=0.1)\n",
    "loss_adagrad = train_model(model_adagrad, optimizer_adagrad)\n",
    "print(\"Adagrad Loss:\", loss_adagrad)\n"
   ]
  }
 ],
 "metadata": {
  "kernelspec": {
   "display_name": "Python (torch_env)",
   "language": "python",
   "name": "torch_env"
  },
  "language_info": {
   "codemirror_mode": {
    "name": "ipython",
    "version": 3
   },
   "file_extension": ".py",
   "mimetype": "text/x-python",
   "name": "python",
   "nbconvert_exporter": "python",
   "pygments_lexer": "ipython3",
   "version": "3.10.16"
  }
 },
 "nbformat": 4,
 "nbformat_minor": 5
}
