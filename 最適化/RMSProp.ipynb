{
 "cells": [
  {
   "cell_type": "markdown",
   "id": "50256c82-3a8e-4330-9c54-9960f1a77528",
   "metadata": {},
   "source": [
    "# RMSProp\n",
    "Adagradの欠点（学習率が小さくなりすぎる）を補うため、最近の勾配の二乗平均を指数移動平均で管理する  \n",
    "学習率が一定の範囲内で安定し、反復が進むにつれて適切に更新される"
   ]
  },
  {
   "cell_type": "code",
   "execution_count": 2,
   "id": "0f8cd34a-3bc4-4999-9a06-5f858820d5f5",
   "metadata": {},
   "outputs": [],
   "source": [
    "import torch\n",
    "import torch.nn as nn\n",
    "import torch.optim as optim\n",
    "import numpy as np\n",
    "\n",
    "# シード固定\n",
    "torch.manual_seed(42)\n",
    "np.random.seed(42)\n",
    "\n",
    "# サンプルデータ生成： y = 2*x + 1 にノイズ\n",
    "X = np.linspace(-1, 1, 100).reshape(-1, 1)\n",
    "y = 2 * X + 1 + np.random.normal(0, 0.1, X.shape)\n",
    "\n",
    "# NumPyからTensorに変換\n",
    "X_tensor = torch.tensor(X, dtype=torch.float32)\n",
    "y_tensor = torch.tensor(y, dtype=torch.float32)\n",
    "\n",
    "# シンプルな線形モデル：入力1次元、出力1次元\n",
    "def create_model():\n",
    "    return nn.Linear(1, 1)\n",
    "\n",
    "# 訓練ループ（エポック数は固定：100エポック）\n",
    "def train_model(model, optimizer, epochs=100):\n",
    "    criterion = nn.MSELoss()\n",
    "    for epoch in range(epochs):\n",
    "        model.train()\n",
    "        optimizer.zero_grad()\n",
    "        preds = model(X_tensor)\n",
    "        loss = criterion(preds, y_tensor)\n",
    "        loss.backward()\n",
    "        optimizer.step()\n",
    "    return loss.item()\n"
   ]
  },
  {
   "cell_type": "code",
   "execution_count": 3,
   "id": "595ca1ec-3a43-45c8-b30c-7aac2be3a8d9",
   "metadata": {},
   "outputs": [
    {
     "name": "stdout",
     "output_type": "stream",
     "text": [
      "RMSProp Loss: 0.009307713247835636\n"
     ]
    }
   ],
   "source": [
    "model_rmsprop = create_model()\n",
    "# RMSProp: 勾配の二乗平均を指数移動平均で管理し、学習率を安定化\n",
    "optimizer_rmsprop = optim.RMSprop(model_rmsprop.parameters(), lr=0.01)\n",
    "loss_rmsprop = train_model(model_rmsprop, optimizer_rmsprop)\n",
    "print(\"RMSProp Loss:\", loss_rmsprop)\n"
   ]
  },
  {
   "cell_type": "code",
   "execution_count": null,
   "id": "f35f104f-fbb7-4e39-bfc7-0db022174a47",
   "metadata": {},
   "outputs": [],
   "source": []
  }
 ],
 "metadata": {
  "kernelspec": {
   "display_name": "Python (torch_env)",
   "language": "python",
   "name": "torch_env"
  },
  "language_info": {
   "codemirror_mode": {
    "name": "ipython",
    "version": 3
   },
   "file_extension": ".py",
   "mimetype": "text/x-python",
   "name": "python",
   "nbconvert_exporter": "python",
   "pygments_lexer": "ipython3",
   "version": "3.10.16"
  }
 },
 "nbformat": 4,
 "nbformat_minor": 5
}
