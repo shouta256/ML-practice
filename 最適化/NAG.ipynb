{
 "cells": [
  {
   "cell_type": "markdown",
   "id": "c6cffadb-87f4-44f5-abd6-cdf1fd831c73",
   "metadata": {},
   "source": [
    "# Nesterov Accelerated Gradient (NAG)\n",
    "モーメンタムに加え、次の位置での勾配を予測して更新する手法  \n",
    "収束速度がさらに向上し、勾配の「先読み」によりオーバーシュートを抑制する  \n"
   ]
  },
  {
   "cell_type": "code",
   "execution_count": 1,
   "id": "d119cf2b-d072-4b2e-a7d8-d3437d956172",
   "metadata": {},
   "outputs": [],
   "source": [
    "import torch\n",
    "import torch.nn as nn\n",
    "import torch.optim as optim\n",
    "import numpy as np\n",
    "\n",
    "# シード固定\n",
    "torch.manual_seed(42)\n",
    "np.random.seed(42)\n",
    "\n",
    "# サンプルデータ生成： y = 2*x + 1 にノイズ\n",
    "X = np.linspace(-1, 1, 100).reshape(-1, 1)\n",
    "y = 2 * X + 1 + np.random.normal(0, 0.1, X.shape)\n",
    "\n",
    "# NumPyからTensorに変換\n",
    "X_tensor = torch.tensor(X, dtype=torch.float32)\n",
    "y_tensor = torch.tensor(y, dtype=torch.float32)\n",
    "\n",
    "# シンプルな線形モデル：入力1次元、出力1次元\n",
    "def create_model():\n",
    "    return nn.Linear(1, 1)\n",
    "\n",
    "# 訓練ループ（エポック数は固定：100エポック）\n",
    "def train_model(model, optimizer, epochs=100):\n",
    "    criterion = nn.MSELoss()\n",
    "    for epoch in range(epochs):\n",
    "        model.train()\n",
    "        optimizer.zero_grad()\n",
    "        preds = model(X_tensor)\n",
    "        loss = criterion(preds, y_tensor)\n",
    "        loss.backward()\n",
    "        optimizer.step()\n",
    "    return loss.item()\n"
   ]
  },
  {
   "cell_type": "code",
   "execution_count": 3,
   "id": "b4cc3dc1-713a-42a8-86a1-27f186eaf005",
   "metadata": {},
   "outputs": [
    {
     "name": "stdout",
     "output_type": "stream",
     "text": [
      "SGD with Nesterov Loss: 0.008149058558046818\n"
     ]
    }
   ],
   "source": [
    "model_nesterov = create_model()\n",
    "# Nesterov: momentum=0.9 と nesterov=True を設定\n",
    "optimizer_nesterov = optim.SGD(model_nesterov.parameters(), lr=0.1, momentum=0.9, nesterov=True)\n",
    "loss_nesterov = train_model(model_nesterov, optimizer_nesterov)\n",
    "print(\"SGD with Nesterov Loss:\", loss_nesterov)\n"
   ]
  }
 ],
 "metadata": {
  "kernelspec": {
   "display_name": "Python (torch_env)",
   "language": "python",
   "name": "torch_env"
  },
  "language_info": {
   "codemirror_mode": {
    "name": "ipython",
    "version": 3
   },
   "file_extension": ".py",
   "mimetype": "text/x-python",
   "name": "python",
   "nbconvert_exporter": "python",
   "pygments_lexer": "ipython3",
   "version": "3.10.16"
  }
 },
 "nbformat": 4,
 "nbformat_minor": 5
}
