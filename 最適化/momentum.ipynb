{
 "cells": [
  {
   "cell_type": "markdown",
   "id": "544d9f5a-02b9-4d2e-9bf2-997aabb98a9f",
   "metadata": {},
   "source": [
    "#  Momentum（モーメンタム\n",
    "前回の更新の方向（勾配）を考慮して、更新方向に慣性を持たせる  \n",
    "更新方向に一貫性が生まれ、局所解にとらわれにくくなる"
   ]
  },
  {
   "cell_type": "code",
   "execution_count": 1,
   "id": "1f2e66e1-c16a-4858-a2e0-9084e2316487",
   "metadata": {},
   "outputs": [],
   "source": [
    "import torch\n",
    "import torch.nn as nn\n",
    "import torch.optim as optim\n",
    "import numpy as np\n",
    "\n",
    "# シード固定\n",
    "torch.manual_seed(42)\n",
    "np.random.seed(42)\n",
    "\n",
    "# サンプルデータ生成： y = 2*x + 1 にノイズ\n",
    "X = np.linspace(-1, 1, 100).reshape(-1, 1)\n",
    "y = 2 * X + 1 + np.random.normal(0, 0.1, X.shape)\n",
    "\n",
    "# NumPyからTensorに変換\n",
    "X_tensor = torch.tensor(X, dtype=torch.float32)\n",
    "y_tensor = torch.tensor(y, dtype=torch.float32)\n",
    "\n",
    "# シンプルな線形モデル：入力1次元、出力1次元\n",
    "def create_model():\n",
    "    return nn.Linear(1, 1)\n",
    "\n",
    "# 訓練ループ（エポック数は固定：100エポック）\n",
    "def train_model(model, optimizer, epochs=100):\n",
    "    criterion = nn.MSELoss()\n",
    "    for epoch in range(epochs):\n",
    "        model.train()\n",
    "        optimizer.zero_grad()\n",
    "        preds = model(X_tensor)\n",
    "        loss = criterion(preds, y_tensor)\n",
    "        loss.backward()\n",
    "        optimizer.step()\n",
    "    return loss.item()\n"
   ]
  },
  {
   "cell_type": "code",
   "execution_count": 3,
   "id": "d7c05a21-c93e-40b5-8512-98a087be2480",
   "metadata": {},
   "outputs": [
    {
     "name": "stdout",
     "output_type": "stream",
     "text": [
      "SGD with Momentum Loss: 0.00815557036548853\n"
     ]
    }
   ],
   "source": [
    "model_momentum = create_model()\n",
    "# Momentum付きSGD: momentum=0.9 を設定\n",
    "optimizer_momentum = optim.SGD(model_momentum.parameters(), lr=0.1, momentum=0.9)\n",
    "loss_momentum = train_model(model_momentum, optimizer_momentum)\n",
    "print(\"SGD with Momentum Loss:\", loss_momentum)\n"
   ]
  }
 ],
 "metadata": {
  "kernelspec": {
   "display_name": "Python (torch_env)",
   "language": "python",
   "name": "torch_env"
  },
  "language_info": {
   "codemirror_mode": {
    "name": "ipython",
    "version": 3
   },
   "file_extension": ".py",
   "mimetype": "text/x-python",
   "name": "python",
   "nbconvert_exporter": "python",
   "pygments_lexer": "ipython3",
   "version": "3.10.16"
  }
 },
 "nbformat": 4,
 "nbformat_minor": 5
}
