{
 "cells": [
  {
   "cell_type": "markdown",
   "id": "a1b879b7-d9f2-4f55-b445-536407326528",
   "metadata": {},
   "source": [
    "# 確率的勾配降下法（SGD）\n",
    "ミニバッチ（または1サンプル）ごとにパラメータの更新を行う手法  \n",
    "大規模データセットでの計算効率が良いが、更新がノイズを含むため振動することがある\n"
   ]
  },
  {
   "cell_type": "code",
   "execution_count": 2,
   "id": "721cb7bb-8580-41e5-b7f6-f37388e8ea45",
   "metadata": {},
   "outputs": [],
   "source": [
    "import torch\n",
    "import torch.nn as nn\n",
    "import torch.optim as optim\n",
    "import numpy as np\n",
    "\n",
    "# シード固定\n",
    "torch.manual_seed(42)\n",
    "np.random.seed(42)\n",
    "\n",
    "# サンプルデータ生成： y = 2*x + 1 にノイズ\n",
    "X = np.linspace(-1, 1, 100).reshape(-1, 1)\n",
    "y = 2 * X + 1 + np.random.normal(0, 0.1, X.shape)\n",
    "\n",
    "# NumPyからTensorに変換\n",
    "X_tensor = torch.tensor(X, dtype=torch.float32)\n",
    "y_tensor = torch.tensor(y, dtype=torch.float32)\n",
    "\n",
    "# シンプルな線形モデル：入力1次元、出力1次元\n",
    "def create_model():\n",
    "    return nn.Linear(1, 1)\n",
    "\n",
    "# 訓練ループ（エポック数は固定：100エポック）\n",
    "def train_model(model, optimizer, epochs=100):\n",
    "    criterion = nn.MSELoss()\n",
    "    for epoch in range(epochs):\n",
    "        model.train()\n",
    "        optimizer.zero_grad()\n",
    "        preds = model(X_tensor)\n",
    "        loss = criterion(preds, y_tensor)\n",
    "        loss.backward()\n",
    "        optimizer.step()\n",
    "    return loss.item()\n"
   ]
  },
  {
   "cell_type": "code",
   "execution_count": 4,
   "id": "82358dde-1d2d-4430-914b-e29f5036aa61",
   "metadata": {},
   "outputs": [
    {
     "name": "stdout",
     "output_type": "stream",
     "text": [
      "SGD Loss: 0.008149509318172932\n"
     ]
    }
   ],
   "source": [
    "# モデル作成\n",
    "model_sgd = create_model()\n",
    "# SGD: 学習率0.1\n",
    "optimizer_sgd = optim.SGD(model_sgd.parameters(), lr=0.1)\n",
    "loss_sgd = train_model(model_sgd, optimizer_sgd)\n",
    "print(\"SGD Loss:\", loss_sgd)\n"
   ]
  }
 ],
 "metadata": {
  "kernelspec": {
   "display_name": "Python (torch_env)",
   "language": "python",
   "name": "torch_env"
  },
  "language_info": {
   "codemirror_mode": {
    "name": "ipython",
    "version": 3
   },
   "file_extension": ".py",
   "mimetype": "text/x-python",
   "name": "python",
   "nbconvert_exporter": "python",
   "pygments_lexer": "ipython3",
   "version": "3.10.16"
  }
 },
 "nbformat": 4,
 "nbformat_minor": 5
}
