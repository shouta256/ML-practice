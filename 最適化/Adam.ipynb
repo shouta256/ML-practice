{
 "cells": [
  {
   "cell_type": "markdown",
   "id": "101c91ea-76c5-46f8-bb4c-d8899c2d3fd9",
   "metadata": {},
   "source": [
    "# Adam（Adaptive Moment Estimation）\n",
    "RMSPropとMomentumのアイデアを組み合わせた手法  \n",
    "パラメータごとに学習率を適応的に更新する  \n",
    "収束が速く、初期設定で安定した性能を示す  \n",
    "ディープラーニングのデファクトスタンダードとなっている\n"
   ]
  },
  {
   "cell_type": "code",
   "execution_count": 2,
   "id": "30c96c13-cf70-40d4-a49e-193f2faa95cb",
   "metadata": {},
   "outputs": [],
   "source": [
    "import torch\n",
    "import torch.nn as nn\n",
    "import torch.optim as optim\n",
    "import numpy as np\n",
    "\n",
    "# シード固定\n",
    "torch.manual_seed(42)\n",
    "np.random.seed(42)\n",
    "\n",
    "# サンプルデータ生成： y = 2*x + 1 にノイズ\n",
    "X = np.linspace(-1, 1, 100).reshape(-1, 1)\n",
    "y = 2 * X + 1 + np.random.normal(0, 0.1, X.shape)\n",
    "\n",
    "# NumPyからTensorに変換\n",
    "X_tensor = torch.tensor(X, dtype=torch.float32)\n",
    "y_tensor = torch.tensor(y, dtype=torch.float32)\n",
    "\n",
    "# シンプルな線形モデル：入力1次元、出力1次元\n",
    "def create_model():\n",
    "    return nn.Linear(1, 1)\n",
    "\n",
    "# 訓練ループ（エポック数は固定：100エポック）\n",
    "def train_model(model, optimizer, epochs=100):\n",
    "    criterion = nn.MSELoss()\n",
    "    for epoch in range(epochs):\n",
    "        model.train()\n",
    "        optimizer.zero_grad()\n",
    "        preds = model(X_tensor)\n",
    "        loss = criterion(preds, y_tensor)\n",
    "        loss.backward()\n",
    "        optimizer.step()\n",
    "    return loss.item()\n"
   ]
  },
  {
   "cell_type": "code",
   "execution_count": 4,
   "id": "9c604fc4-5e50-403f-b6a3-c8cec6e9d07e",
   "metadata": {},
   "outputs": [
    {
     "name": "stdout",
     "output_type": "stream",
     "text": [
      "Adam Loss: 0.00815812312066555\n"
     ]
    }
   ],
   "source": [
    "model_adam = create_model()\n",
    "# Adam: MomentumとRMSPropの利点を組み合わせた最適化手法\n",
    "optimizer_adam = optim.Adam(model_adam.parameters(), lr=0.1)\n",
    "loss_adam = train_model(model_adam, optimizer_adam)\n",
    "print(\"Adam Loss:\", loss_adam)\n"
   ]
  },
  {
   "cell_type": "code",
   "execution_count": null,
   "id": "6373ac62-f36a-4aa3-86b8-6cc67616fc8d",
   "metadata": {},
   "outputs": [],
   "source": []
  }
 ],
 "metadata": {
  "kernelspec": {
   "display_name": "Python (torch_env)",
   "language": "python",
   "name": "torch_env"
  },
  "language_info": {
   "codemirror_mode": {
    "name": "ipython",
    "version": 3
   },
   "file_extension": ".py",
   "mimetype": "text/x-python",
   "name": "python",
   "nbconvert_exporter": "python",
   "pygments_lexer": "ipython3",
   "version": "3.10.16"
  }
 },
 "nbformat": 4,
 "nbformat_minor": 5
}
