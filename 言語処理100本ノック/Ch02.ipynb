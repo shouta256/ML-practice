{
 "cells": [
  {
   "cell_type": "markdown",
   "id": "c786e6d7-ac5c-4840-bce8-c14be89f7c72",
   "metadata": {},
   "source": [
    "### 10. 行数のカウント"
   ]
  },
  {
   "cell_type": "code",
   "execution_count": 2,
   "id": "3e2c7b44-4c7d-466d-b726-57bac0fb905c",
   "metadata": {},
   "outputs": [
    {
     "name": "stdout",
     "output_type": "stream",
     "text": [
      "2780\n"
     ]
    }
   ],
   "source": [
    "filename = \"popular-names.txt\"\n",
    "\n",
    "with open(filename, \"r\") as f:\n",
    "    line_count = sum(1 for _ in f)\n",
    "\n",
    "print(line_count)"
   ]
  },
  {
   "cell_type": "markdown",
   "id": "678ff041-749c-419e-91a2-042149049ece",
   "metadata": {},
   "source": [
    "### タブをスペースに置換\n"
   ]
  },
  {
   "cell_type": "code",
   "execution_count": 15,
   "id": "9c5ddbf6-e037-44e9-96fb-06b8af5dbeae",
   "metadata": {},
   "outputs": [
    {
     "name": "stdout",
     "output_type": "stream",
     "text": [
      "Mary F 7065 1880\n",
      "Anna F 2604 1880\n",
      "Emma F 2003 1880\n",
      "Elizabeth F 1939 1880\n",
      "Minnie F 1746 1880\n",
      "Margaret F 1578 1880\n",
      "Ida F 1472 1880\n",
      "Alice F 1414 1880\n",
      "Bertha F 1320 1880\n",
      "Sarah F 1288 1880\n",
      "John M 9655 1880\n",
      "William M 9532 1880\n",
      "James M 5927 1880\n",
      "Charles M 5348 1880\n",
      "George M 5126 1880\n",
      "Frank M 3242 1880\n",
      "Joseph M 2632 1880\n",
      "Thomas M 2534 1880\n",
      "Henry M 2444 1880\n",
      "Robert M 2415 1880\n",
      "Mary F 6919 1881\n",
      "Anna F 2698 1881\n",
      "Emma F 2034 1881\n",
      "Elizabeth F 1852 1881\n",
      "Margaret F 1658 1881\n",
      "Minnie F 1653 1881\n",
      "Ida F 1439 1881\n",
      "\n"
     ]
    }
   ],
   "source": [
    "with open(filename, \"r\") as f:\n",
    "    data = f.read().replace(\"\\t\", \" \")\n",
    "\n",
    "print(data[:500])"
   ]
  },
  {
   "cell_type": "markdown",
   "id": "a62e46c9-8915-46ab-a4d7-722887da5eff",
   "metadata": {},
   "source": [
    "### 12. 1列目を col1.txt に，2列目を col2.txt に保存"
   ]
  },
  {
   "cell_type": "code",
   "execution_count": 20,
   "id": "69133ac8-2010-469c-90da-8e06df9cda50",
   "metadata": {},
   "outputs": [],
   "source": [
    "with open(filename, \"r\") as f:\n",
    "    col1 = []\n",
    "    col2 = []\n",
    "    for line in f:\n",
    "        cols = line.strip().split(\"\\t\")\n",
    "        col1.append(cols[0])\n",
    "        col2.append(cols[1])\n",
    "\n",
    "with open(\"col1.txt\", \"w\") as f:\n",
    "    f.write(\"\\n\".join(col1))\n",
    "with open(\"col2.txt\", \"w\") as f:\n",
    "    f.write(\"\\n\".join(col2))"
   ]
  },
  {
   "cell_type": "markdown",
   "id": "44cf6e07-0481-4d82-b085-effd13a8435e",
   "metadata": {},
   "source": [
    "### 13. col1.txt と col2.txt をマージ"
   ]
  },
  {
   "cell_type": "code",
   "execution_count": 25,
   "id": "17f67c37-7249-431f-82da-279b9f16ff7a",
   "metadata": {},
   "outputs": [
    {
     "name": "stdout",
     "output_type": "stream",
     "text": [
      "Mary\tF\n",
      "Anna\tF\n",
      "Emma\tF\n",
      "Elizabeth\tF\n",
      "Minnie\tF\n",
      "Margaret\tF\n",
      "Ida\tF\n",
      "Alice\tF\n",
      "Bertha\tF\n",
      "Sarah\tF\n",
      "John\tM\n",
      "William\tM\n",
      "James\tM\n",
      "Charles\tM\n",
      "George\tM\n",
      "Frank\tM\n",
      "Joseph\tM\n",
      "Thomas\tM\n",
      "Henry\tM\n",
      "Robert\tM\n",
      "Mary\tF\n",
      "Anna\tF\n",
      "Emma\tF\n",
      "Elizabeth\tF\n",
      "Margaret\tF\n",
      "Minnie\tF\n",
      "Ida\tF\n",
      "Annie\tF\n",
      "Bertha\tF\n",
      "Alice\tF\n",
      "John\tM\n",
      "William\tM\n",
      "James\tM\n",
      "George\tM\n",
      "Charles\tM\n",
      "Frank\tM\n",
      "Joseph\tM\n",
      "Henry\tM\n",
      "Thomas\tM\n",
      "Edward\tM\n",
      "Mary\tF\n",
      "Anna\tF\n",
      "Emma\tF\n",
      "Elizabeth\tF\n",
      "Minnie\tF\n",
      "Margaret\tF\n",
      "Ida\tF\n",
      "Alice\tF\n",
      "Bertha\tF\n",
      "Annie\tF\n",
      "John\tM\n",
      "William\tM\n",
      "James\tM\n",
      "George\tM\n",
      "Charles\tM\n",
      "Frank\tM\n",
      "Joseph\tM\n",
      "Thomas\tM\n",
      "Henr\n"
     ]
    }
   ],
   "source": [
    "with open(\"col1.txt\", \"r\") as f1, open(\"col2.txt\", \"r\") as f2:\n",
    "    col1 = f1.readlines()\n",
    "    col2 = f2.readlines()\n",
    "\n",
    "merged = \"\\n\".join([f\"{c1.strip()}\\t{c2.strip()}\" for c1,c2 in zip(col1, col2)])\n",
    "\n",
    "with open(\"merged.txt\", \"w\") as f:\n",
    "    f.write(merged)\n",
    "\n",
    "print(merged[:500])"
   ]
  },
  {
   "cell_type": "markdown",
   "id": "86883ad7-c7aa-4335-9284-ab4bf1ebb5ad",
   "metadata": {},
   "source": [
    "### 14. 先頭から N 行を出力"
   ]
  },
  {
   "cell_type": "code",
   "execution_count": 32,
   "id": "9c670bb1-8bc3-4592-805e-66e732e989b2",
   "metadata": {},
   "outputs": [
    {
     "name": "stdout",
     "output_type": "stream",
     "text": [
      "Mary\tF\t7065\t1880\n",
      "Anna\tF\t2604\t1880\n",
      "Emma\tF\t2003\t1880\n",
      "Elizabeth\tF\t1939\t1880\n",
      "Minnie\tF\t1746\t1880\n",
      "Margaret\tF\t1578\t1880\n",
      "Ida\tF\t1472\t1880\n",
      "Alice\tF\t1414\t1880\n",
      "Bertha\tF\t1320\t1880\n",
      "Sarah\tF\t1288\t1880\n"
     ]
    }
   ],
   "source": [
    "N = 10\n",
    "\n",
    "with open(filename, \"r\") as f:\n",
    "    for i, line in enumerate(f):\n",
    "        if i >= N:\n",
    "            break\n",
    "        print(line.strip())"
   ]
  },
  {
   "cell_type": "markdown",
   "id": "7db33f4c-212e-465e-9fdd-2f34630496a6",
   "metadata": {},
   "source": [
    "### 15. 末尾の N 行を出力"
   ]
  },
  {
   "cell_type": "code",
   "execution_count": 37,
   "id": "a358a235-ac93-4c32-83e3-8aba1602f6f8",
   "metadata": {},
   "outputs": [
    {
     "name": "stdout",
     "output_type": "stream",
     "text": [
      "Liam\tM\t19837\t2018\n",
      "Noah\tM\t18267\t2018\n",
      "William\tM\t14516\t2018\n",
      "James\tM\t13525\t2018\n",
      "Oliver\tM\t13389\t2018\n",
      "Benjamin\tM\t13381\t2018\n",
      "Elijah\tM\t12886\t2018\n",
      "Lucas\tM\t12585\t2018\n",
      "Mason\tM\t12435\t2018\n",
      "Logan\tM\t12352\t2018\n"
     ]
    }
   ],
   "source": [
    "from collections import deque\n",
    "\n",
    "N = 10\n",
    "with open(filename, \"r\") as f:\n",
    "    last_n_lines = deque(f, maxlen=N)\n",
    "\n",
    "print(\"\".join(last_n_lines))"
   ]
  },
  {
   "cell_type": "markdown",
   "id": "eaf6f45e-681a-4e11-be6f-95caaa11f6bd",
   "metadata": {},
   "source": [
    "### 16. ファイルを N 分割"
   ]
  },
  {
   "cell_type": "code",
   "execution_count": 42,
   "id": "4fe16ac8-777e-4178-b8e6-1857cf96fdf3",
   "metadata": {},
   "outputs": [
    {
     "name": "stdout",
     "output_type": "stream",
     "text": [
      "ファイル分割完了\n"
     ]
    }
   ],
   "source": [
    "import os \n",
    "\n",
    "N = 5\n",
    "\n",
    "with open(filename, \"r\") as f:\n",
    "    lines = f.readlines()\n",
    "\n",
    "chunk_size = len(lines)\n",
    "for i in range(N):\n",
    "    with open(f\"split_{i+1}.txt\", \"w\") as f:\n",
    "        start = i * chunk_size\n",
    "        end = (i + 1) * chunk_size if i != N - 1 else len(lines)\n",
    "        f.writelines(lines[start:end])\n",
    "\n",
    "print(\"ファイル分割完了\")"
   ]
  },
  {
   "cell_type": "markdown",
   "id": "7945701b-92ec-4bf2-b47e-eb09abcf72ce",
   "metadata": {},
   "source": [
    "### 17. 1列目の文字列の異なり"
   ]
  },
  {
   "cell_type": "code",
   "execution_count": 45,
   "id": "a22c8a4f-1cce-443a-9a4f-59cae36f1053",
   "metadata": {},
   "outputs": [
    {
     "name": "stdout",
     "output_type": "stream",
     "text": [
      "{'Jayden', 'Sarah', 'Donald', 'George', 'Ashley', 'Helen', 'Emily', 'Tracy', 'Scott', 'David', 'Matthew', 'Crystal', 'Joseph', 'Kimberly', 'Henry', 'Minnie', 'Harper', 'Elijah', 'Tyler', 'Walter', 'Sharon', 'Bertha', 'Kelly', 'Brandon', 'Debra', 'Noah', 'Sophia', 'Cynthia', 'Doris', 'Carolyn', 'Oliver', 'Nicholas', 'Michelle', 'Chloe', 'Pamela', 'Laura', 'Edward', 'Jacob', 'Alice', 'Ethel', 'Ruth', 'Richard', 'Amelia', 'Lauren', 'Margaret', 'Bessie', 'Nancy', 'Ronald', 'Dorothy', 'Susan', 'Mary', 'Benjamin', 'Joshua', 'Amanda', 'Liam', 'Florence', 'Brian', 'Charles', 'Kathleen', 'Lillian', 'Isabella', 'Abigail', 'Mark', 'Stephanie', 'Julie', 'Jessica', 'Heather', 'Larry', 'John', 'Carol', 'Mason', 'Christopher', 'Daniel', 'Brittany', 'Judith', 'Lori', 'Betty', 'Shirley', 'Michael', 'Mia', 'Jason', 'Robert', 'James', 'Frances', 'Andrew', 'Annie', 'Olivia', 'Mildred', 'Emma', 'Tammy', 'Virginia', 'Angela', 'Donna', 'Joan', 'Gary', 'Deborah', 'Anthony', 'Samantha', 'Jeffrey', 'Lisa', 'Marie', 'Elizabeth', 'Alexander', 'Barbara', 'Justin', 'Steven', 'Anna', 'Evelyn', 'Madison', 'William', 'Ida', 'Logan', 'Patricia', 'Jennifer', 'Taylor', 'Charlotte', 'Nicole', 'Alexis', 'Ethan', 'Amy', 'Austin', 'Linda', 'Sandra', 'Clara', 'Megan', 'Harry', 'Melissa', 'Ava', 'Rachel', 'Lucas', 'Thomas', 'Rebecca', 'Hannah', 'Aiden', 'Karen', 'Frank'}\n"
     ]
    }
   ],
   "source": [
    "with open(filename, \"r\") as f:\n",
    "    unique_words =set(line.split(\"\\t\")[0] for line in f)\n",
    "\n",
    "print(unique_words)"
   ]
  },
  {
   "cell_type": "markdown",
   "id": "1b78bbd2-3346-4e3d-a22b-e96671124e97",
   "metadata": {},
   "source": [
    "### 18. 3列目の数値で降順ソート"
   ]
  },
  {
   "cell_type": "code",
   "execution_count": 48,
   "id": "81846920-eeed-4281-b5ad-fda8c2f8272c",
   "metadata": {},
   "outputs": [
    {
     "name": "stdout",
     "output_type": "stream",
     "text": [
      "Linda\tF\t99689\t1947\n",
      "Linda\tF\t96211\t1948\n",
      "James\tM\t94757\t1947\n",
      "Michael\tM\t92704\t1957\n",
      "Robert\tM\t91640\t1947\n",
      "Linda\tF\t91016\t1949\n",
      "Michael\tM\t90656\t1956\n",
      "Michael\tM\t90517\t1958\n",
      "James\tM\t88584\t1948\n",
      "Michael\tM\t88528\t1954\n"
     ]
    }
   ],
   "source": [
    "with open(filename, \"r\") as f:\n",
    "    lines = [line.strip().split(\"\\t\") for line in f]\n",
    "\n",
    "sorted_lines = sorted(lines, key=lambda x: int(x[2]), reverse=True)\n",
    "\n",
    "for line in sorted_lines[:10]:\n",
    "    print(\"\\t\".join(line))"
   ]
  },
  {
   "cell_type": "markdown",
   "id": "5ca40fe1-6663-417a-8554-5e4f390bc1a1",
   "metadata": {},
   "source": [
    "### 19. 1列目の文字列の出現頻度"
   ]
  },
  {
   "cell_type": "code",
   "execution_count": 55,
   "id": "a9bea606-9c35-4f00-9a4b-c3e88eef2521",
   "metadata": {},
   "outputs": [
    {
     "name": "stdout",
     "output_type": "stream",
     "text": [
      "James: 118\n",
      "William: 111\n",
      "John: 108\n",
      "Robert: 108\n",
      "Mary: 92\n",
      "Charles: 75\n",
      "Michael: 74\n",
      "Elizabeth: 73\n",
      "Joseph: 70\n",
      "Margaret: 60\n"
     ]
    }
   ],
   "source": [
    "from collections import Counter\n",
    "\n",
    "with open(filename, \"r\") as f:\n",
    "    first_column = [line.split(\"\\t\")[0] for line in f]\n",
    "\n",
    "freq = Counter(first_column)\n",
    "sorted_freq = sorted(freq.items(), key=lambda x: x[1], reverse=True)\n",
    "\n",
    "for name, count in sorted_freq[:10]:\n",
    "    print(f\"{name}: {count}\")"
   ]
  },
  {
   "cell_type": "code",
   "execution_count": null,
   "id": "0968fb30-a0bc-461d-803a-f440eab57d58",
   "metadata": {},
   "outputs": [],
   "source": []
  },
  {
   "cell_type": "code",
   "execution_count": null,
   "id": "af1e05d5-6135-4cbf-b16f-cf633a272115",
   "metadata": {},
   "outputs": [],
   "source": []
  },
  {
   "cell_type": "code",
   "execution_count": null,
   "id": "ae2e55a8-ed61-4d7e-bae6-feaaa91fe755",
   "metadata": {},
   "outputs": [],
   "source": []
  },
  {
   "cell_type": "code",
   "execution_count": null,
   "id": "200b84cf-ab93-4be1-ad34-07c6acbd3847",
   "metadata": {},
   "outputs": [],
   "source": []
  },
  {
   "cell_type": "code",
   "execution_count": null,
   "id": "c3b6136b-22ac-4735-b1d0-4a1bbcfefa76",
   "metadata": {},
   "outputs": [],
   "source": []
  },
  {
   "cell_type": "code",
   "execution_count": null,
   "id": "a227f325-a829-464d-a92a-92a6f1a3f37e",
   "metadata": {},
   "outputs": [],
   "source": []
  },
  {
   "cell_type": "code",
   "execution_count": null,
   "id": "c3f8b0f6-b3f8-4be6-8d4c-f802564c0791",
   "metadata": {},
   "outputs": [],
   "source": []
  },
  {
   "cell_type": "code",
   "execution_count": null,
   "id": "e4520b0b-a828-4610-b8f9-fe942caccd28",
   "metadata": {},
   "outputs": [],
   "source": []
  },
  {
   "cell_type": "code",
   "execution_count": null,
   "id": "6565ba84-fe24-4be6-83ab-f57b3f92fb50",
   "metadata": {},
   "outputs": [],
   "source": []
  },
  {
   "cell_type": "code",
   "execution_count": null,
   "id": "fac4c9ae-697d-405a-9e53-032449800316",
   "metadata": {},
   "outputs": [],
   "source": []
  },
  {
   "cell_type": "code",
   "execution_count": null,
   "id": "04e857a6-8163-43c8-bfb6-25c1ffe33398",
   "metadata": {},
   "outputs": [],
   "source": []
  },
  {
   "cell_type": "code",
   "execution_count": null,
   "id": "08e5c0a2-c3f5-4cb2-8704-bdcac2d807ae",
   "metadata": {},
   "outputs": [],
   "source": []
  },
  {
   "cell_type": "code",
   "execution_count": null,
   "id": "15e56bd7-7eeb-4505-aa4f-4e890221fade",
   "metadata": {},
   "outputs": [],
   "source": []
  },
  {
   "cell_type": "code",
   "execution_count": null,
   "id": "8ec7d34f-a7aa-484e-81ce-779927faea94",
   "metadata": {},
   "outputs": [],
   "source": []
  },
  {
   "cell_type": "code",
   "execution_count": null,
   "id": "4fa744ec-bb7d-4ffb-b977-a7be59c1576d",
   "metadata": {},
   "outputs": [],
   "source": []
  },
  {
   "cell_type": "code",
   "execution_count": null,
   "id": "d0677a9d-bd87-4a39-88f9-076959dce2a5",
   "metadata": {},
   "outputs": [],
   "source": []
  },
  {
   "cell_type": "code",
   "execution_count": null,
   "id": "34a94b68-5c56-414e-b01a-ddfa341d9c40",
   "metadata": {},
   "outputs": [],
   "source": []
  },
  {
   "cell_type": "code",
   "execution_count": null,
   "id": "53e7f9c3-c475-4f69-a571-cbd8cc189139",
   "metadata": {},
   "outputs": [],
   "source": []
  }
 ],
 "metadata": {
  "kernelspec": {
   "display_name": "Python (torch_env)",
   "language": "python",
   "name": "torch_env"
  },
  "language_info": {
   "codemirror_mode": {
    "name": "ipython",
    "version": 3
   },
   "file_extension": ".py",
   "mimetype": "text/x-python",
   "name": "python",
   "nbconvert_exporter": "python",
   "pygments_lexer": "ipython3",
   "version": "3.10.16"
  }
 },
 "nbformat": 4,
 "nbformat_minor": 5
}
