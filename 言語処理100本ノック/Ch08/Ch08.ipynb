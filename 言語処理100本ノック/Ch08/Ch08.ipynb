{
 "cells": [
  {
   "cell_type": "markdown",
   "id": "af849cb8-0d3c-4199-b74e-42afdcdc50b2",
   "metadata": {},
   "source": [
    "### 70. 単語ベクトルの和による特徴量\n",
    "#### 目的\n",
    "ニュース記事の見出しを、学習済みの単語ベクトルを使って、数値のベクトル表現に変換する  "
   ]
  },
  {
   "cell_type": "code",
   "execution_count": 2,
   "id": "9c40f3d8-c8d2-46b7-9285-bd0ed8597699",
   "metadata": {},
   "outputs": [
    {
     "name": "stdout",
     "output_type": "stream",
     "text": [
      "Skipping unknown category: 210723\n",
      "特徴量行列とラベルベクトルを保存しました。\n"
     ]
    }
   ],
   "source": [
    "import os\n",
    "import numpy as np\n",
    "import gensim.downloader as api\n",
    "import re\n",
    "\n",
    "# 学習済み単語ベクトルの読み込み\n",
    "model = api.load(\"word2vec-google-news-300\")\n",
    "d = model.vector_size  # 300 次元\n",
    "\n",
    "# ファイルのカテゴリに合わせたマッピング\n",
    "label_mapping = {\n",
    "    \"b\": 0,  # Business\n",
    "    \"t\": 1,  # Science/Technology\n",
    "    \"e\": 2,  # Entertainment\n",
    "    \"m\": 3   # Health\n",
    "}\n",
    "\n",
    "def tokenize(text):\n",
    "    # 単語を抽出\n",
    "    return re.findall(r\"\\w+\", text)\n",
    "\n",
    "def create_dataset(file_path):\n",
    "    X_list = []\n",
    "    Y_list = []\n",
    "    with open(file_path, \"r\", encoding=\"utf-8\") as f:\n",
    "        for line in f:\n",
    "            line = line.strip()\n",
    "            if not line:\n",
    "                continue\n",
    "            try:\n",
    "                category, headline = line.split(\"\\t\")\n",
    "            except ValueError:\n",
    "                continue\n",
    "            tokens = tokenize(headline)\n",
    "            vecs = []\n",
    "            for token in tokens:\n",
    "                if token in model:\n",
    "                    vecs.append(model[token])\n",
    "            if len(vecs) == 0:\n",
    "                # 警告表示（トークンが全く見つからない場合）\n",
    "                print(\"Warning: No valid tokens found for headline:\", headline)\n",
    "                avg_vec = np.zeros(d)\n",
    "            else:\n",
    "                avg_vec = np.mean(vecs, axis=0)\n",
    "            # カテゴリが label_mapping に含まれているかチェック\n",
    "            if category in label_mapping:\n",
    "                X_list.append(avg_vec)\n",
    "                Y_list.append(label_mapping[category])\n",
    "            else:\n",
    "                # 該当しないカテゴリの場合はその行をスキップ\n",
    "                print(\"Skipping unknown category:\", category)\n",
    "    if len(X_list) == 0:\n",
    "        raise ValueError(\"No valid feature vectors were generated. Check your file format and tokenization.\")\n",
    "    X = np.vstack(X_list)  # shape (n, d)\n",
    "    Y = np.array(Y_list)   # shape (n,)\n",
    "    return X, Y\n",
    "\n",
    "# ファイルパスは適宜調整してください\n",
    "X_train, Y_train = create_dataset(\"train.txt\")\n",
    "X_valid, Y_valid = create_dataset(\"valid.txt\")\n",
    "X_test,  Y_test  = create_dataset(\"test.txt\")\n",
    "\n",
    "# 作成したデータを保存\n",
    "np.save(\"X_train.npy\", X_train)\n",
    "np.save(\"Y_train.npy\", Y_train)\n",
    "np.save(\"X_valid.npy\", X_valid)\n",
    "np.save(\"Y_valid.npy\", Y_valid)\n",
    "np.save(\"X_test.npy\", X_test)\n",
    "np.save(\"Y_test.npy\", Y_test)\n",
    "\n",
    "print(\"特徴量行列とラベルベクトルを保存しました。\")\n"
   ]
  },
  {
   "cell_type": "markdown",
   "id": "6ba35ea9-13b8-48f0-b98d-36c08a405799",
   "metadata": {},
   "source": [
    "### 71. 単層ニューラルネットワークによる予測\n",
    "### 目的 \n",
    "先ほど作成した特徴量を入力として、単層のニューラルネットワーク（線形層＋softmax）を使い、各記事のカテゴリ予測の確率を出力する"
   ]
  },
  {
   "cell_type": "code",
   "execution_count": 4,
   "id": "4c90f87c-6c34-4e06-ac4e-10660170723a",
   "metadata": {},
   "outputs": [
    {
     "name": "stdout",
     "output_type": "stream",
     "text": [
      "【タスク71】サンプル事例の予測確率:\n",
      "tensor([[0.0264, 0.1660, 0.7305, 0.0771],\n",
      "        [0.1062, 0.0186, 0.8479, 0.0273],\n",
      "        [0.1008, 0.1275, 0.7622, 0.0095],\n",
      "        [0.2550, 0.2481, 0.2333, 0.2637]], grad_fn=<SoftmaxBackward0>)\n"
     ]
    }
   ],
   "source": [
    "import torch\n",
    "import torch.nn.functional as F\n",
    "\n",
    "# NumPy から PyTorch テンソルに変換\n",
    "X_train = torch.tensor(np.load(\"X_train.npy\"), dtype=torch.float32)\n",
    "Y_train = torch.tensor(np.load(\"Y_train.npy\"), dtype=torch.long)\n",
    "d = X_train.shape[1]  # 300\n",
    "L = 4  # カテゴリ数\n",
    "\n",
    "# ランダム初期化された重み行列 W ∈ ℝ^(300×4)\n",
    "W = torch.randn(d, L, requires_grad=True)\n",
    "\n",
    "# 最初の4事例の特徴量をまとめた行列 X[1:4] ∈ ℝ^(4×300)\n",
    "X_sample = X_train[:4]  # shape: (4, 300)\n",
    "\n",
    "# 線形変換と softmax\n",
    "logits = X_sample @ W  # shape: (4, 4)\n",
    "Y_hat = F.softmax(logits, dim=1)\n",
    "print(\"【タスク71】サンプル事例の予測確率:\")\n",
    "print(Y_hat)\n"
   ]
  },
  {
   "cell_type": "markdown",
   "id": "5299bbbb-f773-408e-8b64-602ee45c1c5c",
   "metadata": {},
   "source": [
    "### 72. 損失と勾配の計算\n",
    "#### 目的\n",
    "学習する際に、モデルの出力と正解ラベルとの間の誤差（損失）を計算し、その損失に基づいてモデルのパラメータをどの方向に更新すべきかを知るために、勾配を求める"
   ]
  },
  {
   "cell_type": "code",
   "execution_count": 6,
   "id": "71d67d8b-34f7-4a5a-9974-849284bec37b",
   "metadata": {},
   "outputs": [
    {
     "name": "stdout",
     "output_type": "stream",
     "text": [
      "【タスク72】サンプル損失: 2.4065873622894287\n",
      "【タスク72】重み W の勾配の形状: torch.Size([300, 4])\n"
     ]
    }
   ],
   "source": [
    "# 例として、サンプル事例（最初の4件）について正解ラベルを取得\n",
    "y_true = Y_train[:4]  # shape: (4,)\n",
    "\n",
    "# 損失計算（クロスエントロピー損失）\n",
    "loss = F.cross_entropy(logits, y_true)\n",
    "print(\"【タスク72】サンプル損失:\", loss.item())\n",
    "\n",
    "# 勾配計算\n",
    "loss.backward()\n",
    "# 正しい形状になっているか確認(𝑑×𝐿)\n",
    "print(\"【タスク72】重み W の勾配の形状:\", W.grad.shape)\n"
   ]
  },
  {
   "cell_type": "markdown",
   "id": "a0ecd10f-93bb-421a-b934-f46845fc5a93",
   "metadata": {},
   "source": [
    "### 73. 確率的勾配降下法による学習\n",
    "確率的勾配降下法（SGD）は、データ全体の平均ではなく、1件または少数のデータ（ミニバッチ）ごとにパラメータを更新する手法"
   ]
  },
  {
   "cell_type": "code",
   "execution_count": 8,
   "id": "b507ee0d-8426-457b-9aaa-ce989f59da20",
   "metadata": {},
   "outputs": [
    {
     "name": "stdout",
     "output_type": "stream",
     "text": [
      "Epoch [10/100], Loss: 1.2997, Accuracy: 76.61%\n",
      "Epoch [20/100], Loss: 1.2232, Accuracy: 77.47%\n",
      "Epoch [30/100], Loss: 1.1618, Accuracy: 77.70%\n",
      "Epoch [40/100], Loss: 1.1115, Accuracy: 77.88%\n",
      "Epoch [50/100], Loss: 1.0695, Accuracy: 77.88%\n",
      "Epoch [60/100], Loss: 1.0339, Accuracy: 77.93%\n",
      "Epoch [70/100], Loss: 1.0032, Accuracy: 77.81%\n",
      "Epoch [80/100], Loss: 0.9765, Accuracy: 77.81%\n",
      "Epoch [90/100], Loss: 0.9529, Accuracy: 77.76%\n",
      "Epoch [100/100], Loss: 0.9319, Accuracy: 77.69%\n",
      "【タスク73】SGD による学習完了。\n"
     ]
    }
   ],
   "source": [
    "import torch.optim as optim\n",
    "\n",
    "# 単層モデルを nn.Linear で定義（バイアスなし、タスク71と同じ）\n",
    "model_linear = torch.nn.Linear(d, L, bias=False)\n",
    "# 重み初期化（ランダム）\n",
    "torch.nn.init.normal_(model_linear.weight, mean=0.0, std=0.01)\n",
    "\n",
    "# 損失関数とオプティマイザ（SGD）\n",
    "criterion = torch.nn.CrossEntropyLoss()\n",
    "optimizer = optim.SGD(model_linear.parameters(), lr=0.1)\n",
    "\n",
    "n_epochs = 100\n",
    "\n",
    "for epoch in range(n_epochs):\n",
    "    optimizer.zero_grad()\n",
    "    outputs = model_linear(X_train)\n",
    "    loss = criterion(outputs, Y_train)\n",
    "    loss.backward()\n",
    "    optimizer.step()\n",
    "    \n",
    "    if (epoch+1) % 10 == 0:\n",
    "        pred = outputs.argmax(dim=1)\n",
    "        acc = (pred == Y_train).float().mean().item()\n",
    "        print(f\"Epoch [{epoch+1}/{n_epochs}], Loss: {loss.item():.4f}, Accuracy: {acc*100:.2f}%\")\n",
    "        \n",
    "print(\"【タスク73】SGD による学習完了。\")\n"
   ]
  },
  {
   "cell_type": "markdown",
   "id": "5903984f-faf0-41cd-8d22-fba2db73c6dd",
   "metadata": {},
   "source": [
    "### 74. 正解率の計測"
   ]
  },
  {
   "cell_type": "code",
   "execution_count": 10,
   "id": "1434dea2-ebd0-49ed-95bd-5393836c4251",
   "metadata": {},
   "outputs": [
    {
     "name": "stdout",
     "output_type": "stream",
     "text": [
      "【タスク74】正解率:\n",
      "  Training Accuracy: 77.69%\n",
      "  Test Accuracy: 78.54%\n"
     ]
    }
   ],
   "source": [
    "# 学習データでの正解率\n",
    "with torch.no_grad():\n",
    "    outputs_train = model_linear(X_train)\n",
    "    preds_train = outputs_train.argmax(dim=1)\n",
    "    acc_train = (preds_train == Y_train).float().mean().item()\n",
    "\n",
    "# 評価データを読み込み\n",
    "X_test = torch.tensor(np.load(\"X_test.npy\"), dtype=torch.float32)\n",
    "Y_test = torch.tensor(np.load(\"Y_test.npy\"), dtype=torch.long)\n",
    "with torch.no_grad():\n",
    "    outputs_test = model_linear(X_test)\n",
    "    preds_test = outputs_test.argmax(dim=1)\n",
    "    acc_test = (preds_test == Y_test).float().mean().item()\n",
    "\n",
    "print(\"【タスク74】正解率:\")\n",
    "print(f\"  Training Accuracy: {acc_train*100:.2f}%\")\n",
    "print(f\"  Test Accuracy: {acc_test*100:.2f}%\")\n"
   ]
  },
  {
   "cell_type": "markdown",
   "id": "8c029055-df25-49d3-a87c-2d03cbab6aec",
   "metadata": {},
   "source": [
    "### 75. 損失と正解率のプロット"
   ]
  },
  {
   "cell_type": "code",
   "execution_count": 12,
   "id": "2983f450-7ade-4dc2-b3cf-1eb97d69f860",
   "metadata": {},
   "outputs": [
    {
     "name": "stdout",
     "output_type": "stream",
     "text": [
      "Epoch 10: Train Loss 1.2975, Train Acc 75.75%, Valid Loss 1.2868, Valid Acc 77.44%\n",
      "Epoch 20: Train Loss 1.2211, Train Acc 77.21%, Valid Loss 1.2100, Valid Acc 78.79%\n",
      "Epoch 30: Train Loss 1.1598, Train Acc 77.55%, Valid Loss 1.1482, Valid Acc 79.01%\n",
      "Epoch 40: Train Loss 1.1096, Train Acc 77.78%, Valid Loss 1.0974, Valid Acc 79.01%\n",
      "Epoch 50: Train Loss 1.0678, Train Acc 77.79%, Valid Loss 1.0549, Valid Acc 79.09%\n",
      "Epoch 60: Train Loss 1.0323, Train Acc 77.83%, Valid Loss 1.0188, Valid Acc 79.16%\n",
      "Epoch 70: Train Loss 1.0017, Train Acc 77.84%, Valid Loss 0.9876, Valid Acc 79.31%\n",
      "Epoch 80: Train Loss 0.9751, Train Acc 77.75%, Valid Loss 0.9604, Valid Acc 79.31%\n",
      "Epoch 90: Train Loss 0.9516, Train Acc 77.76%, Valid Loss 0.9364, Valid Acc 79.31%\n",
      "Epoch 100: Train Loss 0.9307, Train Acc 77.69%, Valid Loss 0.9150, Valid Acc 79.31%\n"
     ]
    },
    {
     "data": {
      "image/png": "[encoded data removed]",
      "text/plain": [
       "<Figure size 1200x500 with 2 Axes>"
      ]
     },
     "metadata": {},
     "output_type": "display_data"
    }
   ],
   "source": [
    "import matplotlib.pyplot as plt\n",
    "\n",
    "# 検証データもテンソルに変換\n",
    "X_valid = torch.tensor(np.load(\"X_valid.npy\"), dtype=torch.float32)\n",
    "Y_valid = torch.tensor(np.load(\"Y_valid.npy\"), dtype=torch.long)\n",
    "\n",
    "n_epochs = 100\n",
    "train_losses = []\n",
    "valid_losses = []\n",
    "train_accuracies = []\n",
    "valid_accuracies = []\n",
    "\n",
    "# 新たにモデルを初期化（ここでは単層モデル）\n",
    "model_linear = torch.nn.Linear(d, L, bias=False)\n",
    "torch.nn.init.normal_(model_linear.weight, mean=0.0, std=0.01)\n",
    "optimizer = optim.SGD(model_linear.parameters(), lr=0.1)\n",
    "\n",
    "for epoch in range(n_epochs):\n",
    "    model_linear.train()\n",
    "    optimizer.zero_grad()\n",
    "    outputs_train = model_linear(X_train)\n",
    "    loss_train = criterion(outputs_train, Y_train)\n",
    "    loss_train.backward()\n",
    "    optimizer.step()\n",
    "    \n",
    "    # 訓練時の評価\n",
    "    with torch.no_grad():\n",
    "        preds_train = outputs_train.argmax(dim=1)\n",
    "        acc_train = (preds_train == Y_train).float().mean().item()\n",
    "        \n",
    "        # 検証データでの評価\n",
    "        model_linear.eval()\n",
    "        outputs_valid = model_linear(X_valid)\n",
    "        loss_valid = criterion(outputs_valid, Y_valid)\n",
    "        preds_valid = outputs_valid.argmax(dim=1)\n",
    "        acc_valid = (preds_valid == Y_valid).float().mean().item()\n",
    "    \n",
    "    train_losses.append(loss_train.item())\n",
    "    valid_losses.append(loss_valid.item())\n",
    "    train_accuracies.append(acc_train)\n",
    "    valid_accuracies.append(acc_valid)\n",
    "    \n",
    "    if (epoch+1) % 10 == 0:\n",
    "        print(f\"Epoch {epoch+1}: Train Loss {loss_train.item():.4f}, Train Acc {acc_train*100:.2f}%, Valid Loss {loss_valid.item():.4f}, Valid Acc {acc_valid*100:.2f}%\")\n",
    "\n",
    "# プロット\n",
    "epochs = range(1, n_epochs+1)\n",
    "plt.figure(figsize=(12, 5))\n",
    "plt.subplot(1, 2, 1)\n",
    "plt.plot(epochs, train_losses, label=\"Train Loss\")\n",
    "plt.plot(epochs, valid_losses, label=\"Validation Loss\")\n",
    "plt.xlabel(\"Epoch\")\n",
    "plt.ylabel(\"Loss\")\n",
    "plt.title(\"Loss Curve\")\n",
    "plt.legend()\n",
    "\n",
    "plt.subplot(1, 2, 2)\n",
    "plt.plot(epochs, train_accuracies, label=\"Train Accuracy\")\n",
    "plt.plot(epochs, valid_accuracies, label=\"Validation Accuracy\")\n",
    "plt.xlabel(\"Epoch\")\n",
    "plt.ylabel(\"Accuracy\")\n",
    "plt.title(\"Accuracy Curve\")\n",
    "plt.legend()\n",
    "\n",
    "plt.tight_layout()\n",
    "plt.show()\n"
   ]
  },
  {
   "cell_type": "markdown",
   "id": "84fb9ea3-7e1e-49b9-a9c6-f3d2d28357cf",
   "metadata": {},
   "source": [
    "### 76. チェックポイント\n",
    "#### 目的\n",
    "長時間の学習中に、ある時点のモデルの状態（パラメータや最適化の状態）を保存しておくことで、途中で学習が中断しても再開できるようにする"
   ]
  },
  {
   "cell_type": "code",
   "execution_count": 14,
   "id": "8f5832fd-1cb7-4398-8f76-feb2a4d46be2",
   "metadata": {},
   "outputs": [
    {
     "name": "stdout",
     "output_type": "stream",
     "text": [
      "Epoch 10: Checkpoint saved to checkpoints/model_epoch_10.pt\n",
      "Epoch 20: Checkpoint saved to checkpoints/model_epoch_20.pt\n",
      "Epoch 30: Checkpoint saved to checkpoints/model_epoch_30.pt\n",
      "Epoch 40: Checkpoint saved to checkpoints/model_epoch_40.pt\n",
      "Epoch 50: Checkpoint saved to checkpoints/model_epoch_50.pt\n"
     ]
    }
   ],
   "source": [
    "checkpoint_dir = \"checkpoints\"\n",
    "os.makedirs(checkpoint_dir, exist_ok=True)\n",
    "\n",
    "n_epochs = 50\n",
    "for epoch in range(n_epochs):\n",
    "    model_linear.train()\n",
    "    optimizer.zero_grad()\n",
    "    outputs_train = model_linear(X_train)\n",
    "    loss_train = criterion(outputs_train, Y_train)\n",
    "    loss_train.backward()\n",
    "    optimizer.step()\n",
    "    \n",
    "    # チェックポイント保存\n",
    "    checkpoint_path = os.path.join(checkpoint_dir, f\"model_epoch_{epoch+1}.pt\")\n",
    "    torch.save(model_linear.state_dict(), checkpoint_path)\n",
    "    \n",
    "    if (epoch+1) % 10 == 0:\n",
    "        print(f\"Epoch {epoch+1}: Checkpoint saved to {checkpoint_path}\")\n",
    "\n"
   ]
  },
  {
   "cell_type": "markdown",
   "id": "de225814-7655-4733-992c-fd5ae2c07af8",
   "metadata": {},
   "source": [
    "### 77. ミニバッチ化\n",
    "#### 目的\n",
    "すべての事例に対して一度に計算するのではなく、少数の事例（ミニバッチ）ごとに損失と勾配を計算してパラメータ更新を行うことで、学習効率を向上させる\n"
   ]
  },
  {
   "cell_type": "code",
   "execution_count": 16,
   "id": "053cc9e0-0630-4ee9-adf3-22b694e4076a",
   "metadata": {},
   "outputs": [
    {
     "name": "stdout",
     "output_type": "stream",
     "text": [
      "Batch size 1: Time per epoch = 0.5867 sec\n",
      "Batch size 2: Time per epoch = 0.3509 sec\n",
      "Batch size 4: Time per epoch = 0.1710 sec\n",
      "Batch size 8: Time per epoch = 0.0907 sec\n",
      "【タスク77】各ミニバッチサイズでのエポック時間: {1: 0.5867011547088623, 2: 0.3509399890899658, 4: 0.1709918975830078, 8: 0.09070110321044922}\n"
     ]
    }
   ],
   "source": [
    "import time\n",
    "batch_sizes = [1, 2, 4, 8]\n",
    "epoch_times = {}\n",
    "\n",
    "for B in batch_sizes:\n",
    "    model_linear = torch.nn.Linear(d, L, bias=False)\n",
    "    torch.nn.init.normal_(model_linear.weight, mean=0.0, std=0.01)\n",
    "    optimizer = optim.SGD(model_linear.parameters(), lr=0.1)\n",
    "    n_samples = X_train.shape[0]\n",
    "    indices = torch.randperm(n_samples)\n",
    "    \n",
    "    start_time = time.time()\n",
    "    for i in range(0, n_samples, B):\n",
    "        batch_idx = indices[i:i+B]\n",
    "        X_batch = X_train[batch_idx]\n",
    "        Y_batch = Y_train[batch_idx]\n",
    "        \n",
    "        optimizer.zero_grad()\n",
    "        outputs = model_linear(X_batch)\n",
    "        loss = criterion(outputs, Y_batch)\n",
    "        loss.backward()\n",
    "        optimizer.step()\n",
    "    elapsed = time.time() - start_time\n",
    "    epoch_times[B] = elapsed\n",
    "    print(f\"Batch size {B}: Time per epoch = {elapsed:.4f} sec\")\n",
    "\n",
    "print(\"【タスク77】各ミニバッチサイズでのエポック時間:\", epoch_times)\n"
   ]
  },
  {
   "cell_type": "markdown",
   "id": "1e617579-2f4c-42bd-9d58-f14c45626da1",
   "metadata": {},
   "source": [
    "### 78. GPU上での学習\n",
    "macにも対応させるためmpsも使用できるか確認"
   ]
  },
  {
   "cell_type": "code",
   "execution_count": 33,
   "id": "2a31852b-c018-47d9-bcae-452bf25f5987",
   "metadata": {},
   "outputs": [
    {
     "name": "stdout",
     "output_type": "stream",
     "text": [
      "Using device: mps\n",
      "Epoch 10: Loss 1.2997, Accuracy 76.19%\n",
      "Epoch 20: Loss 1.2228, Accuracy 77.34%\n",
      "Epoch 30: Loss 1.1611, Accuracy 77.68%\n",
      "Epoch 40: Loss 1.1107, Accuracy 77.85%\n",
      "Epoch 50: Loss 1.0687, Accuracy 77.89%\n",
      "【タスク78】GPU 上での学習完了。\n"
     ]
    }
   ],
   "source": [
    "if torch.cuda.is_available():\n",
    "    device = torch.device(\"cuda\")\n",
    "elif torch.backends.mps.is_available():\n",
    "    device = torch.device(\"mps\")\n",
    "else:\n",
    "    device = torch.device(\"cpu\")\n",
    "print(\"Using device:\", device)\n",
    "\n",
    "# データを GPU に移動\n",
    "X_train_gpu = X_train.to(device)\n",
    "Y_train_gpu = Y_train.to(device)\n",
    "X_valid_gpu = X_valid.to(device)\n",
    "Y_valid_gpu = Y_valid.to(device)\n",
    "\n",
    "# モデルを GPU に移動\n",
    "model_linear = torch.nn.Linear(d, L, bias=False).to(device)\n",
    "torch.nn.init.normal_(model_linear.weight, mean=0.0, std=0.01)\n",
    "optimizer = optim.SGD(model_linear.parameters(), lr=0.1)\n",
    "\n",
    "n_epochs = 50\n",
    "for epoch in range(n_epochs):\n",
    "    model_linear.train()\n",
    "    optimizer.zero_grad()\n",
    "    outputs = model_linear(X_train_gpu)\n",
    "    loss = criterion(outputs, Y_train_gpu)\n",
    "    loss.backward()\n",
    "    optimizer.step()\n",
    "    \n",
    "    if (epoch+1) % 10 == 0:\n",
    "        with torch.no_grad():\n",
    "            preds = outputs.argmax(dim=1)\n",
    "            acc = (preds == Y_train_gpu).float().mean().item()\n",
    "        print(f\"Epoch {epoch+1}: Loss {loss.item():.4f}, Accuracy {acc*100:.2f}%\")\n",
    "        \n",
    "print(\"【タスク78】GPU 上での学習完了。\")\n"
   ]
  },
  {
   "cell_type": "markdown",
   "id": "84e151b1-92b4-41f3-9a2b-d6ae6a07a189",
   "metadata": {},
   "source": [
    "### 79. 多層ニューラルネットワーク"
   ]
  },
  {
   "cell_type": "code",
   "execution_count": 36,
   "id": "893c30fb-c20a-4fd7-b0c9-799f44cb04d3",
   "metadata": {},
   "outputs": [
    {
     "name": "stdout",
     "output_type": "stream",
     "text": [
      "Epoch 10: Loss 1.0158, Train Acc 63.17%\n",
      "Epoch 20: Loss 0.7580, Train Acc 74.93%\n",
      "Epoch 30: Loss 0.6588, Train Acc 77.45%\n",
      "Epoch 40: Loss 0.6002, Train Acc 78.86%\n",
      "Epoch 50: Loss 0.5567, Train Acc 79.99%\n",
      "Epoch 60: Loss 0.5335, Train Acc 81.02%\n",
      "Epoch 70: Loss 0.5024, Train Acc 82.18%\n",
      "Epoch 80: Loss 0.4801, Train Acc 82.87%\n",
      "Epoch 90: Loss 0.4653, Train Acc 83.69%\n",
      "Epoch 100: Loss 0.4544, Train Acc 84.13%\n",
      "Deep network training completed.\n"
     ]
    }
   ],
   "source": [
    "import torch\n",
    "import torch.nn as nn\n",
    "import torch.nn.functional as F\n",
    "\n",
    "class DeepNet(nn.Module):\n",
    "    def __init__(self, input_dim, hidden_dims, output_dim, dropout_rate=0.5):\n",
    "        super(DeepNet, self).__init__()\n",
    "        layers = []\n",
    "        prev_dim = input_dim\n",
    "        for h in hidden_dims:\n",
    "            layers.append(nn.Linear(prev_dim, h))\n",
    "            layers.append(nn.ReLU())\n",
    "            layers.append(nn.BatchNorm1d(h))\n",
    "            layers.append(nn.Dropout(dropout_rate))\n",
    "            prev_dim = h\n",
    "        layers.append(nn.Linear(prev_dim, output_dim))\n",
    "        self.net = nn.Sequential(*layers)\n",
    "    \n",
    "    def forward(self, x):\n",
    "        return self.net(x)\n",
    "\n",
    "# 例として、3層の隠れ層（それぞれ100, 50, 25ユニット）を持つネットワーク\n",
    "hidden_dims = [100, 50, 25]\n",
    "model_deep = DeepNet(d, hidden_dims, L).to(device)\n",
    "\n",
    "# オプティマイザや学習ループを設定して学習を行う\n",
    "optimizer = torch.optim.SGD(model_deep.parameters(), lr=0.1)\n",
    "criterion = nn.CrossEntropyLoss()\n",
    "\n",
    "n_epochs = 100\n",
    "for epoch in range(n_epochs):\n",
    "    model_deep.train()\n",
    "    optimizer.zero_grad()\n",
    "    outputs = model_deep(X_train_gpu)\n",
    "    loss = criterion(outputs, Y_train_gpu)\n",
    "    loss.backward()\n",
    "    optimizer.step()\n",
    "    \n",
    "    if (epoch+1) % 10 == 0:\n",
    "        with torch.no_grad():\n",
    "            preds = outputs.argmax(dim=1)\n",
    "            acc = (preds == Y_train_gpu).float().mean().item()\n",
    "        print(f\"Epoch {epoch+1}: Loss {loss.item():.4f}, Train Acc {acc*100:.2f}%\")\n",
    "\n",
    "print(\"Training completed.\")\n"
   ]
  }
 ],
 "metadata": {
  "kernelspec": {
   "display_name": "Python (torch_env)",
   "language": "python",
   "name": "torch_env"
  },
  "language_info": {
   "codemirror_mode": {
    "name": "ipython",
    "version": 3
   },
   "file_extension": ".py",
   "mimetype": "text/x-python",
   "name": "python",
   "nbconvert_exporter": "python",
   "pygments_lexer": "ipython3",
   "version": "3.10.16"
  }
 },
 "nbformat": 4,
 "nbformat_minor": 5
}
