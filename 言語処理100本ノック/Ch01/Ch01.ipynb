{
 "cells": [
  {
   "cell_type": "markdown",
   "id": "42fc1260-e58f-411b-ac0a-3e5334e81c17",
   "metadata": {},
   "source": [
    "### 00. 文字列の逆順"
   ]
  },
  {
   "cell_type": "code",
   "execution_count": 3,
   "id": "b0e355fb-c028-4575-a1ce-2a62410bbb3d",
   "metadata": {},
   "outputs": [
    {
     "name": "stdout",
     "output_type": "stream",
     "text": [
      "desserts\n"
     ]
    }
   ],
   "source": [
    "s = \"stressed\"\n",
    "reversed_s = s[::-1]\n",
    "print(reversed_s)"
   ]
  },
  {
   "cell_type": "markdown",
   "id": "736ce83c-307d-4157-a9c7-165571dd085c",
   "metadata": {},
   "source": [
    "### 01. 「パタトクカシーー」\n",
    "スライス：s[start:stop:step]  \n",
    "今回は、startとstopは省略し、stepを2に指定することで2文字おきに取得"
   ]
  },
  {
   "cell_type": "code",
   "execution_count": 6,
   "id": "6947c167-0555-47aa-a67d-09f8907cd444",
   "metadata": {},
   "outputs": [
    {
     "name": "stdout",
     "output_type": "stream",
     "text": [
      "パトカー\n"
     ]
    }
   ],
   "source": [
    "s = \"パタトクカシーー\"\n",
    "extracted_s = s[::2]\n",
    "print(extracted_s)"
   ]
  },
  {
   "cell_type": "markdown",
   "id": "8c1cefeb-5b8e-4d52-b5c3-6fd9c4f6ac7e",
   "metadata": {},
   "source": [
    "### 02. 「パトカー」＋「タクシー」＝「パタトクカシーー」\n",
    "\n",
    "zip()は複数のリストを並列に処理する"
   ]
  },
  {
   "cell_type": "code",
   "execution_count": 9,
   "id": "8d84fba0-4825-4746-be71-3456e768ee20",
   "metadata": {},
   "outputs": [
    {
     "name": "stdout",
     "output_type": "stream",
     "text": [
      "パタトクカシーー\n"
     ]
    }
   ],
   "source": [
    "s1 = \"パトカー\"\n",
    "s2 = \"タクシー\"\n",
    "interleaved_s = \"\".join(a + b for a,b in zip(s1, s2))\n",
    "print(interleaved_s)"
   ]
  },
  {
   "cell_type": "markdown",
   "id": "29154321-dd92-4bd9-adb9-fef5463be755",
   "metadata": {},
   "source": [
    "### 03. 円周率\n",
    "strip()は文字列の前後の不要な空白や特定の文字を取り除く  "
   ]
  },
  {
   "cell_type": "code",
   "execution_count": 17,
   "id": "40f88b4f-bc4d-4545-aaad-75e901535b3a",
   "metadata": {},
   "outputs": [
    {
     "name": "stdout",
     "output_type": "stream",
     "text": [
      "[3, 1, 4, 1, 5, 9, 2, 6, 5, 3, 5, 8, 9, 7, 9]\n"
     ]
    }
   ],
   "source": [
    "sentence = \"Now I need a drink, alcoholic of course, after the heavy lectures involving quantum mechanics.\"\n",
    "word_lengths = [len(word.strip(\".,\")) for word in sentence.split()]\n",
    "print(word_lengths)"
   ]
  },
  {
   "cell_type": "markdown",
   "id": "e4dce23e-cd5d-409d-a696-0ffc93d9882c",
   "metadata": {},
   "source": [
    "### 04. 元素記号\n",
    "enumerate(words)で単語のインデックス(i)と単語(word)を取得  \n",
    "positionsにi+1が含まれているかを判定  \n",
    "     含まれていれば、word[:1](先頭1文字)を取得  \n",
    "     それ以外ならword[:2](先頭2文字)を取得"
   ]
  },
  {
   "cell_type": "code",
   "execution_count": 23,
   "id": "861f1486-d4b7-47bb-bf7c-5500de931a00",
   "metadata": {},
   "outputs": [
    {
     "name": "stdout",
     "output_type": "stream",
     "text": [
      "{'H': 1, 'He': 2, 'Li': 3, 'Be': 4, 'B': 5, 'C': 6, 'N': 7, 'O': 8, 'F': 9, 'Ne': 10, 'Na': 11, 'Mi': 12, 'Al': 13, 'Si': 14, 'P': 15, 'S': 16, 'Cl': 17, 'Ar': 18, 'K': 19, 'Ca': 20}\n"
     ]
    }
   ],
   "source": [
    "sentence = \"Hi He Lied Because Boron Could Not Oxidize Fluorine. New Nations Might Also Sign Peace Security Clause. Arthur King Can.\"\n",
    "words = sentence.split()\n",
    "positions = {1,5,6,7,8,9,15,16,19}\n",
    "element_dict = {word[:1] if i+1 in positions else word[:2]: i+1 for i, word in enumerate(words)}\n",
    "print(element_dict)"
   ]
  },
  {
   "cell_type": "markdown",
   "id": "bc6f4d99-5020-49fc-89c8-d0e4da5721a3",
   "metadata": {},
   "source": [
    "### 05. n-gram\n",
    "n_gram内  \n",
    "・sequence[i:i+n]：i番目からi+n番目までのn個の部分列を取得  \n",
    "・range(len(sequence - n+1)：iを0からlen(sequence) - nまでループすることで、全てのn-gramを取得"
   ]
  },
  {
   "cell_type": "code",
   "execution_count": 29,
   "id": "59ff1d6e-af71-48c9-89f4-82a2d0ecf037",
   "metadata": {},
   "outputs": [
    {
     "name": "stdout",
     "output_type": "stream",
     "text": [
      "[['I', 'am'], ['am', 'an'], ['an', 'NLPer']]\n",
      "['Ia', 'am', 'ma', 'an', 'nN', 'NL', 'LP', 'Pe', 'er']\n"
     ]
    }
   ],
   "source": [
    "def n_gram(sequence, n):\n",
    "    return [sequence[i:i+n] for i in range(len(sequence) - n+1)]\n",
    "\n",
    "sentence = \"I am an NLPer\"\n",
    "\n",
    "words = sentence.split()\n",
    "word_bigrams = n_gram(words, 2)\n",
    "print(word_bigrams)\n",
    "\n",
    "char_bigrams = n_gram(sentence.replace(' ',''), 2)\n",
    "print(char_bigrams)"
   ]
  },
  {
   "cell_type": "markdown",
   "id": "65753d21-49f6-4e15-91e2-f5b5b847a01e",
   "metadata": {},
   "source": [
    "### 06. 集合"
   ]
  },
  {
   "cell_type": "code",
   "execution_count": 40,
   "id": "26351a38-a57e-460d-ac78-f17d5cdfc060",
   "metadata": {},
   "outputs": [
    {
     "name": "stdout",
     "output_type": "stream",
     "text": [
      "和集合: {'ag', 'ap', 'ph', 'pa', 'ic', 'di', 'gr', 'ad', 'ce', 'ar', 'ra'}\n",
      "積集合: {'ar', 'ap', 'pa', 'ra'}\n",
      "差集合: {'ad', 'ce', 'ic', 'di'}\n",
      "'se' がXに含まれる: False\n",
      "'se' がYに含まれる: False\n"
     ]
    }
   ],
   "source": [
    "x = set(n_gram(\"paraparaparadice\", 2))\n",
    "y = set(n_gram(\"paragraph\", 2))\n",
    "\n",
    "union = x | y\n",
    "intersection = x & y\n",
    "difference = x - y\n",
    "\n",
    "se_in_x = \"se\" in x\n",
    "se_in_y = \"se\" in y\n",
    "\n",
    "print(\"和集合:\", union)\n",
    "print(\"積集合:\", intersection)\n",
    "print(\"差集合:\", difference)\n",
    "print(\"'se' がXに含まれる:\", se_in_x)\n",
    "print(\"'se' がYに含まれる:\", se_in_y)"
   ]
  },
  {
   "cell_type": "markdown",
   "id": "aeb35275-32d6-42d3-b11c-20952a33ef12",
   "metadata": {},
   "source": [
    "### 07. テンプレートによる文生成"
   ]
  },
  {
   "cell_type": "code",
   "execution_count": 38,
   "id": "e8e1dc9a-71dd-4cf6-9f91-7ea429c5df1a",
   "metadata": {},
   "outputs": [
    {
     "name": "stdout",
     "output_type": "stream",
     "text": [
      "12時の気温は22.4\n"
     ]
    }
   ],
   "source": [
    "def template_sentence(x,y,z):\n",
    "    return f\"{x}時の{y}は{z}\"\n",
    "\n",
    "print(template_sentence(12,\"気温\", 22.4))"
   ]
  },
  {
   "cell_type": "markdown",
   "id": "cbbd5731-1453-4f6a-9317-37b25941bf91",
   "metadata": {},
   "source": [
    "### 08. 暗号文"
   ]
  },
  {
   "cell_type": "code",
   "execution_count": 43,
   "id": "9ab77e39-06f5-4e3e-b3dc-89fc12f2337d",
   "metadata": {},
   "outputs": [
    {
     "name": "stdout",
     "output_type": "stream",
     "text": [
      "暗号化: Hvool Wliow!\n",
      "復号化: Hello World!\n"
     ]
    }
   ],
   "source": [
    "def cipher(text):\n",
    "    return ''.join(chr(219 - ord(c)) if 'a' <= c <= 'z' else c for c in text)\n",
    "\n",
    "message = \"Hello World!\"\n",
    "encrypted = cipher(message)\n",
    "decrypted = cipher(encrypted)\n",
    "\n",
    "print(\"暗号化:\", encrypted)\n",
    "print(\"復号化:\", decrypted)"
   ]
  },
  {
   "cell_type": "markdown",
   "id": "eba80306-d1a6-4ca4-9919-f5f7842c9b4a",
   "metadata": {},
   "source": [
    "### 09. Typoglycemia"
   ]
  },
  {
   "cell_type": "code",
   "execution_count": 46,
   "id": "551d463d-e4bd-4acf-b7d6-1d842e9810ff",
   "metadata": {},
   "outputs": [
    {
     "name": "stdout",
     "output_type": "stream",
     "text": [
      "I could’nt bielvee that I could alcluaty urnnatdesd what I was reaindg : the pnheamoenl power of the huamn mind .\n"
     ]
    }
   ],
   "source": [
    "import random\n",
    "\n",
    "def typoglycemia(text):\n",
    "    def shuffle_word(word):\n",
    "        if len(word) <= 4:\n",
    "            return word\n",
    "        mid = list(word[1:-1])\n",
    "        random.shuffle(mid)\n",
    "        return word[0] + ''.join(mid) + word[-1]\n",
    "    return ' '.join(shuffle_word(word) for word in text.split())\n",
    "\n",
    "sentence = \"I couldn’t believe that I could actually understand what I was reading : the phenomenal power of the human mind .\"\n",
    "print(typoglycemia(sentence))"
   ]
  }
 ],
 "metadata": {
  "kernelspec": {
   "display_name": "Python (torch_env)",
   "language": "python",
   "name": "torch_env"
  },
  "language_info": {
   "codemirror_mode": {
    "name": "ipython",
    "version": 3
   },
   "file_extension": ".py",
   "mimetype": "text/x-python",
   "name": "python",
   "nbconvert_exporter": "python",
   "pygments_lexer": "ipython3",
   "version": "3.10.16"
  }
 },
 "nbformat": 4,
 "nbformat_minor": 5
}
