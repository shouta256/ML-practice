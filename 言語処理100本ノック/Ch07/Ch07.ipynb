{
 "cells": [
  {
   "cell_type": "markdown",
   "id": "c8480dec-b72f-4a78-827c-ffa123645388",
   "metadata": {},
   "source": [
    "### 60. 単語ベクトルの読み込みと表示\n",
    "単語ベクトル（Word Embedding）とは、単語を固定長の数値ベクトルに変換する方法  \n",
    "単語同士の意味的な類似度や関係性を数値で扱えるようになる  \n"
   ]
  },
  {
   "cell_type": "code",
   "execution_count": 1,
   "id": "f7e863e4-e2c1-457e-b962-4081b56fac61",
   "metadata": {},
   "outputs": [
    {
     "name": "stdout",
     "output_type": "stream",
     "text": [
      "[--------------------------------------------------] 1.4% 23.4/1662.8MB downloaded"
     ]
    },
    {
     "name": "stderr",
     "output_type": "stream",
     "text": [
      "IOPub message rate exceeded.\n",
      "The Jupyter server will temporarily stop sending output\n",
      "to the client in order to avoid crashing it.\n",
      "To change this limit, set the config variable\n",
      "`--ServerApp.iopub_msg_rate_limit`.\n",
      "\n",
      "Current values:\n",
      "ServerApp.iopub_msg_rate_limit=1000.0 (msgs/sec)\n",
      "ServerApp.rate_limit_window=3.0 (secs)\n",
      "\n"
     ]
    },
    {
     "name": "stdout",
     "output_type": "stream",
     "text": [
      "[===-----------------------------------------------] 6.1% 101.2/1662.8MB downloaded"
     ]
    },
    {
     "name": "stderr",
     "output_type": "stream",
     "text": [
      "IOPub message rate exceeded.\n",
      "The Jupyter server will temporarily stop sending output\n",
      "to the client in order to avoid crashing it.\n",
      "To change this limit, set the config variable\n",
      "`--ServerApp.iopub_msg_rate_limit`.\n",
      "\n",
      "Current values:\n",
      "ServerApp.iopub_msg_rate_limit=1000.0 (msgs/sec)\n",
      "ServerApp.rate_limit_window=3.0 (secs)\n",
      "\n"
     ]
    },
    {
     "name": "stdout",
     "output_type": "stream",
     "text": [
      "[=====---------------------------------------------] 10.7% 178.7/1662.8MB downloaded"
     ]
    },
    {
     "name": "stderr",
     "output_type": "stream",
     "text": [
      "IOPub message rate exceeded.\n",
      "The Jupyter server will temporarily stop sending output\n",
      "to the client in order to avoid crashing it.\n",
      "To change this limit, set the config variable\n",
      "`--ServerApp.iopub_msg_rate_limit`.\n",
      "\n",
      "Current values:\n",
      "ServerApp.iopub_msg_rate_limit=1000.0 (msgs/sec)\n",
      "ServerApp.rate_limit_window=3.0 (secs)\n",
      "\n"
     ]
    },
    {
     "name": "stdout",
     "output_type": "stream",
     "text": [
      "[=======-------------------------------------------] 15.3% 255.1/1662.8MB downloaded"
     ]
    },
    {
     "name": "stderr",
     "output_type": "stream",
     "text": [
      "IOPub message rate exceeded.\n",
      "The Jupyter server will temporarily stop sending output\n",
      "to the client in order to avoid crashing it.\n",
      "To change this limit, set the config variable\n",
      "`--ServerApp.iopub_msg_rate_limit`.\n",
      "\n",
      "Current values:\n",
      "ServerApp.iopub_msg_rate_limit=1000.0 (msgs/sec)\n",
      "ServerApp.rate_limit_window=3.0 (secs)\n",
      "\n"
     ]
    },
    {
     "name": "stdout",
     "output_type": "stream",
     "text": [
      "[=========-----------------------------------------] 19.6% 325.2/1662.8MB downloaded"
     ]
    },
    {
     "name": "stderr",
     "output_type": "stream",
     "text": [
      "IOPub message rate exceeded.\n",
      "The Jupyter server will temporarily stop sending output\n",
      "to the client in order to avoid crashing it.\n",
      "To change this limit, set the config variable\n",
      "`--ServerApp.iopub_msg_rate_limit`.\n",
      "\n",
      "Current values:\n",
      "ServerApp.iopub_msg_rate_limit=1000.0 (msgs/sec)\n",
      "ServerApp.rate_limit_window=3.0 (secs)\n",
      "\n"
     ]
    },
    {
     "name": "stdout",
     "output_type": "stream",
     "text": [
      "[============--------------------------------------] 24.0% 399.5/1662.8MB downloaded"
     ]
    },
    {
     "name": "stderr",
     "output_type": "stream",
     "text": [
      "IOPub message rate exceeded.\n",
      "The Jupyter server will temporarily stop sending output\n",
      "to the client in order to avoid crashing it.\n",
      "To change this limit, set the config variable\n",
      "`--ServerApp.iopub_msg_rate_limit`.\n",
      "\n",
      "Current values:\n",
      "ServerApp.iopub_msg_rate_limit=1000.0 (msgs/sec)\n",
      "ServerApp.rate_limit_window=3.0 (secs)\n",
      "\n"
     ]
    },
    {
     "name": "stdout",
     "output_type": "stream",
     "text": [
      "[==============------------------------------------] 28.5% 474.7/1662.8MB downloaded"
     ]
    },
    {
     "name": "stderr",
     "output_type": "stream",
     "text": [
      "IOPub message rate exceeded.\n",
      "The Jupyter server will temporarily stop sending output\n",
      "to the client in order to avoid crashing it.\n",
      "To change this limit, set the config variable\n",
      "`--ServerApp.iopub_msg_rate_limit`.\n",
      "\n",
      "Current values:\n",
      "ServerApp.iopub_msg_rate_limit=1000.0 (msgs/sec)\n",
      "ServerApp.rate_limit_window=3.0 (secs)\n",
      "\n"
     ]
    },
    {
     "name": "stdout",
     "output_type": "stream",
     "text": [
      "[================----------------------------------] 33.1% 549.6/1662.8MB downloaded"
     ]
    },
    {
     "name": "stderr",
     "output_type": "stream",
     "text": [
      "IOPub message rate exceeded.\n",
      "The Jupyter server will temporarily stop sending output\n",
      "to the client in order to avoid crashing it.\n",
      "To change this limit, set the config variable\n",
      "`--ServerApp.iopub_msg_rate_limit`.\n",
      "\n",
      "Current values:\n",
      "ServerApp.iopub_msg_rate_limit=1000.0 (msgs/sec)\n",
      "ServerApp.rate_limit_window=3.0 (secs)\n",
      "\n"
     ]
    },
    {
     "name": "stdout",
     "output_type": "stream",
     "text": [
      "[==================--------------------------------] 37.3% 620.2/1662.8MB downloaded"
     ]
    },
    {
     "name": "stderr",
     "output_type": "stream",
     "text": [
      "IOPub message rate exceeded.\n",
      "The Jupyter server will temporarily stop sending output\n",
      "to the client in order to avoid crashing it.\n",
      "To change this limit, set the config variable\n",
      "`--ServerApp.iopub_msg_rate_limit`.\n",
      "\n",
      "Current values:\n",
      "ServerApp.iopub_msg_rate_limit=1000.0 (msgs/sec)\n",
      "ServerApp.rate_limit_window=3.0 (secs)\n",
      "\n"
     ]
    },
    {
     "name": "stdout",
     "output_type": "stream",
     "text": [
      "[====================------------------------------] 41.8% 695.8/1662.8MB downloaded"
     ]
    },
    {
     "name": "stderr",
     "output_type": "stream",
     "text": [
      "IOPub message rate exceeded.\n",
      "The Jupyter server will temporarily stop sending output\n",
      "to the client in order to avoid crashing it.\n",
      "To change this limit, set the config variable\n",
      "`--ServerApp.iopub_msg_rate_limit`.\n",
      "\n",
      "Current values:\n",
      "ServerApp.iopub_msg_rate_limit=1000.0 (msgs/sec)\n",
      "ServerApp.rate_limit_window=3.0 (secs)\n",
      "\n"
     ]
    },
    {
     "name": "stdout",
     "output_type": "stream",
     "text": [
      "[=======================---------------------------] 46.2% 767.8/1662.8MB downloaded"
     ]
    },
    {
     "name": "stderr",
     "output_type": "stream",
     "text": [
      "IOPub message rate exceeded.\n",
      "The Jupyter server will temporarily stop sending output\n",
      "to the client in order to avoid crashing it.\n",
      "To change this limit, set the config variable\n",
      "`--ServerApp.iopub_msg_rate_limit`.\n",
      "\n",
      "Current values:\n",
      "ServerApp.iopub_msg_rate_limit=1000.0 (msgs/sec)\n",
      "ServerApp.rate_limit_window=3.0 (secs)\n",
      "\n"
     ]
    },
    {
     "name": "stdout",
     "output_type": "stream",
     "text": [
      "[=========================-------------------------] 50.6% 841.0/1662.8MB downloaded"
     ]
    },
    {
     "name": "stderr",
     "output_type": "stream",
     "text": [
      "IOPub message rate exceeded.\n",
      "The Jupyter server will temporarily stop sending output\n",
      "to the client in order to avoid crashing it.\n",
      "To change this limit, set the config variable\n",
      "`--ServerApp.iopub_msg_rate_limit`.\n",
      "\n",
      "Current values:\n",
      "ServerApp.iopub_msg_rate_limit=1000.0 (msgs/sec)\n",
      "ServerApp.rate_limit_window=3.0 (secs)\n",
      "\n"
     ]
    },
    {
     "name": "stdout",
     "output_type": "stream",
     "text": [
      "[===========================-----------------------] 54.9% 912.4/1662.8MB downloaded"
     ]
    },
    {
     "name": "stderr",
     "output_type": "stream",
     "text": [
      "IOPub message rate exceeded.\n",
      "The Jupyter server will temporarily stop sending output\n",
      "to the client in order to avoid crashing it.\n",
      "To change this limit, set the config variable\n",
      "`--ServerApp.iopub_msg_rate_limit`.\n",
      "\n",
      "Current values:\n",
      "ServerApp.iopub_msg_rate_limit=1000.0 (msgs/sec)\n",
      "ServerApp.rate_limit_window=3.0 (secs)\n",
      "\n"
     ]
    },
    {
     "name": "stdout",
     "output_type": "stream",
     "text": [
      "[=============================---------------------] 59.3% 986.3/1662.8MB downloaded"
     ]
    },
    {
     "name": "stderr",
     "output_type": "stream",
     "text": [
      "IOPub message rate exceeded.\n",
      "The Jupyter server will temporarily stop sending output\n",
      "to the client in order to avoid crashing it.\n",
      "To change this limit, set the config variable\n",
      "`--ServerApp.iopub_msg_rate_limit`.\n",
      "\n",
      "Current values:\n",
      "ServerApp.iopub_msg_rate_limit=1000.0 (msgs/sec)\n",
      "ServerApp.rate_limit_window=3.0 (secs)\n",
      "\n"
     ]
    },
    {
     "name": "stdout",
     "output_type": "stream",
     "text": [
      "[===============================-------------------] 63.7% 1058.6/1662.8MB downloaded"
     ]
    },
    {
     "name": "stderr",
     "output_type": "stream",
     "text": [
      "IOPub message rate exceeded.\n",
      "The Jupyter server will temporarily stop sending output\n",
      "to the client in order to avoid crashing it.\n",
      "To change this limit, set the config variable\n",
      "`--ServerApp.iopub_msg_rate_limit`.\n",
      "\n",
      "Current values:\n",
      "ServerApp.iopub_msg_rate_limit=1000.0 (msgs/sec)\n",
      "ServerApp.rate_limit_window=3.0 (secs)\n",
      "\n"
     ]
    },
    {
     "name": "stdout",
     "output_type": "stream",
     "text": [
      "[=================================-----------------] 67.9% 1129.0/1662.8MB downloaded"
     ]
    },
    {
     "name": "stderr",
     "output_type": "stream",
     "text": [
      "IOPub message rate exceeded.\n",
      "The Jupyter server will temporarily stop sending output\n",
      "to the client in order to avoid crashing it.\n",
      "To change this limit, set the config variable\n",
      "`--ServerApp.iopub_msg_rate_limit`.\n",
      "\n",
      "Current values:\n",
      "ServerApp.iopub_msg_rate_limit=1000.0 (msgs/sec)\n",
      "ServerApp.rate_limit_window=3.0 (secs)\n",
      "\n"
     ]
    },
    {
     "name": "stdout",
     "output_type": "stream",
     "text": [
      "[====================================--------------] 72.1% 1198.9/1662.8MB downloaded"
     ]
    },
    {
     "name": "stderr",
     "output_type": "stream",
     "text": [
      "IOPub message rate exceeded.\n",
      "The Jupyter server will temporarily stop sending output\n",
      "to the client in order to avoid crashing it.\n",
      "To change this limit, set the config variable\n",
      "`--ServerApp.iopub_msg_rate_limit`.\n",
      "\n",
      "Current values:\n",
      "ServerApp.iopub_msg_rate_limit=1000.0 (msgs/sec)\n",
      "ServerApp.rate_limit_window=3.0 (secs)\n",
      "\n"
     ]
    },
    {
     "name": "stdout",
     "output_type": "stream",
     "text": [
      "[======================================------------] 76.3% 1267.9/1662.8MB downloaded"
     ]
    },
    {
     "name": "stderr",
     "output_type": "stream",
     "text": [
      "IOPub message rate exceeded.\n",
      "The Jupyter server will temporarily stop sending output\n",
      "to the client in order to avoid crashing it.\n",
      "To change this limit, set the config variable\n",
      "`--ServerApp.iopub_msg_rate_limit`.\n",
      "\n",
      "Current values:\n",
      "ServerApp.iopub_msg_rate_limit=1000.0 (msgs/sec)\n",
      "ServerApp.rate_limit_window=3.0 (secs)\n",
      "\n"
     ]
    },
    {
     "name": "stdout",
     "output_type": "stream",
     "text": [
      "[========================================----------] 80.5% 1338.4/1662.8MB downloaded"
     ]
    },
    {
     "name": "stderr",
     "output_type": "stream",
     "text": [
      "IOPub message rate exceeded.\n",
      "The Jupyter server will temporarily stop sending output\n",
      "to the client in order to avoid crashing it.\n",
      "To change this limit, set the config variable\n",
      "`--ServerApp.iopub_msg_rate_limit`.\n",
      "\n",
      "Current values:\n",
      "ServerApp.iopub_msg_rate_limit=1000.0 (msgs/sec)\n",
      "ServerApp.rate_limit_window=3.0 (secs)\n",
      "\n"
     ]
    },
    {
     "name": "stdout",
     "output_type": "stream",
     "text": [
      "[==========================================--------] 84.7% 1407.6/1662.8MB downloaded"
     ]
    },
    {
     "name": "stderr",
     "output_type": "stream",
     "text": [
      "IOPub message rate exceeded.\n",
      "The Jupyter server will temporarily stop sending output\n",
      "to the client in order to avoid crashing it.\n",
      "To change this limit, set the config variable\n",
      "`--ServerApp.iopub_msg_rate_limit`.\n",
      "\n",
      "Current values:\n",
      "ServerApp.iopub_msg_rate_limit=1000.0 (msgs/sec)\n",
      "ServerApp.rate_limit_window=3.0 (secs)\n",
      "\n"
     ]
    },
    {
     "name": "stdout",
     "output_type": "stream",
     "text": [
      "[============================================------] 88.9% 1478.5/1662.8MB downloaded"
     ]
    },
    {
     "name": "stderr",
     "output_type": "stream",
     "text": [
      "IOPub message rate exceeded.\n",
      "The Jupyter server will temporarily stop sending output\n",
      "to the client in order to avoid crashing it.\n",
      "To change this limit, set the config variable\n",
      "`--ServerApp.iopub_msg_rate_limit`.\n",
      "\n",
      "Current values:\n",
      "ServerApp.iopub_msg_rate_limit=1000.0 (msgs/sec)\n",
      "ServerApp.rate_limit_window=3.0 (secs)\n",
      "\n"
     ]
    },
    {
     "name": "stdout",
     "output_type": "stream",
     "text": [
      "[==============================================----] 93.2% 1549.3/1662.8MB downloaded"
     ]
    },
    {
     "name": "stderr",
     "output_type": "stream",
     "text": [
      "IOPub message rate exceeded.\n",
      "The Jupyter server will temporarily stop sending output\n",
      "to the client in order to avoid crashing it.\n",
      "To change this limit, set the config variable\n",
      "`--ServerApp.iopub_msg_rate_limit`.\n",
      "\n",
      "Current values:\n",
      "ServerApp.iopub_msg_rate_limit=1000.0 (msgs/sec)\n",
      "ServerApp.rate_limit_window=3.0 (secs)\n",
      "\n"
     ]
    },
    {
     "name": "stdout",
     "output_type": "stream",
     "text": [
      "[================================================--] 97.4% 1619.7/1662.8MB downloaded"
     ]
    },
    {
     "name": "stderr",
     "output_type": "stream",
     "text": [
      "IOPub message rate exceeded.\n",
      "The Jupyter server will temporarily stop sending output\n",
      "to the client in order to avoid crashing it.\n",
      "To change this limit, set the config variable\n",
      "`--ServerApp.iopub_msg_rate_limit`.\n",
      "\n",
      "Current values:\n",
      "ServerApp.iopub_msg_rate_limit=1000.0 (msgs/sec)\n",
      "ServerApp.rate_limit_window=3.0 (secs)\n",
      "\n"
     ]
    },
    {
     "name": "stdout",
     "output_type": "stream",
     "text": [
      "\n",
      "Model loaded successfully!\n",
      "Vector for 'United_States':\n",
      "[-3.61328125e-02 -4.83398438e-02  2.35351562e-01  1.74804688e-01\n",
      " -1.46484375e-01 -7.42187500e-02 -1.01562500e-01 -7.71484375e-02\n",
      "  1.09375000e-01 -5.71289062e-02 -1.48437500e-01 -6.00585938e-02\n",
      "  1.74804688e-01 -7.71484375e-02  2.58789062e-02 -7.66601562e-02\n",
      " -3.80859375e-02  1.35742188e-01  3.75976562e-02 -4.19921875e-02\n",
      " -3.56445312e-02  5.34667969e-02  3.68118286e-04 -1.66992188e-01\n",
      " -1.17187500e-01  1.41601562e-01 -1.69921875e-01 -6.49414062e-02\n",
      " -1.66992188e-01  1.00585938e-01  1.15722656e-01 -2.18750000e-01\n",
      " -9.86328125e-02 -2.56347656e-02  1.23046875e-01 -3.54003906e-02\n",
      " -1.58203125e-01 -1.60156250e-01  2.94189453e-02  8.15429688e-02\n",
      "  6.88476562e-02  1.87500000e-01  6.49414062e-02  1.15234375e-01\n",
      " -2.27050781e-02  3.32031250e-01 -3.27148438e-02  1.77734375e-01\n",
      " -2.08007812e-01  4.54101562e-02 -1.23901367e-02  1.19628906e-01\n",
      "  7.44628906e-03 -9.03320312e-03  1.14257812e-01  1.69921875e-01\n",
      " -2.38281250e-01 -2.79541016e-02 -1.21093750e-01  2.47802734e-02\n",
      "  7.71484375e-02 -2.81982422e-02 -4.71191406e-02  1.78222656e-02\n",
      " -1.23046875e-01 -5.32226562e-02  2.68554688e-02 -3.11279297e-02\n",
      " -5.59082031e-02 -5.00488281e-02 -3.73535156e-02  1.25976562e-01\n",
      "  5.61523438e-02  1.51367188e-01  4.29687500e-02 -2.08007812e-01\n",
      " -4.78515625e-02  2.78320312e-02  1.81640625e-01  2.20703125e-01\n",
      " -3.61328125e-02 -8.39843750e-02 -3.69548798e-05 -9.52148438e-02\n",
      " -1.25000000e-01 -1.95312500e-01 -1.50390625e-01 -4.15039062e-02\n",
      "  1.31835938e-01  1.17675781e-01  1.91650391e-02  5.51757812e-02\n",
      " -9.42382812e-02 -1.08886719e-01  7.32421875e-02 -1.15234375e-01\n",
      "  8.93554688e-02 -1.40625000e-01  1.45507812e-01  4.49218750e-02\n",
      " -1.10473633e-02 -1.62353516e-02  4.05883789e-03  3.75976562e-02\n",
      " -6.98242188e-02 -5.46875000e-02  2.17285156e-02 -9.47265625e-02\n",
      "  4.24804688e-02  1.81884766e-02 -1.73339844e-02  4.63867188e-02\n",
      " -1.42578125e-01  1.99218750e-01  1.10839844e-01  2.58789062e-02\n",
      " -7.08007812e-02 -5.54199219e-02  3.45703125e-01  1.61132812e-01\n",
      " -2.44140625e-01 -2.59765625e-01 -9.71679688e-02  8.00781250e-02\n",
      " -8.78906250e-02 -7.22656250e-02  1.42578125e-01 -8.54492188e-02\n",
      " -3.18359375e-01  8.30078125e-02  6.34765625e-02  1.64062500e-01\n",
      " -1.92382812e-01 -1.17675781e-01 -5.41992188e-02 -1.56250000e-01\n",
      " -1.21582031e-01 -4.95605469e-02  1.20117188e-01 -3.83300781e-02\n",
      "  5.51757812e-02 -8.97216797e-03  4.32128906e-02  6.93359375e-02\n",
      "  8.93554688e-02  2.53906250e-01  1.65039062e-01  1.64062500e-01\n",
      " -1.41601562e-01  4.58984375e-02  1.97265625e-01 -8.98437500e-02\n",
      "  3.90625000e-02 -1.51367188e-01 -8.60595703e-03 -1.17675781e-01\n",
      " -1.97265625e-01 -1.12792969e-01  1.29882812e-01  1.96289062e-01\n",
      "  1.56402588e-03  3.93066406e-02  2.17773438e-01 -1.43554688e-01\n",
      "  6.03027344e-02 -1.35742188e-01  1.16210938e-01 -1.59912109e-02\n",
      "  2.79296875e-01  1.46484375e-01 -1.19628906e-01  1.76757812e-01\n",
      "  1.28906250e-01 -1.49414062e-01  6.93359375e-02 -1.72851562e-01\n",
      "  9.22851562e-02  1.33056641e-02 -2.00195312e-01 -9.76562500e-02\n",
      " -1.65039062e-01 -2.46093750e-01 -2.35595703e-02 -2.11914062e-01\n",
      "  1.84570312e-01 -1.85546875e-02  2.16796875e-01  5.05371094e-02\n",
      "  2.02636719e-02  4.25781250e-01  1.28906250e-01 -2.77099609e-02\n",
      "  1.29882812e-01 -1.15722656e-01 -2.05078125e-02  1.49414062e-01\n",
      "  7.81250000e-03 -2.05078125e-01 -8.05664062e-02 -2.67578125e-01\n",
      " -2.29492188e-02 -8.20312500e-02  8.64257812e-02  7.61718750e-02\n",
      " -3.66210938e-02  5.22460938e-02 -1.22070312e-01 -1.44042969e-02\n",
      " -2.69531250e-01  8.44726562e-02 -2.52685547e-02 -2.96630859e-02\n",
      " -1.68945312e-01  1.93359375e-01 -1.08398438e-01  1.94091797e-02\n",
      " -1.80664062e-01  1.93359375e-01 -7.08007812e-02  5.85937500e-02\n",
      " -1.01562500e-01 -1.31835938e-01  7.51953125e-02 -7.66601562e-02\n",
      "  3.37219238e-03 -8.59375000e-02  1.25000000e-01  2.92968750e-02\n",
      "  1.70898438e-01 -9.37500000e-02 -1.09375000e-01 -2.50244141e-02\n",
      "  2.11914062e-01 -4.44335938e-02  6.12792969e-02  2.62451172e-02\n",
      " -1.77734375e-01  1.23046875e-01 -7.42187500e-02 -1.67968750e-01\n",
      " -1.08886719e-01 -9.04083252e-04 -7.37304688e-02  5.49316406e-02\n",
      "  6.03027344e-02  8.39843750e-02  9.17968750e-02 -1.32812500e-01\n",
      "  1.22070312e-01 -8.78906250e-03  1.19140625e-01 -1.94335938e-01\n",
      " -6.64062500e-02 -2.07031250e-01  7.37304688e-02  8.93554688e-02\n",
      "  1.81884766e-02 -1.20605469e-01 -2.61230469e-02  2.67333984e-02\n",
      "  7.76367188e-02 -8.30078125e-02  6.78710938e-02 -3.54003906e-02\n",
      "  3.10546875e-01 -2.42919922e-02 -1.41601562e-01 -2.08007812e-01\n",
      " -4.57763672e-03 -6.54296875e-02 -4.95605469e-02  2.22656250e-01\n",
      "  1.53320312e-01 -1.38671875e-01 -5.24902344e-02  4.24804688e-02\n",
      " -2.38281250e-01  1.56250000e-01  5.83648682e-04 -1.20605469e-01\n",
      " -9.22851562e-02 -4.44335938e-02  3.61328125e-02 -1.86767578e-02\n",
      " -8.25195312e-02 -8.25195312e-02 -4.05273438e-02  1.19018555e-02\n",
      "  1.69921875e-01 -2.80761719e-02  3.03649902e-03  9.32617188e-02\n",
      " -8.49609375e-02  1.57470703e-02  7.03125000e-02  1.62353516e-02\n",
      " -2.27050781e-02  3.51562500e-02  2.47070312e-01 -2.67333984e-02]\n"
     ]
    }
   ],
   "source": [
    "import gensim.downloader as api\n",
    "\n",
    "# モデルのダウンロードとロード\n",
    "model = api.load(\"word2vec-google-news-300\")\n",
    "print(\"Model loaded successfully!\")\n",
    "print(\"Vector for 'United_States':\")\n",
    "print(model[\"United_States\"])"
   ]
  },
  {
   "cell_type": "markdown",
   "id": "5dbcaf26-249b-4009-aa33-017190be4ec4",
   "metadata": {},
   "source": [
    "### 61. 単語の類似度\n",
    "コサイン類似度は、2つのベクトルがどれだけ同じ方向を向いているかを示す指標  \n",
    "値が1に近いほど似ていると判断できる"
   ]
  },
  {
   "cell_type": "code",
   "execution_count": 12,
   "id": "4d020af4-c751-436e-8405-648c748cda48",
   "metadata": {},
   "outputs": [
    {
     "name": "stdout",
     "output_type": "stream",
     "text": [
      "【タスク61】'United_States' と 'U.S.' のコサイン類似度:\n",
      "0.73107743\n"
     ]
    }
   ],
   "source": [
    "similarity = model.similarity(\"United_States\", \"U.S.\")\n",
    "print(\"【タスク61】'United_States' と 'U.S.' のコサイン類似度:\")\n",
    "print(similarity)"
   ]
  },
  {
   "cell_type": "markdown",
   "id": "240e4ae9-bacb-4e5e-a7bf-d074a814534b",
   "metadata": {},
   "source": [
    "### 62. 類似度の高い単語10件\n",
    "単語ベクトル空間では、ある単語に近い位置にある単語は意味や用法が似ていると考えられる  \n"
   ]
  },
  {
   "cell_type": "code",
   "execution_count": 16,
   "id": "9190d496-a2e1-484b-b988-fd72e6e48d5d",
   "metadata": {},
   "outputs": [
    {
     "name": "stdout",
     "output_type": "stream",
     "text": [
      "【タスク62】'United_States' と類似度が高い単語トップ10:\n",
      "Unites_States: 0.788\n",
      "Untied_States: 0.754\n",
      "United_Sates: 0.740\n",
      "U.S.: 0.731\n",
      "theUnited_States: 0.640\n",
      "America: 0.618\n",
      "UnitedStates: 0.617\n",
      "Europe: 0.613\n",
      "countries: 0.604\n",
      "Canada: 0.602\n"
     ]
    }
   ],
   "source": [
    "# \"United_States\" と最も類似度が高い単語上位10件を取得\n",
    "similar_words = model.most_similar(\"United_States\", topn=10)\n",
    "print(\"【タスク62】'United_States' と類似度が高い単語トップ10:\")\n",
    "for word, score in similar_words:\n",
    "    print(f\"{word}: {score:.3f}\")\n"
   ]
  },
  {
   "cell_type": "markdown",
   "id": "f19f1e9f-80a6-4341-8cb9-7a088ef910c9",
   "metadata": {},
   "source": [
    "### 63. 加法構成性によるアナロジー\n",
    "加法構成性とは、ある関係をベクトルの引き算や足し算で表現できる性質のこと  \n"
   ]
  },
  {
   "cell_type": "code",
   "execution_count": 19,
   "id": "522b6bfb-a1c4-4a31-970d-8cc14bf5e0fc",
   "metadata": {},
   "outputs": [
    {
     "name": "stdout",
     "output_type": "stream",
     "text": [
      "【タスク63】 'Spain' - 'Madrid' + 'Athens' の計算結果（上位10語）:\n",
      "Greece: 0.690\n",
      "Aristeidis_Grigoriadis: 0.561\n",
      "Ioannis_Drymonakos: 0.555\n",
      "Greeks: 0.545\n",
      "Ioannis_Christou: 0.540\n",
      "Hrysopiyi_Devetzi: 0.525\n",
      "Heraklio: 0.521\n",
      "Athens_Greece: 0.517\n",
      "Lithuania: 0.517\n",
      "Iraklion: 0.515\n"
     ]
    }
   ],
   "source": [
    "# 加法構成性： Spain - Madrid + Athens の計算結果\n",
    "result = model.most_similar(positive=[\"Spain\", \"Athens\"], negative=[\"Madrid\"], topn=10)\n",
    "print(\"【タスク63】 'Spain' - 'Madrid' + 'Athens' の計算結果（上位10語）:\")\n",
    "for word, score in result:\n",
    "    print(f\"{word}: {score:.3f}\")\n"
   ]
  },
  {
   "cell_type": "markdown",
   "id": "20060f64-4c4c-4d43-ab08-6efd1ed296b7",
   "metadata": {},
   "source": [
    "### 64. アナロジーデータでの実験\n",
    "単語アナロジーの評価データには、例えば「man : king :: woman : ?」のような問題が含まれている  \n",
    "各アナロジー問題に対して、vec(2列目)−vec(1列目)+vec(3列目)  \n",
    "の計算を行い、得られたベクトルに最も類似度の高い単語を求める  \n",
    "その予測結果と類似度を元の問題の末尾に追加し、どの程度正しくアナロジーが解けるかを確認する"
   ]
  },
  {
   "cell_type": "code",
   "execution_count": 24,
   "id": "61f2d75b-9b93-4cd5-a30c-c1ee6cc06b1e",
   "metadata": {},
   "outputs": [
    {
     "name": "stdout",
     "output_type": "stream",
     "text": [
      "【タスク64】アナロジー結果が analogy_result.txt に保存されました。\n"
     ]
    }
   ],
   "source": [
    "input_file = \"analogy.txt\"\n",
    "output_file = \"analogy_result.txt\"\n",
    "\n",
    "with open(input_file, \"r\", encoding=\"utf-8\") as fin, open(output_file, \"w\", encoding=\"utf-8\") as fout:\n",
    "    for line in fin:\n",
    "        line = line.strip()\n",
    "        # コロンで始まる行はカテゴリ見出しなのでそのまま出力\n",
    "        if line.startswith(\":\"):\n",
    "            fout.write(line + \"\\n\")\n",
    "            continue\n",
    "        parts = line.split()\n",
    "        # 少なくとも3語以上の行（4語目が正解語の場合もある）を処理\n",
    "        if len(parts) < 3:\n",
    "            continue\n",
    "        w1, w2, w3 = parts[0], parts[1], parts[2]\n",
    "        correct = parts[3] if len(parts) > 3 else \"\"\n",
    "        try:\n",
    "            predicted, sim = model.most_similar(positive=[w2, w3], negative=[w1], topn=1)[0]\n",
    "        except KeyError:\n",
    "            predicted, sim = \"N/A\", 0.0\n",
    "        fout.write(line + f\"\\t{predicted}\\t{sim:.3f}\\n\")\n",
    "\n",
    "print(\"【タスク64】アナロジー結果が\", output_file, \"に保存されました。\")\n"
   ]
  },
  {
   "cell_type": "markdown",
   "id": "a0f71ae0-1d8c-4623-97e8-ea8078c18deb",
   "metadata": {},
   "source": [
    "### 65. アナロジータスクでの正解率\n",
    "タスク64の結果を用いて、単語アナロジータスクの正解率を測定する  \n",
    "評価データは、意味的アナロジー（semantic analogy）と文法的アナロジー（syntactic analogy）に分かれている場合が多く、それぞれの正解率を計算する  \n"
   ]
  },
  {
   "cell_type": "code",
   "execution_count": 26,
   "id": "0f41630b-24bc-463a-b7f3-9b9c6a14b96d",
   "metadata": {},
   "outputs": [
    {
     "name": "stdout",
     "output_type": "stream",
     "text": [
      "【タスク65】アナロジータスクの正解率\n",
      "  Semantic analogy accuracy: 73.09% (6482/8869)\n",
      "  Syntactic analogy accuracy: 74.00% (7900/10675)\n"
     ]
    }
   ],
   "source": [
    "semantic_categories = {\"capital-common-countries\", \"capital-world\", \"currency\", \"city-in-state\", \"family\", \"male-female\"}\n",
    "\n",
    "semantic_correct = 0\n",
    "semantic_total = 0\n",
    "syntactic_correct = 0\n",
    "syntactic_total = 0\n",
    "current_category = \"\"\n",
    "\n",
    "with open(\"analogy_result.txt\", \"r\", encoding=\"utf-8\") as fin:\n",
    "    for line in fin:\n",
    "        line = line.strip()\n",
    "        if line.startswith(\":\"):\n",
    "            current_category = line[1:].strip()\n",
    "            continue\n",
    "        parts = line.split()\n",
    "        # 期待形式: w1 w2 w3 correct predicted similarity\n",
    "        if len(parts) < 6:\n",
    "            continue\n",
    "        correct_word = parts[3]\n",
    "        predicted_word = parts[-2]  # 末尾から2番目が予測単語\n",
    "        if current_category in semantic_categories:\n",
    "            semantic_total += 1\n",
    "            if predicted_word == correct_word:\n",
    "                semantic_correct += 1\n",
    "        else:\n",
    "            syntactic_total += 1\n",
    "            if predicted_word == correct_word:\n",
    "                syntactic_correct += 1\n",
    "\n",
    "semantic_acc = semantic_correct / semantic_total if semantic_total > 0 else 0\n",
    "syntactic_acc = syntactic_correct / syntactic_total if syntactic_total > 0 else 0\n",
    "\n",
    "print(\"【タスク65】アナロジータスクの正解率\")\n",
    "print(f\"  Semantic analogy accuracy: {semantic_acc*100:.2f}% ({semantic_correct}/{semantic_total})\")\n",
    "print(f\"  Syntactic analogy accuracy: {syntactic_acc*100:.2f}% ({syntactic_correct}/{syntactic_total})\")\n"
   ]
  },
  {
   "cell_type": "markdown",
   "id": "6591d29a-6374-48be-a927-e7ce9269501d",
   "metadata": {},
   "source": [
    "### 66. WordSimilarity-353での評価\n",
    "WordSimilarity-353 Test Collectionは、人間が評価した単語間の類似度スコアを含むデータセット  \n",
    "単語ベクトルを用いて計算したコサイン類似度と、人間の評価によるスコアの相関を調べることで、ベクトルが人間の直感にどれだけ沿っているかを確認できる"
   ]
  },
  {
   "cell_type": "code",
   "execution_count": 34,
   "id": "aac1683f-bce4-4703-a8c7-97ebc046ca55",
   "metadata": {},
   "outputs": [
    {
     "name": "stdout",
     "output_type": "stream",
     "text": [
      "【タスク66】Spearman相関係数 (model vs human):\n",
      "0.700 (p-value: 0.000)\n"
     ]
    },
    {
     "name": "stderr",
     "output_type": "stream",
     "text": [
      "/var/folders/cd/64q4_xtd5ybfk0cy_yn_56hm0000gn/T/ipykernel_23704/517896151.py:10: FutureWarning: Series.__getitem__ treating keys as positions is deprecated. In a future version, integer keys will always be treated as labels (consistent with DataFrame behavior). To access a value by position, use `ser.iloc[pos]`\n",
      "  w1, w2, human_score = row[0], row[1], row[2]\n"
     ]
    }
   ],
   "source": [
    "import pandas as pd\n",
    "from scipy.stats import spearmanr\n",
    "\n",
    "# CSVファイルの形式は、1列目: Word 1, 2列目: Word 2, 3列目: Human Score と仮定\n",
    "ws353 = pd.read_csv(\"combined.csv\")\n",
    "human_scores = []\n",
    "cosine_similarities = []\n",
    "\n",
    "for index, row in ws353.iterrows():\n",
    "    w1, w2, human_score = row[0], row[1], row[2]\n",
    "    try:\n",
    "        cos_sim = model.similarity(w1, w2)\n",
    "        cosine_similarities.append(cos_sim)\n",
    "        human_scores.append(human_score)\n",
    "    except KeyError:\n",
    "        continue\n",
    "\n",
    "corr, p_value = spearmanr(human_scores, cosine_similarities)\n",
    "print(\"【タスク66】Spearman相関係数 (model vs human):\")\n",
    "print(f\"{corr:.3f} (p-value: {p_value:.3f})\")\n"
   ]
  },
  {
   "cell_type": "markdown",
   "id": "5cb9708e-c7bf-4ac4-a07c-f2df88033bf2",
   "metadata": {},
   "source": [
    "### 67. k-meansクラスタリング\n",
    "単語ベクトルは、意味的な情報を含むため、似た意味を持つ単語は近くに配置される傾向がある  \n",
    "国名など特定のカテゴリの単語を抽出し、k-means クラスタリングを実施することで、どの国が似た特徴（例えば、文化圏や地理的関係）を持つかをグループ分けできる  "
   ]
  },
  {
   "cell_type": "code",
   "execution_count": 57,
   "id": "77361f36-62ac-4f95-a4cf-f6eb1d1b4103",
   "metadata": {},
   "outputs": [
    {
     "name": "stdout",
     "output_type": "stream",
     "text": [
      "【タスク67】国名の k-means クラスタリング結果 (k=5):\n",
      "United_States: Cluster 2\n",
      "United_Kingdom: Cluster 2\n",
      "France: Cluster 0\n",
      "Germany: Cluster 2\n",
      "Spain: Cluster 0\n",
      "Italy: Cluster 0\n",
      "Canada: Cluster 2\n",
      "Australia: Cluster 3\n",
      "Japan: Cluster 2\n",
      "China: Cluster 1\n",
      "India: Cluster 1\n",
      "Brazil: Cluster 4\n"
     ]
    }
   ],
   "source": [
    "from sklearn.cluster import KMeans\n",
    "import numpy as np\n",
    "\n",
    "# 国名リスト\n",
    "countries = [\"United_States\", \"United_Kingdom\", \"France\", \"Germany\", \"Spain\", \n",
    "             \"Italy\", \"Canada\", \"Australia\", \"Japan\", \"China\", \"India\", \"Brazil\"]\n",
    "\n",
    "country_vectors = []\n",
    "country_names = []\n",
    "for country in countries:\n",
    "    if country in model:\n",
    "        country_vectors.append(model[country])\n",
    "        country_names.append(country)\n",
    "\n",
    "country_vectors = np.array(country_vectors)\n",
    "\n",
    "# k-means クラスタリング（k=5）\n",
    "k = 5\n",
    "kmeans = KMeans(n_clusters=k, random_state=42)\n",
    "labels = kmeans.fit_predict(country_vectors)\n",
    "\n",
    "print(\"【タスク67】国名の k-means クラスタリング結果 (k=5):\")\n",
    "for name, label in zip(country_names, labels):\n",
    "    print(f\"{name}: Cluster {label}\")\n"
   ]
  },
  {
   "cell_type": "markdown",
   "id": "8d33bf95-8cdf-448d-a2e3-bbf132e4b188",
   "metadata": {},
   "source": [
    "### 68. Ward法によるクラスタリング\n",
    "階層型クラスタリングは、データ間の類似度に基づいて、ツリー状（階層構造）にグループ化する手法  \n",
    "Ward法は、分散を最小にする方法でクラスタを構成する  \n",
    "デンドログラム（樹形図）を作成することで、国名間の類似度（どれだけ近いか）の関係を視覚的に確認できる  \n"
   ]
  },
  {
   "cell_type": "code",
   "execution_count": 42,
   "id": "61ef83fd-5e45-46ff-adac-13c67841bd82",
   "metadata": {},
   "outputs": [
    {
     "data": {
      "image/png": "[encoded data removed]",
      "text/plain": [
       "<Figure size 1000x600 with 1 Axes>"
      ]
     },
     "metadata": {},
     "output_type": "display_data"
    }
   ],
   "source": [
    "import scipy.cluster.hierarchy as sch\n",
    "import matplotlib.pyplot as plt\n",
    "\n",
    "# 国名の単語ベクトル\n",
    "linked = sch.linkage(country_vectors, method=\"ward\")\n",
    "\n",
    "plt.figure(figsize=(10, 6))\n",
    "dendro = sch.dendrogram(linked, labels=country_names, leaf_rotation=90)\n",
    "plt.title(\"Ward Hierarchical Clustering of Country Names\")\n",
    "plt.xlabel(\"Country\")\n",
    "plt.ylabel(\"Distance\")\n",
    "plt.tight_layout()\n",
    "plt.show()\n"
   ]
  },
  {
   "cell_type": "markdown",
   "id": "9c21466f-cac5-421a-b096-7dd38b26f34c",
   "metadata": {},
   "source": [
    "### 69. t-SNEによる可視化\n",
    "単語ベクトルは通常300次元など高次元ですが、人間が直接理解するには難しいため、2次元や3次元に低次元化して可視化する手法が用いられる  \n",
    "t-SNE（t-distributed Stochastic Neighbor Embedding）は、高次元データを低次元にうまくマッピングして、データ間の局所的な関係性を保ったまま可視化する手法"
   ]
  },
  {
   "cell_type": "code",
   "execution_count": 55,
   "id": "3680e28d-b8a5-49fa-99a4-be5401a7b3c6",
   "metadata": {},
   "outputs": [
    {
     "data": {
      "image/png": "[encoded data removed]",
      "text/plain": [
       "<Figure size 800x600 with 1 Axes>"
      ]
     },
     "metadata": {},
     "output_type": "display_data"
    }
   ],
   "source": [
    "from sklearn.manifold import TSNE\n",
    "\n",
    "tsne = TSNE(n_components=2, random_state=42, perplexity=5)\n",
    "country_tsne = tsne.fit_transform(country_vectors)\n",
    "\n",
    "plt.figure(figsize=(8, 6))\n",
    "plt.scatter(country_tsne[:, 0], country_tsne[:, 1], s=100)\n",
    "for i, name in enumerate(country_names):\n",
    "    plt.annotate(name, (country_tsne[i, 0], country_tsne[i, 1]), fontsize=12)\n",
    "plt.title(\"t-SNE Visualization of Country Name Vectors\")\n",
    "plt.xlabel(\"Dimension 1\")\n",
    "plt.ylabel(\"Dimension 2\")\n",
    "plt.tight_layout()\n",
    "plt.show()"
   ]
  }
 ],
 "metadata": {
  "kernelspec": {
   "display_name": "Python (torch_env)",
   "language": "python",
   "name": "torch_env"
  },
  "language_info": {
   "codemirror_mode": {
    "name": "ipython",
    "version": 3
   },
   "file_extension": ".py",
   "mimetype": "text/x-python",
   "name": "python",
   "nbconvert_exporter": "python",
   "pygments_lexer": "ipython3",
   "version": "3.10.16"
  }
 },
 "nbformat": 4,
 "nbformat_minor": 5
}
