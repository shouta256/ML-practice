{
 "cells": [
  {
   "cell_type": "markdown",
   "id": "f8a65f95-147d-4c7e-b0fb-d64bce8d866a",
   "metadata": {},
   "source": [
    "### 50. データの入手・整形"
   ]
  },
  {
   "cell_type": "code",
   "execution_count": 5,
   "id": "a2fdb79b-40c5-479b-8c40-03f71269aec7",
   "metadata": {},
   "outputs": [
    {
     "name": "stdout",
     "output_type": "stream",
     "text": [
      "【タスク50】学習データのカテゴリ分布:\n",
      "CATEGORY\n",
      "b    4530\n",
      "e    4178\n",
      "t    1225\n",
      "m     739\n",
      "Name: count, dtype: int64\n",
      "\n",
      "【タスク50】評価データのカテゴリ分布:\n",
      "CATEGORY\n",
      "b    558\n",
      "e    541\n",
      "t    155\n",
      "m     80\n",
      "Name: count, dtype: int64\n"
     ]
    }
   ],
   "source": [
    "import pandas as pd\n",
    "import numpy as np\n",
    "\n",
    "data = pd.read_csv(\"newsCorpora.csv\", sep=\"\\t\", header=None,\n",
    "                   names=[\"ID\", \"TITLE\", \"URL\", \"PUBLISHER\", \"CATEGORY\", \"STORY\", \"HOSTNAME\", \"TIMESTAMP\"])\n",
    "\n",
    "publishers = [\"Reuters\", \"Huffington Post\", \"Businessweek\", \"Contactmusic.com\", \"Daily Mail\"]\n",
    "filtered = data[data[\"PUBLISHER\"].isin(publishers)]\n",
    "\n",
    "filtered = filtered.sample(frac=1, random_state=42).reset_index(drop=True)\n",
    "\n",
    "n = len(filtered)\n",
    "train_end = int(0.8 * n)\n",
    "valid_end = int(0.9 * n)\n",
    "\n",
    "train = filtered.iloc[:train_end]\n",
    "valid = filtered.iloc[train_end:valid_end]\n",
    "test = filtered.iloc[valid_end:]\n",
    "\n",
    "def write_dataset(df, filename):\n",
    "    with open(filename, \"w\", encoding=\"utf-8\") as f:\n",
    "        for _, row in df.iterrows():\n",
    "            f.write(f\"{row['CATEGORY']}\\t{row['TITLE']}\\n\")\n",
    "\n",
    "write_dataset(train, \"train.txt\")\n",
    "write_dataset(valid, \"valid.txt\")\n",
    "write_dataset(test, \"test.txt\")\n",
    "\n",
    "print(\"【タスク50】学習データのカテゴリ分布:\")\n",
    "print(train[\"CATEGORY\"].value_counts())\n",
    "print(\"\\n【タスク50】評価データのカテゴリ分布:\")\n",
    "print(test[\"CATEGORY\"].value_counts())\n",
    "\n",
    "    "
   ]
  },
  {
   "cell_type": "markdown",
   "id": "66565765-f741-4bd4-a4d6-dda1154b066f",
   "metadata": {},
   "source": [
    "### 51. 特徴量抽出\n",
    "記事見出しから有用な情報を取り出し、各事例をベクトル表現に変換"
   ]
  },
  {
   "cell_type": "code",
   "execution_count": 8,
   "id": "ee3659ac-73b7-4024-9f10-c9d895d7e561",
   "metadata": {},
   "outputs": [
    {
     "name": "stdout",
     "output_type": "stream",
     "text": [
      "【タスク51】特徴量抽出完了。\n"
     ]
    }
   ],
   "source": [
    "import re\n",
    "\n",
    "def tokenize(text):\n",
    "    return re.findall(r\"\\w+\", text.lower())\n",
    "\n",
    "def extract_features(df, filename):\n",
    "    with open(filename, \"w\", encoding=\"utf-8\") as f:\n",
    "        for _, row in df.iterrows():\n",
    "            tokens = tokenize(row[\"TITLE\"])\n",
    "            f.write(f\"{row['CATEGORY']}\\t{' '.join(tokens)}\\n\")\n",
    "\n",
    "extract_features(train, \"train.feature.txt\")\n",
    "extract_features(valid, \"valid.feature.txt\")\n",
    "extract_features(test,  \"test.feature.txt\")\n",
    "\n",
    "print(\"【タスク51】特徴量抽出完了。\")"
   ]
  },
  {
   "cell_type": "markdown",
   "id": "bc588821-4d5d-48a6-acb4-a80e409b7b57",
   "metadata": {},
   "source": [
    "### 52. 学習"
   ]
  },
  {
   "cell_type": "code",
   "execution_count": 17,
   "id": "1065eec9-a799-4bb5-84d2-5fd6e2307f1a",
   "metadata": {},
   "outputs": [
    {
     "name": "stdout",
     "output_type": "stream",
     "text": [
      "【タスク52】学習完了。\n"
     ]
    }
   ],
   "source": [
    "from sklearn.feature_extraction.text import TfidfVectorizer\n",
    "from sklearn.linear_model import LogisticRegression\n",
    "\n",
    "def load_dataset(filename):\n",
    "    texts = []\n",
    "    labels = []\n",
    "    with open(filename, \"r\", encoding=\"utf-8\") as f:\n",
    "        for line in f:\n",
    "            parts = line.strip().split(\"\\t\")\n",
    "            if len(parts) == 2:\n",
    "                label, text = parts\n",
    "                labels.append(label)\n",
    "                texts.append(text)\n",
    "    return texts, labels\n",
    "\n",
    "# 学習、検証、評価データの読み込み\n",
    "train_texts, train_labels = load_dataset(\"train.txt\")\n",
    "valid_texts, valid_labels = load_dataset(\"valid.txt\")\n",
    "test_texts,  test_labels  = load_dataset(\"test.txt\")\n",
    "\n",
    "# 文章を数値ベクトルに変換（Tfidf）\n",
    "vectorizer = TfidfVectorizer(token_pattern=r\"\\w+\", lowercase=True)\n",
    "X_train = vectorizer.fit_transform(train_texts)\n",
    "X_valid = vectorizer.transform(valid_texts)\n",
    "X_test  = vectorizer.transform(test_texts)\n",
    "\n",
    "clf = LogisticRegression(max_iter=1000)\n",
    "clf.fit(X_train, train_labels)\n",
    "\n",
    "print(\"【タスク52】学習完了。\")\n"
   ]
  },
  {
   "cell_type": "markdown",
   "id": "f0f149a6-f1f9-4659-b7cf-c8a802d94e8c",
   "metadata": {},
   "source": [
    "### 53. 予測"
   ]
  },
  {
   "cell_type": "code",
   "execution_count": 20,
   "id": "95578261-7ec2-4986-8628-5629053db06e",
   "metadata": {},
   "outputs": [
    {
     "name": "stdout",
     "output_type": "stream",
     "text": [
      "【タスク53】入力見出し: Microsoft announces new cloud service\n",
      "予測カテゴリ: t\n",
      "各カテゴリの予測確率:\n",
      "  t: 0.773\n",
      "  e: 0.118\n",
      "  b: 0.086\n",
      "  m: 0.023\n"
     ]
    }
   ],
   "source": [
    "def predict_headline(headline):\n",
    "    X = vectorizer.transform([headline])\n",
    "    proba = clf.predict_proba(X)[0]\n",
    "    pred_label = clf.predict(X)[0]\n",
    "    classes = clf.classes_\n",
    "    result = sorted(zip(classes, proba), key=lambda x: x[1], reverse=True)\n",
    "    return pred_label, result\n",
    "\n",
    "example_headline = \"Microsoft announces new cloud service\" \n",
    "pred, probs = predict_headline(example_headline)\n",
    "print(\"【タスク53】入力見出し:\", example_headline)\n",
    "print(\"予測カテゴリ:\", pred)\n",
    "print(\"各カテゴリの予測確率:\")\n",
    "for label, p in probs:\n",
    "    print(f\"  {label}: {p:.3f}\")"
   ]
  },
  {
   "cell_type": "markdown",
   "id": "f839937b-be2d-4cbc-b534-1494479fa799",
   "metadata": {},
   "source": [
    "### 54. 正解率の計測"
   ]
  },
  {
   "cell_type": "code",
   "execution_count": 23,
   "id": "63194b35-640c-4013-a676-9343e6e2419a",
   "metadata": {},
   "outputs": [
    {
     "name": "stdout",
     "output_type": "stream",
     "text": [
      "【タスク54】正解率:\n",
      "  学習データ: 0.944\n",
      "  評価データ: 0.902\n"
     ]
    }
   ],
   "source": [
    "from sklearn.metrics import accuracy_score\n",
    "\n",
    "train_pred = clf.predict(X_train)\n",
    "train_acc = accuracy_score(train_labels, train_pred)\n",
    "\n",
    "test_pred = clf.predict(X_test)\n",
    "test_acc = accuracy_score(test_labels, test_pred)\n",
    "\n",
    "print(\"【タスク54】正解率:\")\n",
    "print(f\"  学習データ: {train_acc:.3f}\")\n",
    "print(f\"  評価データ: {test_acc:.3f}\")"
   ]
  },
  {
   "cell_type": "markdown",
   "id": "abb36093-c69c-4f7a-b954-7f5978b3ed57",
   "metadata": {},
   "source": [
    "### 55. 混同行列の作成\n",
    "混同行列は各クラスごとに正解と予測の組み合わせを示す表"
   ]
  },
  {
   "cell_type": "code",
   "execution_count": 27,
   "id": "58aa833d-fbca-4b39-b180-7aa124131565",
   "metadata": {},
   "outputs": [
    {
     "name": "stdout",
     "output_type": "stream",
     "text": [
      "【タスク55】学習データの混同行列:\n",
      "      b     e    m    t\n",
      "b  4434    59    5   32\n",
      "e    25  4148    0    5\n",
      "m    83   122  530    4\n",
      "t   148   112    1  964\n",
      "\n",
      "【タスク55】評価データの混同行列:\n",
      "     b    e   m   t\n",
      "b  537   16   0   5\n",
      "e    8  531   1   0\n",
      "m   16   24  40   0\n",
      "t   34   25   1  95\n"
     ]
    }
   ],
   "source": [
    "from sklearn.metrics import confusion_matrix\n",
    "\n",
    "train_cm = confusion_matrix(train_labels, train_pred, labels=clf.classes_)\n",
    "test_cm = confusion_matrix(test_labels, test_pred, labels=clf.classes_)\n",
    "\n",
    "print(\"【タスク55】学習データの混同行列:\")\n",
    "print(pd.DataFrame(train_cm, index=clf.classes_, columns=clf.classes_))\n",
    "print(\"\\n【タスク55】評価データの混同行列:\")\n",
    "print(pd.DataFrame(test_cm, index=clf.classes_, columns=clf.classes_))"
   ]
  },
  {
   "cell_type": "markdown",
   "id": "6ac807d1-d5ee-42f0-9826-484015f22d39",
   "metadata": {},
   "source": [
    "### 56. 適合率，再現率，F1スコアの計測\n",
    "・マイクロ平均：全体の正例と負例の合計から計算  \n",
    "・マクロ平均：各クラスごとの平均"
   ]
  },
  {
   "cell_type": "code",
   "execution_count": 37,
   "id": "85d3e559-b4b2-47cc-b1df-3849a51567fe",
   "metadata": {},
   "outputs": [
    {
     "name": "stdout",
     "output_type": "stream",
     "text": [
      "【タスク56】各カテゴリの評価指標:\n",
      "   Precision    Recall        F1  Support\n",
      "b   0.902521  0.962366  0.931483      558\n",
      "e   0.889447  0.983333  0.934037      540\n",
      "m   0.952381  0.500000  0.655738       80\n",
      "t   0.950000  0.612903  0.745098      155\n",
      "\n",
      "【タスク56】マイクロ平均:\n",
      "  Precision: 0.902, Recall: 0.902, F1: 0.902\n",
      "【タスク56】マクロ平均:\n",
      "  Precision: 0.739, Recall: 0.612, F1: 0.653\n"
     ]
    },
    {
     "name": "stderr",
     "output_type": "stream",
     "text": [
      "/opt/anaconda3/envs/torch_env/lib/python3.10/site-packages/sklearn/metrics/_classification.py:1531: UndefinedMetricWarning: Precision is ill-defined and being set to 0.0 in labels with no predicted samples. Use `zero_division` parameter to control this behavior.\n",
      "  _warn_prf(average, modifier, f\"{metric.capitalize()} is\", len(result))\n"
     ]
    }
   ],
   "source": [
    "from sklearn.metrics import precision_recall_fscore_support, precision_score, recall_score, f1_score\n",
    "\n",
    "# 各カテゴリごとのスコア計算\n",
    "precision, recall, f1, support = precision_recall_fscore_support(test_labels, test_pred, labels=clf.classes_)\n",
    "results = pd.DataFrame({\n",
    "    \"Precision\": precision,\n",
    "    \"Recall\": recall,\n",
    "    \"F1\": f1,\n",
    "    \"Support\": support\n",
    "}, index=clf.classes_)\n",
    "print(\"【タスク56】各カテゴリの評価指標:\")\n",
    "print(results)\n",
    "\n",
    "# マイクロ平均\n",
    "precision_micro = precision_score(test_labels, test_pred, average=\"micro\")\n",
    "recall_micro = recall_score(test_labels, test_pred, average=\"micro\")\n",
    "f1_micro = f1_score(test_labels, test_pred, average=\"micro\")\n",
    "# マクロ平均\n",
    "precision_macro = precision_score(test_labels, test_pred, average=\"macro\")\n",
    "recall_macro = recall_score(test_labels, test_pred, average=\"macro\")\n",
    "f1_macro = f1_score(test_labels, test_pred, average=\"macro\")\n",
    "\n",
    "print(\"\\n【タスク56】マイクロ平均:\")\n",
    "print(f\"  Precision: {precision_micro:.3f}, Recall: {recall_micro:.3f}, F1: {f1_micro:.3f}\")\n",
    "print(\"【タスク56】マクロ平均:\")\n",
    "print(f\"  Precision: {precision_macro:.3f}, Recall: {recall_macro:.3f}, F1: {f1_macro:.3f}\")\n"
   ]
  },
  {
   "cell_type": "markdown",
   "id": "6542401f-76d5-4489-ac02-8b1f99d08bf2",
   "metadata": {},
   "source": [
    "### 57. 特徴量の重みの確認"
   ]
  },
  {
   "cell_type": "code",
   "execution_count": 44,
   "id": "16679a2a-3933-47fc-8acd-47c6c71723bc",
   "metadata": {},
   "outputs": [
    {
     "name": "stdout",
     "output_type": "stream",
     "text": [
      "【タスク57】クラス: b\n",
      "  トップ10（正の重み）:\n",
      "    china: 3.4610\n",
      "    bank: 3.4292\n",
      "    fed: 3.4243\n",
      "    stocks: 3.0661\n",
      "    ecb: 2.9338\n",
      "    euro: 2.8756\n",
      "    ukraine: 2.5680\n",
      "    oil: 2.5429\n",
      "    dollar: 2.5422\n",
      "    yellen: 2.4813\n",
      "  トップ10（負の重み）:\n",
      "    and: -2.2789\n",
      "    ebola: -2.0521\n",
      "    the: -1.9429\n",
      "    her: -1.9015\n",
      "    apple: -1.8629\n",
      "    she: -1.8101\n",
      "    google: -1.6505\n",
      "    facebook: -1.6260\n",
      "    kardashian: -1.5964\n",
      "    star: -1.5844\n",
      "\n",
      "【タスク57】クラス: e\n",
      "  トップ10（正の重み）:\n",
      "    kardashian: 3.2855\n",
      "    chris: 2.7500\n",
      "    her: 2.6573\n",
      "    she: 2.5227\n",
      "    star: 2.5133\n",
      "    miley: 2.4906\n",
      "    kim: 2.4790\n",
      "    cyrus: 2.4323\n",
      "    movie: 2.2690\n",
      "    paul: 2.1738\n",
      "  トップ10（負の重み）:\n",
      "    us: -3.1656\n",
      "    google: -2.9445\n",
      "    update: -2.5192\n",
      "    ceo: -2.3270\n",
      "    china: -2.2952\n",
      "    facebook: -2.2118\n",
      "    1: -2.2098\n",
      "    says: -2.2039\n",
      "    gm: -2.1453\n",
      "    apple: -2.0779\n",
      "\n",
      "【タスク57】クラス: m\n",
      "  トップ10（正の重み）:\n",
      "    ebola: 4.6027\n",
      "    study: 3.9290\n",
      "    cancer: 3.6594\n",
      "    fda: 3.5322\n",
      "    drug: 3.4561\n",
      "    mers: 3.2074\n",
      "    health: 2.8209\n",
      "    cases: 2.3681\n",
      "    e: 2.2965\n",
      "    cdc: 2.2894\n",
      "  トップ10（負の重み）:\n",
      "    s: -1.1413\n",
      "    gm: -1.0641\n",
      "    google: -1.0328\n",
      "    facebook: -1.0240\n",
      "    apple: -1.0072\n",
      "    climate: -0.9236\n",
      "    twitter: -0.8780\n",
      "    ceo: -0.8673\n",
      "    deal: -0.8388\n",
      "    bank: -0.8309\n",
      "\n",
      "【タスク57】クラス: t\n",
      "  トップ10（正の重み）:\n",
      "    google: 5.6278\n",
      "    apple: 4.9481\n",
      "    facebook: 4.8617\n",
      "    microsoft: 3.8686\n",
      "    climate: 3.8508\n",
      "    gm: 3.0990\n",
      "    tesla: 3.0027\n",
      "    comcast: 2.5857\n",
      "    fcc: 2.3316\n",
      "    samsung: 2.2902\n",
      "  トップ10（負の重み）:\n",
      "    stocks: -1.3510\n",
      "    shares: -1.2213\n",
      "    fed: -1.1467\n",
      "    drug: -1.0987\n",
      "    american: -0.9785\n",
      "    her: -0.9640\n",
      "    cancer: -0.9611\n",
      "    kardashian: -0.9459\n",
      "    ecb: -0.9311\n",
      "    target: -0.9025\n",
      "\n"
     ]
    }
   ],
   "source": [
    "feature_names = vectorizer.get_feature_names_out()\n",
    "\n",
    "for i, class_label in enumerate(clf.classes_):\n",
    "    coef = clf.coef_[i]\n",
    "    top10_idx = coef.argsort()[-10:][::-1]\n",
    "    bottom10_idx = coef.argsort()[:10]\n",
    "    print(f\"【タスク57】クラス: {class_label}\")\n",
    "    print(\"  トップ10（正の重み）:\")\n",
    "    for idx in top10_idx:\n",
    "        print(f\"    {feature_names[idx]}: {coef[idx]:.4f}\")\n",
    "    print(\"  トップ10（負の重み）:\")\n",
    "    for idx in bottom10_idx:\n",
    "        print(f\"    {feature_names[idx]}: {coef[idx]:.4f}\")\n",
    "    print()"
   ]
  },
  {
   "cell_type": "markdown",
   "id": "d60f743d-98bb-4a52-ab40-c52c0ba4f0f2",
   "metadata": {},
   "source": [
    "### 58. 正則化パラメータの変更"
   ]
  },
  {
   "cell_type": "code",
   "execution_count": 61,
   "id": "734ba1ee-ae7c-4525-bc2b-20e4bc36b1a4",
   "metadata": {},
   "outputs": [
    {
     "data": {
      "image/png": "[encoded data removed]",
      "text/plain": [
       "<Figure size 800x600 with 1 Axes>"
      ]
     },
     "metadata": {},
     "output_type": "display_data"
    }
   ],
   "source": [
    "import matplotlib.pyplot as plt\n",
    "\n",
    "C_values = [0.001, 0.01, 0.1, 1, 10, 100]\n",
    "train_accs = []\n",
    "valid_accs = []\n",
    "test_accs  = []\n",
    "\n",
    "for C in C_values:\n",
    "    clf_temp = LogisticRegression(C=C, max_iter=1000)\n",
    "    clf_temp.fit(X_train, train_labels)\n",
    "    train_accs.append(clf_temp.score(X_train, train_labels))\n",
    "    valid_accs.append(clf_temp.score(X_valid, valid_labels))\n",
    "    test_accs.append(clf_temp.score(X_test, test_labels))\n",
    "\n",
    "plt.figure(figsize=(8, 6))\n",
    "plt.plot(C_values, train_accs, marker='o', label=\"Train\")\n",
    "plt.plot(C_values, valid_accs, marker='o', label=\"Validation\")\n",
    "plt.plot(C_values, test_accs, marker='o', label=\"Test\")\n",
    "plt.xscale(\"log\")\n",
    "plt.xlabel(\"Regularization Parameter C (log scale)\")\n",
    "plt.ylabel(\"Accuracy\")\n",
    "plt.title(\"Relationship between Regularization Parameter and Accuracy\")\n",
    "plt.legend()\n",
    "plt.grid(True)\n",
    "plt.show()"
   ]
  },
  {
   "cell_type": "markdown",
   "id": "1df43c99-db09-440f-968c-47d9faf99985",
   "metadata": {},
   "source": [
    "### 59. ハイパーパラメータの探索"
   ]
  },
  {
   "cell_type": "code",
   "execution_count": 69,
   "id": "7bbf84e0-9f22-4b37-b926-9455fc83122e",
   "metadata": {},
   "outputs": [
    {
     "name": "stdout",
     "output_type": "stream",
     "text": [
      "【タスク59】ハイパーパラメータ探索（ロジスティック回帰）\n",
      "  LogisticRegression C=0.01, 検証正解率: 0.765\n",
      "  LogisticRegression C=0.1, 検証正解率: 0.795\n",
      "  LogisticRegression C=1, 検証正解率: 0.891\n",
      "  LogisticRegression C=10, 検証正解率: 0.925\n",
      "  LogisticRegression C=100, 検証正解率: 0.923\n",
      "\n",
      "【タスク59】ハイパーパラメータ探索（MultinomialNB）\n",
      "  MultinomialNB alpha=0.001, 検証正解率: 0.920\n",
      "  MultinomialNB alpha=0.01, 検証正解率: 0.922\n",
      "  MultinomialNB alpha=0.1, 検証正解率: 0.918\n",
      "  MultinomialNB alpha=0.5, 検証正解率: 0.878\n",
      "\n",
      "【タスク59】最適なモデル:\n",
      "{'algorithm': 'LogisticRegression', 'C': 10}\n",
      "評価データでの正解率: 0.926\n"
     ]
    }
   ],
   "source": [
    "from sklearn.naive_bayes import MultinomialNB\n",
    "\n",
    "best_model = None\n",
    "best_score = 0\n",
    "best_params = None\n",
    "\n",
    "# ロジスティック回帰の場合\n",
    "print(\"【タスク59】ハイパーパラメータ探索（ロジスティック回帰）\")\n",
    "for C in [0.01, 0.1, 1, 10, 100]:\n",
    "    clf_temp = LogisticRegression(C=C, max_iter=1000)\n",
    "    clf_temp.fit(X_train, train_labels)\n",
    "    score = clf_temp.score(X_valid, valid_labels)\n",
    "    print(f\"  LogisticRegression C={C}, 検証正解率: {score:.3f}\")\n",
    "    if score > best_score:\n",
    "        best_score = score\n",
    "        best_model = (\"LogisticRegression\", C, clf_temp)\n",
    "        best_params = {\"algorithm\": \"LogisticRegression\", \"C\": C}\n",
    "\n",
    "# MultinomialNB の場合\n",
    "print(\"\\n【タスク59】ハイパーパラメータ探索（MultinomialNB）\")\n",
    "for alpha in [0.001, 0.01, 0.1, 0.5]:\n",
    "    clf_temp = MultinomialNB(alpha=alpha)\n",
    "    clf_temp.fit(X_train, train_labels)\n",
    "    score = clf_temp.score(X_valid, valid_labels)\n",
    "    print(f\"  MultinomialNB alpha={alpha}, 検証正解率: {score:.3f}\")\n",
    "    if score > best_score:\n",
    "        best_score = score\n",
    "        best_model = (\"MultinomialNB\", alpha, clf_temp)\n",
    "        best_params = {\"algorithm\": \"MultinomialNB\", \"alpha\": alpha}\n",
    "\n",
    "print(\"\\n【タスク59】最適なモデル:\")\n",
    "print(best_params)\n",
    "# 最適モデルを評価データで評価\n",
    "if best_params[\"algorithm\"] == \"LogisticRegression\":\n",
    "    test_accuracy = best_model[2].score(X_test, test_labels)\n",
    "else:\n",
    "    test_accuracy = best_model[2].score(X_test, test_labels)\n",
    "print(f\"評価データでの正解率: {test_accuracy:.3f}\")"
   ]
  }
 ],
 "metadata": {
  "kernelspec": {
   "display_name": "Python (torch_env)",
   "language": "python",
   "name": "torch_env"
  },
  "language_info": {
   "codemirror_mode": {
    "name": "ipython",
    "version": 3
   },
   "file_extension": ".py",
   "mimetype": "text/x-python",
   "name": "python",
   "nbconvert_exporter": "python",
   "pygments_lexer": "ipython3",
   "version": "3.10.16"
  }
 },
 "nbformat": 4,
 "nbformat_minor": 5
}
