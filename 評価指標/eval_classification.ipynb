{
 "cells": [
  {
   "cell_type": "markdown",
   "id": "a1d67407-37df-4966-aee0-d4305cddca99",
   "metadata": {},
   "source": [
    "# 分類タスクの評価指標\n",
    "## Accuracy（正解率）\n",
    "全テストサンプルのうち、正しく分類された割合  \n",
    "クラスの不均衡がある場合、Accuracyだけでは不十分な評価になる\n",
    "## Precision（適合率）\n",
    "モデルが陽性と予測した中で、実際に陽性であった割合  \n",
    "高い適合率は、誤検出（False Positive）を抑えていることを示す\n",
    "## Recall（再現率）\n",
    "実際に陽性であるサンプルのうち、モデルが正しく陽性と予測できた割合\n",
    "高い再現率は、見逃し（False Negative）が少ないことを示す\n",
    "## F1スコア\n",
    "PrecisionとRecallの調和平均  \n",
    "バランスの良い指標  \n",
    "クラス不均衡の場合に有用な指標\n",
    "## ROC-AUC\n",
    "ROC曲線の下の面積で、分類の閾値を変化させたときの性能を示す\n",
    "1に近いほど良い性能を意味する  \n",
    "### ROC(Receiver Operating Characteristic)\n",
    "以下の2つの指標をプロットして描かれる\n",
    "#### 真陽性率（True Positive Rate, TPR）\n",
    "実際に陽性であるサンプルのうち、正しく陽性と予測された割合。\n",
    "#### 偽陽性率（False Positive Rate, FPR）\n",
    "実際には陰性であるサンプルのうち、誤って陽性と予測された割合。"
   ]
  },
  {
   "cell_type": "code",
   "execution_count": 3,
   "id": "be023c5d-9a3c-48c2-b236-b848c6ea9199",
   "metadata": {},
   "outputs": [
    {
     "name": "stdout",
     "output_type": "stream",
     "text": [
      "=== 各種評価指標 ===\n",
      "Accuracy  : 0.7950\n",
      "Precision : 0.7767\n",
      "Recall    : 0.8163\n",
      "F1 Score  : 0.7960\n",
      "ROC-AUC   : 0.8924\n",
      "\n",
      "=== Classification Report ===\n",
      "              precision    recall  f1-score   support\n",
      "\n",
      "           0       0.81      0.77      0.79       102\n",
      "           1       0.78      0.82      0.80        98\n",
      "\n",
      "    accuracy                           0.80       200\n",
      "   macro avg       0.80      0.80      0.79       200\n",
      "weighted avg       0.80      0.80      0.79       200\n",
      "\n"
     ]
    }
   ],
   "source": [
    "# ライブラリのインポート\n",
    "from sklearn.datasets import make_classification\n",
    "from sklearn.linear_model import LogisticRegression\n",
    "from sklearn.model_selection import train_test_split\n",
    "from sklearn.metrics import accuracy_score, precision_score, recall_score, f1_score, roc_auc_score, classification_report\n",
    "import numpy as np\n",
    "\n",
    "# 合成データの生成（2クラス分類）\n",
    "X, y = make_classification(n_samples=1000, n_features=20, n_informative=10, n_redundant=5,\n",
    "                           n_classes=2, random_state=42)\n",
    "\n",
    "# データの分割（訓練データとテストデータ）\n",
    "X_train, X_test, y_train, y_test = train_test_split(X, y, test_size=0.2, random_state=42)\n",
    "\n",
    "# モデルの作成（ロジスティック回帰）\n",
    "model = LogisticRegression(max_iter=1000, random_state=42)\n",
    "model.fit(X_train, y_train)\n",
    "\n",
    "# 予測値と確信度（確率）\n",
    "y_pred = model.predict(X_test)\n",
    "y_prob = model.predict_proba(X_test)[:, 1]  # 陽性クラスの確率\n",
    "\n",
    "# 各種評価指標の計算\n",
    "accuracy = accuracy_score(y_test, y_pred)\n",
    "precision = precision_score(y_test, y_pred)\n",
    "recall = recall_score(y_test, y_pred)\n",
    "f1 = f1_score(y_test, y_pred)\n",
    "roc_auc = roc_auc_score(y_test, y_prob)\n",
    "\n",
    "print(\"=== 各種評価指標 ===\")\n",
    "print(f\"Accuracy  : {accuracy:.4f}\")\n",
    "print(f\"Precision : {precision:.4f}\")\n",
    "print(f\"Recall    : {recall:.4f}\")\n",
    "print(f\"F1 Score  : {f1:.4f}\")\n",
    "print(f\"ROC-AUC   : {roc_auc:.4f}\")\n",
    "\n",
    "# 詳細なレポート\n",
    "print(\"\\n=== Classification Report ===\")\n",
    "print(classification_report(y_test, y_pred))\n"
   ]
  }
 ],
 "metadata": {
  "kernelspec": {
   "display_name": "Python (torch_env)",
   "language": "python",
   "name": "torch_env"
  },
  "language_info": {
   "codemirror_mode": {
    "name": "ipython",
    "version": 3
   },
   "file_extension": ".py",
   "mimetype": "text/x-python",
   "name": "python",
   "nbconvert_exporter": "python",
   "pygments_lexer": "ipython3",
   "version": "3.10.16"
  }
 },
 "nbformat": 4,
 "nbformat_minor": 5
}
