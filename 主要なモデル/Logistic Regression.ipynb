{
 "cells": [
  {
   "cell_type": "markdown",
   "id": "e6efa8f9-a461-415b-98a8-0659a2313512",
   "metadata": {},
   "source": [
    "# ロジスティック回帰(Logistic Regression)\n",
    "ロジスティック回帰は、線形回帰を拡張し、シグモイド関数またはソフトマックス関数を用いて確率的な出力を生成するモデル。  \n",
    "出力が 2 クラスならシグモイド関数、多クラス分類なら ソフトマックス関数 を適用。 \n",
    "目的関数には、クロスエントロピー損失関数 (CrossEntropyLoss) を使用。\n",
    "### 特徴\n",
    "単純なデータに対して有効。  \n",
    "学習が高速で、計算コストが低い。  \n",
    "どの特徴量がどれくらい影響を与えているかが分かりやすい。  \n",
    "正則化で不要な特徴量を抑制したり、過学習を防ぐことができる。\n",
    "### メリット\n",
    "計算が速い  \n",
    "確率的な解釈が可能  \n",
    "単純で解釈しやすい  \n",
    "正則化で過学習を抑えられる  \n",
    "### デメリット\n",
    "線形分離しかできない  \n",
    "多クラス分類には拡張が必要  \n",
    "大規模データでは性能が低下"
   ]
  },
  {
   "cell_type": "code",
   "execution_count": 1,
   "id": "b0a9d990-3072-4c93-8789-5d13e4f48525",
   "metadata": {},
   "outputs": [],
   "source": [
    "import torch\n",
    "import torch.nn as nn\n",
    "\n",
    "class LogisticRegression(nn.Module):\n",
    "    def __init__(self, input_dim, output_dim):\n",
    "        super(LogisticRegression, self).__init__()\n",
    "        self.linear = nn.Linear(input_dim, output_dim)\n",
    "\n",
    "    def forward(self, x):\n",
    "        # CrossEntropyLoss を使う場合はソフトマックスを明示的に入れない\n",
    "        return self.linear(x)\n",
    "\n"
   ]
  },
  {
   "cell_type": "code",
   "execution_count": 3,
   "id": "1f60bf9e-7433-49e0-9278-004899d2d177",
   "metadata": {},
   "outputs": [
    {
     "name": "stdout",
     "output_type": "stream",
     "text": [
      "Epoch [10/50], Loss: 1.2636, Test Acc: 0.1333\n",
      "Epoch [20/50], Loss: 1.1563, Test Acc: 0.2667\n",
      "Epoch [30/50], Loss: 1.0668, Test Acc: 0.3333\n",
      "Epoch [40/50], Loss: 0.9922, Test Acc: 0.3333\n",
      "Epoch [50/50], Loss: 0.9300, Test Acc: 0.6667\n"
     ]
    }
   ],
   "source": [
    "import torch.optim as optim\n",
    "from sklearn.datasets import load_iris\n",
    "from sklearn.model_selection import train_test_split\n",
    "from sklearn.preprocessing import StandardScaler\n",
    "\n",
    "# データの用意\n",
    "iris = load_iris()\n",
    "X, y = iris.data, iris.target  # X.shape: (150, 4), y.shape: (150,)\n",
    "\n",
    "# 訓練・テスト分割\n",
    "X_train, X_test, y_train, y_test = train_test_split(\n",
    "    X, y, test_size=0.2, random_state=42, stratify=y\n",
    ")\n",
    "\n",
    "# 特徴量の標準化\n",
    "scaler = StandardScaler()\n",
    "X_train = scaler.fit_transform(X_train)\n",
    "X_test = scaler.transform(X_test)\n",
    "\n",
    "# Tensor に変換\n",
    "X_train = torch.tensor(X_train, dtype=torch.float32)\n",
    "y_train = torch.tensor(y_train, dtype=torch.long)\n",
    "X_test = torch.tensor(X_test, dtype=torch.float32)\n",
    "y_test = torch.tensor(y_test, dtype=torch.long)\n",
    "\n",
    "# モデル定義\n",
    "input_dim = X_train.shape[1]  # 4\n",
    "output_dim = len(torch.unique(y_train))  # 3\n",
    "model = LogisticRegression(input_dim, output_dim)\n",
    "\n",
    "# 損失関数と最適化手法\n",
    "criterion = nn.CrossEntropyLoss()\n",
    "optimizer = optim.SGD(model.parameters(), lr=0.01)\n",
    "\n",
    "# 学習\n",
    "num_epochs = 50\n",
    "for epoch in range(num_epochs):\n",
    "    model.train()\n",
    "    optimizer.zero_grad()\n",
    "    outputs = model(X_train)\n",
    "    loss = criterion(outputs, y_train)\n",
    "    loss.backward()\n",
    "    optimizer.step()\n",
    "\n",
    "    if (epoch+1) % 10 == 0:\n",
    "        # 評価\n",
    "        model.eval()\n",
    "        with torch.no_grad():\n",
    "            test_outputs = model(X_test)\n",
    "            _, predicted = torch.max(test_outputs, 1)\n",
    "            accuracy = (predicted == y_test).float().mean()\n",
    "        print(f\"Epoch [{epoch+1}/{num_epochs}], Loss: {loss.item():.4f}, Test Acc: {accuracy:.4f}\")\n"
   ]
  }
 ],
 "metadata": {
  "kernelspec": {
   "display_name": "Python (torch_env)",
   "language": "python",
   "name": "torch_env"
  },
  "language_info": {
   "codemirror_mode": {
    "name": "ipython",
    "version": 3
   },
   "file_extension": ".py",
   "mimetype": "text/x-python",
   "name": "python",
   "nbconvert_exporter": "python",
   "pygments_lexer": "ipython3",
   "version": "3.10.16"
  }
 },
 "nbformat": 4,
 "nbformat_minor": 5
}
