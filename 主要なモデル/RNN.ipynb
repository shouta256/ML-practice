{
 "cells": [
  {
   "cell_type": "markdown",
   "id": "b287ddaf-10d1-4088-a8a0-cd0ff0bbfcfa",
   "metadata": {},
   "source": [
    "# リカレントニューラルネットワーク (RNN: LSTM)\n",
    "時系列データや文章などの系列データ（Sequence Data）を扱うためのニューラルネットワーク  \n",
    "MLPやCNNとは異なり、過去の情報を保持しながら処理を行うため、時系列データの依存関係を学習するのに適している\n",
    "## RNNの基礎概念\n",
    "時系列ごとにデータを処理し、過去の情報を現在の計算に活用。  \n",
    "内部状態（隠れ状態）を持ち、系列のつながりを考慮できる。\n",
    "## RNNの課題\n",
    "短期の依存関係は学習できるが、長期の依存関係は苦手。  \n",
    "勾配消失問題（Vanishing Gradient Problem） により、長い系列では過去の情報が伝わりにくい。\n",
    "→LSTMやGRUが開発された\n",
    "## LSTM(Long Short-Term Memory）とは？\n",
    "RNN の勾配消失問題を解決するために設計されたモデル  \n",
    "ゲート機構を導入することで、長期依存関係を効率的に学習できるようになっている\n",
    "## LSTMの内部構造\n",
    "### 入力ゲート\n",
    "新しい情報をどの程度メモリに保存するかを決定\n",
    "### 忘却ゲート\n",
    "過去の情報をどの程度忘れるかを決定\n",
    "### 出力ゲート\n",
    "次の隠れ状態の値をどの程度出力するかを決定\n",
    "## メリット\n",
    "長期依存関係を学習できる  \n",
    "勾配消失問題を軽減  \n",
    "時系列データ（株価、気象データなど）や自然言語処理（NLP）に強い  \n",
    "## デメリット\n",
    "計算コストが高い（通常の RNN より遅い）  \n",
    "単純な短期依存関係なら GRU（Gated Recurrent Unit）の方が効率的"
   ]
  },
  {
   "cell_type": "code",
   "execution_count": 2,
   "id": "359489f7-08b5-476c-a97b-edd45374e347",
   "metadata": {},
   "outputs": [],
   "source": [
    "import torch\n",
    "import torch.nn as nn\n",
    "\n",
    "class LSTMClassifier(nn.Module):\n",
    "    def __init__(self, vocab_size, embed_dim, hidden_dim, output_dim):\n",
    "        super(LSTMClassifier, self).__init__()\n",
    "        self.embedding = nn.Embedding(vocab_size, embed_dim)\n",
    "        self.lstm = nn.LSTM(embed_dim, hidden_dim, batch_first=True)\n",
    "        self.fc = nn.Linear(hidden_dim, output_dim)\n",
    "\n",
    "    def forward(self, x):\n",
    "        embedded = self.embedding(x)\n",
    "        lstm_out, (h_n, c_n) = self.lstm(embedded)\n",
    "        out = self.fc(h_n[-1])\n",
    "        return out\n"
   ]
  },
  {
   "cell_type": "code",
   "execution_count": null,
   "id": "bd358f8f-ce29-4b1d-9d6b-64ee4faf4ee9",
   "metadata": {},
   "outputs": [
    {
     "name": "stdout",
     "output_type": "stream",
     "text": [
      "Epoch 1/3, Loss: 0.6913\n",
      "Epoch 2/3, Loss: 0.5883\n",
      "Epoch 3/3, Loss: 0.4985\n"
     ]
    }
   ],
   "source": [
    "\n",
    "import torch.optim as optim\n",
    "from torch.utils.data import DataLoader, Dataset\n",
    "import numpy as np\n",
    "from torch.nn.utils.rnn import pad_sequence\n",
    "\n",
    "\n",
    "# ダミーの IMDB レビュー（単語 ID のリスト）\n",
    "dummy_train_data = [\n",
    "    (torch.randint(0, 5000, (200,)), 0),  # シーケンス長200, 0:ネガティブ\n",
    "    (torch.randint(0, 5000, (150,)), 1),  # シーケンス長150, 1:ポジティブ\n",
    "]\n",
    "dummy_test_data = [\n",
    "    (torch.randint(0, 5000, (200,)), 1),\n",
    "    (torch.randint(0, 5000, (100,)), 0),\n",
    "]\n",
    "\n",
    "class IMDBDataset(Dataset):\n",
    "    def __init__(self, data_list):\n",
    "        self.data_list = data_list  # [(encoded_text, label), ...]\n",
    "\n",
    "    def __len__(self):\n",
    "        return len(self.data_list)\n",
    "\n",
    "    def __getitem__(self, idx):\n",
    "        return self.data_list[idx]\n",
    "\n",
    "def collate_fn(batch):\n",
    "    texts, labels = zip(*batch)  # [(text1, label1), (text2, label2), ...] → ([text1, text2], [label1, label2])\n",
    "\n",
    "    # **パディングを適用**\n",
    "    padded_texts = pad_sequence(texts, batch_first=True, padding_value=0)  # 0 でパディング\n",
    "    labels = torch.tensor(labels, dtype=torch.long)  # ラベルを Tensor に変換\n",
    "\n",
    "    return padded_texts, labels\n",
    "\n",
    "train_dataset = IMDBDataset(dummy_train_data)\n",
    "test_dataset = IMDBDataset(dummy_test_data)\n",
    "\n",
    "train_loader = DataLoader(train_dataset, batch_size=2, shuffle=True, collate_fn=collate_fn)\n",
    "test_loader = DataLoader(test_dataset, batch_size=2, shuffle=False, collate_fn=collate_fn)\n",
    "\n",
    "\n",
    "model = LSTMClassifier(vocab_size=5000, embed_dim=128, hidden_dim=64, output_dim=2)\n",
    "criterion = nn.CrossEntropyLoss()\n",
    "optimizer = optim.Adam(model.parameters(), lr=0.001)\n",
    "\n",
    "num_epochs = 3\n",
    "for epoch in range(num_epochs):\n",
    "    model.train()\n",
    "    for texts, labels in train_loader:\n",
    "        optimizer.zero_grad()\n",
    "        outputs = model(texts)\n",
    "        loss = criterion(outputs, labels)\n",
    "        loss.backward()\n",
    "        optimizer.step()\n",
    "\n",
    "    print(f\"Epoch {epoch+1}/{num_epochs}, Loss: {loss.item():.4f}\")\n",
    "\n"
   ]
  },
  {
   "cell_type": "code",
   "execution_count": null,
   "id": "3d1c3a7a-1927-46f8-b28d-3f5e3b6429cb",
   "metadata": {},
   "outputs": [],
   "source": []
  }
 ],
 "metadata": {
  "kernelspec": {
   "display_name": "Python (torch_env)",
   "language": "python",
   "name": "torch_env"
  },
  "language_info": {
   "codemirror_mode": {
    "name": "ipython",
    "version": 3
   },
   "file_extension": ".py",
   "mimetype": "text/x-python",
   "name": "python",
   "nbconvert_exporter": "python",
   "pygments_lexer": "ipython3",
   "version": "3.10.16"
  }
 },
 "nbformat": 4,
 "nbformat_minor": 5
}
