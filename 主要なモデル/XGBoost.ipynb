{
 "cells": [
  {
   "cell_type": "markdown",
   "id": "eaf22a94-a4ee-44aa-a7fd-f4ab08d81353",
   "metadata": {},
   "source": [
    "# XGBoost(eXtreme Gradient Boosting）\n",
    "「決定木を多数組み合わせて、より強力なモデルを作る」手法  \n",
    "「勾配ブースティング（Gradient Boosting）」を改良した 高速かつ高性能な決定木ベースの機械学習アルゴリズム\n",
    "## XGBoost の基本概念\n",
    "弱い決定木（Weak Learners）を少しずつ改良しながら、最終的に強いモデルを作る  \n",
    "### 勾配ブースティングとは\n",
    "誤差を少しずつ修正する決定木を連続的に作成する  \n",
    "各決定木は、前のモデルの誤差を減らすように学習  \n",
    "ランダムフォレストとは違い、決定木が逐次的（順番に）作成される\n",
    "## XGBoost の仕組み\n",
    "### 1.最初のモデルを作成\n",
    "まず、単純な決定木（モデル1）を作成 し、各データの予測値を得る\n",
    "### 2.誤差を計算\n",
    "実際の値（y）と予測値（𝑦^）の差（残差）を計算\n",
    "### 3.残差を学習する決定木を追加\n",
    "次の決定木は、残差（誤差）を予測するように学習\n",
    "### 4.予測値を更新\n",
    "各決定木の予測を 足し合わせて予測値を更新\n",
    "### 5.上記を繰り返し、精度を向上\n",
    "決定木を順番に増やしながら、誤差を減らしていく\n",
    "## 特徴\n",
    "過学習を抑えるための正則化（L1, L2）  \n",
    "決定木の計算を最適化  \n",
    "欠損値に強い（自動的に処理）  \n",
    "特徴量の重要度を可視化できる  "
   ]
  },
  {
   "cell_type": "code",
   "execution_count": null,
   "id": "aec24fce-15de-4c3e-a19a-2429feab47a1",
   "metadata": {},
   "outputs": [
    {
     "name": "stdout",
     "output_type": "stream",
     "text": [
      "XGBoostの分類精度: 1.0000\n"
     ]
    }
   ],
   "source": [
    "import xgboost as xgb\n",
    "from sklearn.datasets import load_iris\n",
    "from sklearn.model_selection import train_test_split\n",
    "from sklearn.metrics import accuracy_score\n",
    "\n",
    "#データの準備\n",
    "iris = load_iris()\n",
    "X, y = iris.data, iris.target\n",
    "X_train, X_test, y_train, y_test = train_test_split(X, y, test_size=0.2, random_state=42)\n",
    "\n",
    "#XGBoost モデルの作成\n",
    "model = xgb.XGBClassifier(n_estimators=100, learning_rate=0.1, max_depth=3)\n",
    "model.fit(X_train, y_train)\n",
    "\n",
    "#予測と評価\n",
    "y_pred = model.predict(X_test)\n",
    "accuracy = accuracy_score(y_test, y_pred)\n",
    "print(f\"XGBoostの分類精度: {accuracy:.4f}\")\n"
   ]
  },
  {
   "cell_type": "code",
   "execution_count": null,
   "id": "21cf361a-c2a1-44d9-9932-9ef56a555bda",
   "metadata": {},
   "outputs": [],
   "source": []
  }
 ],
 "metadata": {
  "kernelspec": {
   "display_name": "Python (torch_env)",
   "language": "python",
   "name": "torch_env"
  },
  "language_info": {
   "codemirror_mode": {
    "name": "ipython",
    "version": 3
   },
   "file_extension": ".py",
   "mimetype": "text/x-python",
   "name": "python",
   "nbconvert_exporter": "python",
   "pygments_lexer": "ipython3",
   "version": "3.10.16"
  }
 },
 "nbformat": 4,
 "nbformat_minor": 5
}
