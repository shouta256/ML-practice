{
 "cells": [
  {
   "cell_type": "markdown",
   "id": "d6e9f0ed-d062-4b49-af94-0346a385dd57",
   "metadata": {},
   "source": [
    "# ラッソ回帰（Lasso Regression）\n",
    "回帰モデルの重みをスパース化し、特徴選択を自動で行う線形回帰手法\n",
    "### スパース化\n",
    "データの要素の多くをゼロにして、必要な情報だけを残すこと  \n",
    "機械学習では、モデルのパラメータ（重み）をスパース化することで、不要な特徴量の影響をゼロにする \n",
    "### メリット\n",
    "特徴選択ができる（不要な特徴の重みが 0 になる）  \n",
    "過学習を抑制できる  \n",
    "計算コストが低い\n",
    "### デメリット\n",
    "高次元データでは情報を失う可能性がある  \n",
    "変数の数が多すぎると計算がやや重くなる  \n",
    "非線形関係を学習できない\n"
   ]
  },
  {
   "cell_type": "code",
   "execution_count": 9,
   "id": "c0ca08a5-34c7-49b8-88b7-f4e3426aa34a",
   "metadata": {},
   "outputs": [],
   "source": [
    "import torch\n",
    "import torch.nn as nn\n",
    "\n",
    "#ラッソ回帰モデル（単純な線形回帰）\n",
    "class LassoRegression(nn.Module):\n",
    "    def __init__(self, input_dim):\n",
    "        super(LassoRegression, self).__init__()\n",
    "        self.linear = nn.Linear(input_dim, 1)\n",
    "\n",
    "    def forward(self, x):\n",
    "        return self.linear(x)"
   ]
  },
  {
   "cell_type": "code",
   "execution_count": 11,
   "id": "6502e43c-1bf5-4fba-ae61-c7296ee6fe84",
   "metadata": {},
   "outputs": [
    {
     "name": "stdout",
     "output_type": "stream",
     "text": [
      "Epoch [10/100], Loss: 0.9925\n",
      "Epoch [20/100], Loss: 0.6456\n",
      "Epoch [30/100], Loss: 0.4328\n",
      "Epoch [40/100], Loss: 0.2979\n",
      "Epoch [50/100], Loss: 0.2107\n",
      "Epoch [60/100], Loss: 0.1535\n",
      "Epoch [70/100], Loss: 0.1153\n",
      "Epoch [80/100], Loss: 0.0893\n",
      "Epoch [90/100], Loss: 0.0714\n",
      "Epoch [100/100], Loss: 0.0588\n"
     ]
    }
   ],
   "source": [
    "\n",
    "import torch.optim as optim\n",
    "from sklearn.datasets import make_regression\n",
    "from sklearn.preprocessing import StandardScaler\n",
    "\n",
    "# **データの準備**\n",
    "X, y = make_regression(n_samples=100, n_features=10, noise=0.1, random_state=42)\n",
    "scaler = StandardScaler()\n",
    "X = scaler.fit_transform(X)\n",
    "y = (y - y.mean()) / y.std()  # 正規化\n",
    "\n",
    "X = torch.tensor(X, dtype=torch.float32)\n",
    "y = torch.tensor(y, dtype=torch.float32).view(-1, 1)\n",
    "\n",
    "\n",
    "\n",
    "model = LassoRegression(input_dim=X.shape[1])\n",
    "\n",
    "# **損失関数 & 最適化（L1 正則化適用）**\n",
    "criterion = nn.MSELoss()\n",
    "optimizer = optim.SGD(model.parameters(), lr=0.01)\n",
    "\n",
    "lambda_l1 = 0.01  # L1 正則化係数\n",
    "\n",
    "# **学習**\n",
    "num_epochs = 100\n",
    "for epoch in range(num_epochs):\n",
    "    optimizer.zero_grad()\n",
    "    outputs = model(X)\n",
    "    loss = criterion(outputs, y)\n",
    "    \n",
    "    # L1 正則化を手動で適用\n",
    "    l1_norm = sum(p.abs().sum() for p in model.parameters())\n",
    "    loss += lambda_l1 * l1_norm\n",
    "\n",
    "    loss.backward()\n",
    "    optimizer.step()\n",
    "\n",
    "    if (epoch + 1) % 10 == 0:\n",
    "        print(f\"Epoch [{epoch+1}/{num_epochs}], Loss: {loss.item():.4f}\")\n"
   ]
  },
  {
   "cell_type": "code",
   "execution_count": null,
   "id": "83427c82-e96e-431e-8143-fcd1c6fbc860",
   "metadata": {},
   "outputs": [],
   "source": []
  },
  {
   "cell_type": "code",
   "execution_count": null,
   "id": "c430bed5-1b0f-4963-8cf2-67bd0dac90a5",
   "metadata": {},
   "outputs": [],
   "source": []
  },
  {
   "cell_type": "code",
   "execution_count": null,
   "id": "a83279ce-1153-43e5-abb4-5b05f6d46881",
   "metadata": {},
   "outputs": [],
   "source": []
  }
 ],
 "metadata": {
  "kernelspec": {
   "display_name": "Python (torch_env)",
   "language": "python",
   "name": "torch_env"
  },
  "language_info": {
   "codemirror_mode": {
    "name": "ipython",
    "version": 3
   },
   "file_extension": ".py",
   "mimetype": "text/x-python",
   "name": "python",
   "nbconvert_exporter": "python",
   "pygments_lexer": "ipython3",
   "version": "3.10.16"
  }
 },
 "nbformat": 4,
 "nbformat_minor": 5
}
