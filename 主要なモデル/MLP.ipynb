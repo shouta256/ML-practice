{
 "cells": [
  {
   "cell_type": "markdown",
   "id": "0a3301ca-7ccb-45cc-b0c0-9cfe77a1a564",
   "metadata": {},
   "source": [
    "# 多層パーセプトロン (MLP)\n",
    "ニューラルネットワークの基本的な構造  \n",
    "入力層、1つ以上の隠れ層（hidden layer）、出力層から構成され、線形変換 + 非線形活性化関数 により、データの特徴を学習する  \n",
    "### パーセプトロン\n",
    "単純な線形分類器\n",
    "##  多層パーセプトロンの構造\n",
    "### 1.入力層\n",
    "データの特徴量を受け取る。特徴量の数が入力ノード数になる。\n",
    "### 2.隠れ層\n",
    "線形変換 を行った後、非線形活性化関数を適用。\n",
    "### 3.出力層\n",
    "回帰問題なら線形出力、分類問題なら softmax や sigmoid を適用\n",
    "## 特徴\n",
    "非線形データの学習が可能  \n",
    "画像、テキスト、時系列データにも応用可能  \n",
    "活性化間数の選択が重要\n",
    "過学習しやすい→ドロップアウトやL2正則化を使う"
   ]
  },
  {
   "cell_type": "code",
   "execution_count": 2,
   "id": "162fc0f9-08b4-41d0-b503-3e016eb88115",
   "metadata": {},
   "outputs": [],
   "source": [
    "import torch\n",
    "import torch.nn as nn\n",
    "\n",
    "#MLP モデルの定義\n",
    "class MLP(nn.Module):\n",
    "    def __init__(self, input_dim, hidden_dim, output_dim):\n",
    "        super(MLP, self).__init__()\n",
    "        self.fc1 = nn.Linear(input_dim, hidden_dim)  # 隠れ層1\n",
    "        self.relu = nn.ReLU()\n",
    "        self.fc2 = nn.Linear(hidden_dim, output_dim)  # 出力層\n",
    "\n",
    "    def forward(self, x):\n",
    "        x = self.fc1(x)\n",
    "        x = self.relu(x)\n",
    "        x = self.fc2(x)\n",
    "        return x\n",
    "\n"
   ]
  },
  {
   "cell_type": "code",
   "execution_count": 4,
   "id": "4b3dddd9-bb62-4c47-b2f1-1cb0429592b5",
   "metadata": {},
   "outputs": [
    {
     "name": "stdout",
     "output_type": "stream",
     "text": [
      "Epoch [1/5], Test Accuracy: 0.9609\n",
      "Epoch [2/5], Test Accuracy: 0.9722\n",
      "Epoch [3/5], Test Accuracy: 0.9735\n",
      "Epoch [4/5], Test Accuracy: 0.9750\n",
      "Epoch [5/5], Test Accuracy: 0.9766\n"
     ]
    }
   ],
   "source": [
    "import torch.optim as optim\n",
    "from torchvision import datasets, transforms\n",
    "from torch.utils.data import DataLoader\n",
    "\n",
    "#データの前処理\n",
    "transform = transforms.Compose([\n",
    "    transforms.ToTensor(),\n",
    "    transforms.Normalize((0.1307,), (0.3081,))\n",
    "])\n",
    "\n",
    "train_dataset = datasets.MNIST(root='./data', train=True, transform=transform, download=True)\n",
    "test_dataset  = datasets.MNIST(root='./data', train=False, transform=transform, download=True)\n",
    "\n",
    "train_loader = DataLoader(train_dataset, batch_size=64, shuffle=True)\n",
    "test_loader  = DataLoader(test_dataset, batch_size=64, shuffle=False)\n",
    "\n",
    "#モデル、損失関数、最適化手法の定義\n",
    "input_dim = 28 * 28  # MNIST は 28x28 ピクセル\n",
    "hidden_dim = 128\n",
    "output_dim = 10  # 0~9 の 10 クラス\n",
    "model = MLP(input_dim, hidden_dim, output_dim)\n",
    "\n",
    "criterion = nn.CrossEntropyLoss()\n",
    "optimizer = optim.Adam(model.parameters(), lr=0.001)\n",
    "\n",
    "# **学習ループ**\n",
    "num_epochs = 5\n",
    "for epoch in range(num_epochs):\n",
    "    model.train()\n",
    "    for images, labels in train_loader:\n",
    "        images = images.view(-1, 28*28)  # 画像を1次元化\n",
    "\n",
    "        optimizer.zero_grad()\n",
    "        outputs = model(images)\n",
    "        loss = criterion(outputs, labels)\n",
    "        loss.backward()\n",
    "        optimizer.step()\n",
    "\n",
    "    #テスト精度の計算\n",
    "    model.eval()\n",
    "    correct, total = 0, 0\n",
    "    with torch.no_grad():\n",
    "        for images, labels in test_loader:\n",
    "            images = images.view(-1, 28*28)\n",
    "            outputs = model(images)\n",
    "            _, predicted = torch.max(outputs.data, 1)\n",
    "            total += labels.size(0)\n",
    "            correct += (predicted == labels).sum().item()\n",
    "    accuracy = correct / total\n",
    "    print(f\"Epoch [{epoch+1}/{num_epochs}], Test Accuracy: {accuracy:.4f}\")\n"
   ]
  },
  {
   "cell_type": "code",
   "execution_count": null,
   "id": "2f8f3a44-b8e7-477d-8ce6-0afb5602c08a",
   "metadata": {},
   "outputs": [],
   "source": []
  }
 ],
 "metadata": {
  "kernelspec": {
   "display_name": "Python (torch_env)",
   "language": "python",
   "name": "torch_env"
  },
  "language_info": {
   "codemirror_mode": {
    "name": "ipython",
    "version": 3
   },
   "file_extension": ".py",
   "mimetype": "text/x-python",
   "name": "python",
   "nbconvert_exporter": "python",
   "pygments_lexer": "ipython3",
   "version": "3.10.16"
  }
 },
 "nbformat": 4,
 "nbformat_minor": 5
}
