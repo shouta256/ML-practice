{
 "cells": [
  {
   "cell_type": "markdown",
   "id": "3be5afc3-b0ae-42ca-8e70-03f18871481d",
   "metadata": {},
   "source": [
    "# SHAP（SHapley Additive exPlanations）\n",
    "各入力特徴が予測にどの程度寄与しているかを定量的に示す手法\n"
   ]
  },
  {
   "cell_type": "code",
   "execution_count": 26,
   "id": "5d490dbc-fa6e-4225-8ea2-ef960be7c490",
   "metadata": {},
   "outputs": [
    {
     "name": "stdout",
     "output_type": "stream",
     "text": [
      "Epoch [10/100], Loss: 0.6567\n",
      "Epoch [20/100], Loss: 0.5549\n",
      "Epoch [30/100], Loss: 0.4373\n",
      "Epoch [40/100], Loss: 0.3540\n",
      "Epoch [50/100], Loss: 0.3163\n",
      "Epoch [60/100], Loss: 0.3018\n",
      "Epoch [70/100], Loss: 0.2951\n",
      "Epoch [80/100], Loss: 0.2907\n",
      "Epoch [90/100], Loss: 0.2868\n",
      "Epoch [100/100], Loss: 0.2840\n"
     ]
    }
   ],
   "source": [
    "import torch\n",
    "import torch.nn as nn\n",
    "import torch.optim as optim\n",
    "import shap\n",
    "import numpy as np\n",
    "import matplotlib.pyplot as plt\n",
    "from sklearn.datasets import make_classification\n",
    "from sklearn.model_selection import train_test_split\n",
    "from sklearn.preprocessing import StandardScaler\n",
    "\n",
    "# データ生成\n",
    "X, y = make_classification(n_samples=1000, n_features=10, random_state=42)\n",
    "X_train, X_test, y_train, y_test = train_test_split(X, y, test_size=0.2, random_state=42)\n",
    "\n",
    "# 標準化\n",
    "scaler = StandardScaler()\n",
    "X_train = scaler.fit_transform(X_train)\n",
    "X_test = scaler.transform(X_test)\n",
    "\n",
    "# PyTorch Tensor に変換\n",
    "X_train_tensor = torch.tensor(X_train, dtype=torch.float32)\n",
    "y_train_tensor = torch.tensor(y_train, dtype=torch.float32).view(-1, 1)\n",
    "X_test_tensor = torch.tensor(X_test, dtype=torch.float32)\n",
    "\n",
    "# シンプルなニューラルネットワーク\n",
    "class SimpleNN(nn.Module):\n",
    "    def __init__(self, input_dim):\n",
    "        super(SimpleNN, self).__init__()\n",
    "        self.fc1 = nn.Linear(input_dim, 8)\n",
    "        self.fc2 = nn.Linear(8, 1)\n",
    "        self.relu = nn.ReLU()\n",
    "        self.sigmoid = nn.Sigmoid()\n",
    "\n",
    "    def forward(self, x):\n",
    "        x = self.relu(self.fc1(x))\n",
    "        x = self.sigmoid(self.fc2(x))\n",
    "        return x\n",
    "\n",
    "# モデルの初期化\n",
    "model = SimpleNN(input_dim=10)\n",
    "criterion = nn.BCELoss()\n",
    "optimizer = optim.Adam(model.parameters(), lr=0.01)\n",
    "\n",
    "# モデルの訓練\n",
    "epochs = 100\n",
    "for epoch in range(epochs):\n",
    "    optimizer.zero_grad()\n",
    "    outputs = model(X_train_tensor)\n",
    "    loss = criterion(outputs, y_train_tensor)\n",
    "    loss.backward()\n",
    "    optimizer.step()\n",
    "    \n",
    "    if (epoch + 1) % 10 == 0:\n",
    "        print(f'Epoch [{epoch+1}/{epochs}], Loss: {loss.item():.4f}')"
   ]
  },
  {
   "cell_type": "code",
   "execution_count": 28,
   "id": "305a1227-17e2-452a-b65e-1ec67868e70b",
   "metadata": {},
   "outputs": [
    {
     "data": {
      "image/png": "[encoded data removed]",
      "text/plain": [
       "<Figure size 1150x660 with 1 Axes>"
      ]
     },
     "metadata": {},
     "output_type": "display_data"
    }
   ],
   "source": [
    "#SHAPの適用\n",
    "background = X_train_tensor[:100]  # SHAPのベースライン用データ\n",
    "explainer = shap.DeepExplainer(model, background)  # `DeepExplainer` を使う\n",
    "shap_values = explainer.shap_values(X_test_tensor[:100])  # SHAP値を計算\n",
    "\n",
    "# SHAPの可視化\n",
    "shap.summary_plot(shap_values, X_test[:100])\n"
   ]
  }
 ],
 "metadata": {
  "kernelspec": {
   "display_name": "Python (torch_env)",
   "language": "python",
   "name": "torch_env"
  },
  "language_info": {
   "codemirror_mode": {
    "name": "ipython",
    "version": 3
   },
   "file_extension": ".py",
   "mimetype": "text/x-python",
   "name": "python",
   "nbconvert_exporter": "python",
   "pygments_lexer": "ipython3",
   "version": "3.10.16"
  }
 },
 "nbformat": 4,
 "nbformat_minor": 5
}
