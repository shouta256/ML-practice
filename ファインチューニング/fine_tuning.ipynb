{
 "cells": [
  {
   "cell_type": "markdown",
   "id": "5460c2a9-91f7-4f62-b6e9-4835ae6c553e",
   "metadata": {},
   "source": [
    "# ファインチューニング\n",
    "事前に大規模データセットで学習された（pre-trained）モデルの重みを引き継ぎ、目的とするタスク用の新たなデータセットで再学習（微調整）する手法  \n",
    "少ないデータで高い精度が得られるほか、学習時間や計算資源の節約にもつながる  \n",
    "### 層の固定と更新\n",
    "モデルの初期層は汎用的な特徴（エッジや基本パターン）を捉えているため「固定（freeze）」し、最終層やタスクに特化した層だけを再学習させることが一般的\n",
    "### 小さい学習率\n",
    "既存の重みを大きく変えないよう、通常の学習よりも小さな学習率で微調整を行う\n",
    "### タスクに合わせたアーキテクチャの調整\n",
    "最終層の出力次元を、目的のタスク（分類ならクラス数、回帰なら1など）に合わせて変更する\n"
   ]
  },
  {
   "cell_type": "code",
   "execution_count": 4,
   "id": "8b24908c-7398-41fe-b081-64f7d8f1a2ce",
   "metadata": {},
   "outputs": [
    {
     "name": "stderr",
     "output_type": "stream",
     "text": [
      "Epoch 1/2: 100%|████████████| 32/32 [00:36<00:00,  1.13s/it]\n"
     ]
    },
    {
     "name": "stdout",
     "output_type": "stream",
     "text": [
      "Epoch 1/2, Loss: 2.0362\n"
     ]
    },
    {
     "name": "stderr",
     "output_type": "stream",
     "text": [
      "Epoch 2/2: 100%|████████████| 32/32 [00:35<00:00,  1.12s/it]\n"
     ]
    },
    {
     "name": "stdout",
     "output_type": "stream",
     "text": [
      "Epoch 2/2, Loss: 1.4919\n"
     ]
    },
    {
     "name": "stderr",
     "output_type": "stream",
     "text": [
      "Evaluating: 100%|███████████| 16/16 [00:23<00:00,  1.47s/it]"
     ]
    },
    {
     "name": "stdout",
     "output_type": "stream",
     "text": [
      "Test Accuracy: 0.5780\n"
     ]
    },
    {
     "name": "stderr",
     "output_type": "stream",
     "text": [
      "\n"
     ]
    }
   ],
   "source": [
    "import torch\n",
    "import torch.nn as nn\n",
    "import torch.optim as optim\n",
    "import torchvision\n",
    "import torchvision.transforms as transforms\n",
    "from torch.utils.data import Subset, DataLoader\n",
    "from tqdm import tqdm\n",
    "\n",
    "# 1. データの準備\n",
    "transform = transforms.Compose([\n",
    "    transforms.Resize((224, 224)),  # ResNetは224x224を前提\n",
    "    transforms.ToTensor(),\n",
    "    transforms.Normalize((0.5, 0.5, 0.5), (0.5, 0.5, 0.5))\n",
    "])\n",
    "\n",
    "trainset = torchvision.datasets.CIFAR10(root='./data', train=True, download=True, transform=transform)\n",
    "testset = torchvision.datasets.CIFAR10(root='./data', train=False, download=True, transform=transform)\n",
    "\n",
    "# 訓練とテストでデータのサブセットを利用（訓練1000サンプル、テスト500サンプル）\n",
    "train_subset = Subset(trainset, list(range(1000)))\n",
    "test_subset = Subset(testset, list(range(500)))\n",
    "\n",
    "trainloader = DataLoader(train_subset, batch_size=32, shuffle=True, num_workers=2)\n",
    "testloader = DataLoader(test_subset, batch_size=32, shuffle=False, num_workers=2)\n",
    "\n",
    "# 2. 事前学習済みResNet18の読み込み\n",
    "model = torchvision.models.resnet18(pretrained=True)\n",
    "\n",
    "# 3. 事前学習済みモデルの重みを固定\n",
    "for param in model.parameters():\n",
    "    param.requires_grad = False\n",
    "\n",
    "# 4. 最終層をタスクに合わせて変更（CIFAR-10は10クラス）\n",
    "num_ftrs = model.fc.in_features\n",
    "model.fc = nn.Linear(num_ftrs, 10)\n",
    "\n",
    "# 5. 微調整するパラメータのみ学習するため、optimizerに渡す\n",
    "optimizer = optim.Adam(model.fc.parameters(), lr=0.001)\n",
    "criterion = nn.CrossEntropyLoss()\n",
    "\n",
    "device = torch.device(\"cuda\" if torch.cuda.is_available() else \"cpu\")\n",
    "model.to(device)\n",
    "\n",
    "# 6. 学習ループ（進捗表示付き）\n",
    "epochs = 2\n",
    "for epoch in range(epochs):\n",
    "    model.train()\n",
    "    running_loss = 0.0\n",
    "    # tqdmで進捗バー表示\n",
    "    for inputs, labels in tqdm(trainloader, desc=f\"Epoch {epoch+1}/{epochs}\"):\n",
    "        inputs, labels = inputs.to(device), labels.to(device)\n",
    "        optimizer.zero_grad()\n",
    "        outputs = model(inputs)\n",
    "        loss = criterion(outputs, labels)\n",
    "        loss.backward()\n",
    "        optimizer.step()\n",
    "        running_loss += loss.item() * inputs.size(0)\n",
    "    epoch_loss = running_loss / len(train_subset)\n",
    "    print(f\"Epoch {epoch+1}/{epochs}, Loss: {epoch_loss:.4f}\")\n",
    "\n",
    "# 7. 評価\n",
    "model.eval()\n",
    "correct = 0\n",
    "total = 0\n",
    "with torch.no_grad():\n",
    "    for inputs, labels in tqdm(testloader, desc=\"Evaluating\"):\n",
    "        inputs, labels = inputs.to(device), labels.to(device)\n",
    "        outputs = model(inputs)\n",
    "        _, predicted = torch.max(outputs, 1)\n",
    "        total += labels.size(0)\n",
    "        correct += (predicted == labels).sum().item()\n",
    "print(\"Test Accuracy: {:.4f}\".format(correct / total))\n"
   ]
  },
  {
   "cell_type": "code",
   "execution_count": null,
   "id": "5762a6a7-4c14-406b-a9e4-6ac942888e15",
   "metadata": {},
   "outputs": [],
   "source": []
  },
  {
   "cell_type": "code",
   "execution_count": null,
   "id": "5a2cb2bc-f3eb-47e9-8dca-4eb9c2b06a3d",
   "metadata": {},
   "outputs": [],
   "source": []
  }
 ],
 "metadata": {
  "kernelspec": {
   "display_name": "Python (torch_env)",
   "language": "python",
   "name": "torch_env"
  },
  "language_info": {
   "codemirror_mode": {
    "name": "ipython",
    "version": 3
   },
   "file_extension": ".py",
   "mimetype": "text/x-python",
   "name": "python",
   "nbconvert_exporter": "python",
   "pygments_lexer": "ipython3",
   "version": "3.10.16"
  }
 },
 "nbformat": 4,
 "nbformat_minor": 5
}
