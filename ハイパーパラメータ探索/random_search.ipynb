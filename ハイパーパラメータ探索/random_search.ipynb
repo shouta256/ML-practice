{
 "cells": [
  {
   "cell_type": "markdown",
   "id": "ab60e380-7430-482d-bcf7-601b90a05ec8",
   "metadata": {},
   "source": [
    "# ランダムサーチ（Random Search）\n",
    "探索空間からランダムにサンプルして試す方法  \n",
    "ランダムに探索するため、グリッドサーチよりも計算コストを抑えられる  \n",
    "再現性に注意が必要"
   ]
  },
  {
   "cell_type": "code",
   "execution_count": 2,
   "id": "60465537-28d5-4147-b78e-151c97908a30",
   "metadata": {},
   "outputs": [],
   "source": [
    "import torch\n",
    "import torch.nn as nn\n",
    "import torch.optim as optim\n",
    "import numpy as np\n",
    "\n",
    "# シード固定\n",
    "torch.manual_seed(42)\n",
    "np.random.seed(42)\n",
    "\n",
    "# サンプルデータ生成：y = 2*x + 1 にノイズを加えた回帰データ\n",
    "X = np.linspace(-1, 1, 100).reshape(-1, 1)\n",
    "y = 2 * X + 1 + np.random.normal(0, 0.2, X.shape)\n",
    "\n",
    "# NumPy → PyTorch tensor\n",
    "X_tensor = torch.tensor(X, dtype=torch.float32)\n",
    "y_tensor = torch.tensor(y, dtype=torch.float32)\n",
    "\n",
    "# シンプルなMLPモデル（1層の隠れ層）\n",
    "class SimpleMLP(nn.Module):\n",
    "    def __init__(self, hidden_size):\n",
    "        super(SimpleMLP, self).__init__()\n",
    "        self.fc1 = nn.Linear(1, hidden_size)\n",
    "        self.relu = nn.ReLU()\n",
    "        self.fc2 = nn.Linear(hidden_size, 1)\n",
    "        \n",
    "    def forward(self, x):\n",
    "        x = self.fc1(x)\n",
    "        x = self.relu(x)\n",
    "        x = self.fc2(x)\n",
    "        return x\n",
    "\n",
    "# モデル訓練関数：指定したエポック数だけ訓練し、最終MSEを返す\n",
    "def train_model(hidden_size, lr, epochs=100):\n",
    "    model = SimpleMLP(hidden_size)\n",
    "    criterion = nn.MSELoss()\n",
    "    optimizer = optim.Adam(model.parameters(), lr=lr)\n",
    "    for epoch in range(epochs):\n",
    "        model.train()\n",
    "        optimizer.zero_grad()\n",
    "        output = model(X_tensor)\n",
    "        loss = criterion(output, y_tensor)\n",
    "        loss.backward()\n",
    "        optimizer.step()\n",
    "    return loss.item()\n"
   ]
  },
  {
   "cell_type": "code",
   "execution_count": 4,
   "id": "bed3c79f-32eb-476d-8b89-ab1f62a6339b",
   "metadata": {},
   "outputs": [
    {
     "name": "stdout",
     "output_type": "stream",
     "text": [
      "Trial 1: Hidden: 8, LR: 0.00073 -> Loss: 1.5896\n",
      "Trial 2: Hidden: 19, LR: 0.00282 -> Loss: 0.2414\n",
      "Trial 3: Hidden: 13, LR: 0.00015 -> Loss: 2.5565\n",
      "Trial 4: Hidden: 23, LR: 0.00016 -> Loss: 2.2540\n",
      "Trial 5: Hidden: 18, LR: 0.00590 -> Loss: 0.0398\n",
      "Trial 6: Hidden: 17, LR: 0.00031 -> Loss: 2.2928\n",
      "Trial 7: Hidden: 24, LR: 0.00072 -> Loss: 1.4901\n",
      "Trial 8: Hidden: 5, LR: 0.00065 -> Loss: 1.7357\n",
      "Trial 9: Hidden: 22, LR: 0.02466 -> Loss: 0.0304\n",
      "Trial 10: Hidden: 12, LR: 0.08978 -> Loss: 0.0309\n",
      "Best parameters (Random Search): (22, 0.024658703064721996) with Loss: 0.030424686148762703\n"
     ]
    }
   ],
   "source": [
    "import random\n",
    "\n",
    "n_trials = 10\n",
    "best_loss = float('inf')\n",
    "best_params = None\n",
    "\n",
    "for i in range(n_trials):\n",
    "    hidden = random.choice(range(4, 33))  # 4～32の整数\n",
    "    lr = 10 ** random.uniform(-4, -1)      # 1e-4～1e-1 の範囲\n",
    "    loss = train_model(hidden, lr, epochs=100)\n",
    "    print(f\"Trial {i+1}: Hidden: {hidden}, LR: {lr:.5f} -> Loss: {loss:.4f}\")\n",
    "    if loss < best_loss:\n",
    "        best_loss = loss\n",
    "        best_params = (hidden, lr)\n",
    "\n",
    "print(\"Best parameters (Random Search):\", best_params, \"with Loss:\", best_loss)\n"
   ]
  }
 ],
 "metadata": {
  "kernelspec": {
   "display_name": "Python (torch_env)",
   "language": "python",
   "name": "torch_env"
  },
  "language_info": {
   "codemirror_mode": {
    "name": "ipython",
    "version": 3
   },
   "file_extension": ".py",
   "mimetype": "text/x-python",
   "name": "python",
   "nbconvert_exporter": "python",
   "pygments_lexer": "ipython3",
   "version": "3.10.16"
  }
 },
 "nbformat": 4,
 "nbformat_minor": 5
}
