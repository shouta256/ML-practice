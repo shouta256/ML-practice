{
 "cells": [
  {
   "cell_type": "markdown",
   "id": "506e3f53-9561-4c1d-84b2-849068ecb68d",
   "metadata": {},
   "source": [
    "# グリッドサーチ（Grid Search）\n",
    "あらかじめ設定した各パラメータの候補全ての組み合わせを試す方法。  \n",
    "「最適なパラメータ組み合わせ」が得られる  \n",
    "探索空間が大きいと計算コストが上がるので、事前に候補を絞る必要がある"
   ]
  },
  {
   "cell_type": "code",
   "execution_count": 6,
   "id": "c31d2d0b-8a53-4165-a12d-2319b8123bc5",
   "metadata": {},
   "outputs": [],
   "source": [
    "import torch\n",
    "import torch.nn as nn\n",
    "import torch.optim as optim\n",
    "import numpy as np\n",
    "\n",
    "# シード固定\n",
    "torch.manual_seed(42)\n",
    "np.random.seed(42)\n",
    "\n",
    "# サンプルデータ生成：y = 2*x + 1 にノイズを加えた回帰データ\n",
    "X = np.linspace(-1, 1, 100).reshape(-1, 1)\n",
    "y = 2 * X + 1 + np.random.normal(0, 0.2, X.shape)\n",
    "\n",
    "# NumPy → PyTorch tensor\n",
    "X_tensor = torch.tensor(X, dtype=torch.float32)\n",
    "y_tensor = torch.tensor(y, dtype=torch.float32)\n",
    "\n",
    "# シンプルなMLPモデル（1層の隠れ層）\n",
    "class SimpleMLP(nn.Module):\n",
    "    def __init__(self, hidden_size):\n",
    "        super(SimpleMLP, self).__init__()\n",
    "        self.fc1 = nn.Linear(1, hidden_size)\n",
    "        self.relu = nn.ReLU()\n",
    "        self.fc2 = nn.Linear(hidden_size, 1)\n",
    "        \n",
    "    def forward(self, x):\n",
    "        x = self.fc1(x)\n",
    "        x = self.relu(x)\n",
    "        x = self.fc2(x)\n",
    "        return x\n",
    "\n",
    "# モデル訓練関数：指定したエポック数だけ訓練し、最終MSEを返す\n",
    "def train_model(hidden_size, lr, epochs=100):\n",
    "    model = SimpleMLP(hidden_size)\n",
    "    criterion = nn.MSELoss()\n",
    "    optimizer = optim.Adam(model.parameters(), lr=lr)\n",
    "    for epoch in range(epochs):\n",
    "        model.train()\n",
    "        optimizer.zero_grad()\n",
    "        output = model(X_tensor)\n",
    "        loss = criterion(output, y_tensor)\n",
    "        loss.backward()\n",
    "        optimizer.step()\n",
    "    return loss.item()\n"
   ]
  },
  {
   "cell_type": "code",
   "execution_count": 8,
   "id": "607bf25f-a96e-4108-9ccf-0091212764da",
   "metadata": {},
   "outputs": [
    {
     "name": "stdout",
     "output_type": "stream",
     "text": [
      "Hidden: 4, LR: 0.001 -> Loss: 1.2330\n",
      "Hidden: 4, LR: 0.01 -> Loss: 0.1652\n",
      "Hidden: 4, LR: 0.1 -> Loss: 0.0321\n",
      "Hidden: 8, LR: 0.001 -> Loss: 1.8177\n",
      "Hidden: 8, LR: 0.01 -> Loss: 0.0349\n",
      "Hidden: 8, LR: 0.1 -> Loss: 0.0319\n",
      "Hidden: 16, LR: 0.001 -> Loss: 1.1691\n",
      "Hidden: 16, LR: 0.01 -> Loss: 0.0320\n",
      "Hidden: 16, LR: 0.1 -> Loss: 0.0302\n",
      "Best parameters (Grid Search): (16, 0.1) with Loss: 0.030203668400645256\n"
     ]
    }
   ],
   "source": [
    "# 探索候補（例：隠れ層のサイズと学習率）\n",
    "hidden_sizes = [4, 8, 16]\n",
    "learning_rates = [0.001, 0.01, 0.1]\n",
    "\n",
    "best_loss = float('inf')\n",
    "best_params = None\n",
    "\n",
    "for hidden in hidden_sizes:\n",
    "    for lr in learning_rates:\n",
    "        loss = train_model(hidden, lr, epochs=100)\n",
    "        print(f\"Hidden: {hidden}, LR: {lr} -> Loss: {loss:.4f}\")\n",
    "        if loss < best_loss:\n",
    "            best_loss = loss\n",
    "            best_params = (hidden, lr)\n",
    "\n",
    "print(\"Best parameters (Grid Search):\", best_params, \"with Loss:\", best_loss)\n"
   ]
  },
  {
   "cell_type": "code",
   "execution_count": null,
   "id": "553ce2b1-56c9-44af-803c-7ef019e71571",
   "metadata": {},
   "outputs": [],
   "source": []
  }
 ],
 "metadata": {
  "kernelspec": {
   "display_name": "Python (torch_env)",
   "language": "python",
   "name": "torch_env"
  },
  "language_info": {
   "codemirror_mode": {
    "name": "ipython",
    "version": 3
   },
   "file_extension": ".py",
   "mimetype": "text/x-python",
   "name": "python",
   "nbconvert_exporter": "python",
   "pygments_lexer": "ipython3",
   "version": "3.10.16"
  }
 },
 "nbformat": 4,
 "nbformat_minor": 5
}
