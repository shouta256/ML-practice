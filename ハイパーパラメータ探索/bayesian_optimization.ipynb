{
 "cells": [
  {
   "cell_type": "markdown",
   "id": "bb9dd723-b856-47f9-a950-1ae2f74e6808",
   "metadata": {},
   "source": [
    "# ベイズ最適化（Bayesian Optimization）\n",
    "目的関数の評価結果から次の候補を効率的に選ぶ方法  \n",
    "過去の評価結果を用いて、探索空間内でより有望な領域を重点的に調べる  \n",
    "探索回数が少なくても効率的に最適パラメータに近づける\n"
   ]
  },
  {
   "cell_type": "code",
   "execution_count": 2,
   "id": "51a5fd36-5a8d-4ff6-9646-d5bf3f96a9b9",
   "metadata": {},
   "outputs": [],
   "source": [
    "import torch\n",
    "import torch.nn as nn\n",
    "import torch.optim as optim\n",
    "import numpy as np\n",
    "\n",
    "# シード固定\n",
    "torch.manual_seed(42)\n",
    "np.random.seed(42)\n",
    "\n",
    "# サンプルデータ生成：y = 2*x + 1 にノイズを加えた回帰データ\n",
    "X = np.linspace(-1, 1, 100).reshape(-1, 1)\n",
    "y = 2 * X + 1 + np.random.normal(0, 0.2, X.shape)\n",
    "\n",
    "# NumPy → PyTorch tensor\n",
    "X_tensor = torch.tensor(X, dtype=torch.float32)\n",
    "y_tensor = torch.tensor(y, dtype=torch.float32)\n",
    "\n",
    "# シンプルなMLPモデル（1層の隠れ層）\n",
    "class SimpleMLP(nn.Module):\n",
    "    def __init__(self, hidden_size):\n",
    "        super(SimpleMLP, self).__init__()\n",
    "        self.fc1 = nn.Linear(1, hidden_size)\n",
    "        self.relu = nn.ReLU()\n",
    "        self.fc2 = nn.Linear(hidden_size, 1)\n",
    "        \n",
    "    def forward(self, x):\n",
    "        x = self.fc1(x)\n",
    "        x = self.relu(x)\n",
    "        x = self.fc2(x)\n",
    "        return x\n",
    "\n",
    "# モデル訓練関数：指定したエポック数だけ訓練し、最終MSEを返す\n",
    "def train_model(hidden_size, lr, epochs=100):\n",
    "    model = SimpleMLP(hidden_size)\n",
    "    criterion = nn.MSELoss()\n",
    "    optimizer = optim.Adam(model.parameters(), lr=lr)\n",
    "    for epoch in range(epochs):\n",
    "        model.train()\n",
    "        optimizer.zero_grad()\n",
    "        output = model(X_tensor)\n",
    "        loss = criterion(output, y_tensor)\n",
    "        loss.backward()\n",
    "        optimizer.step()\n",
    "    return loss.item()\n"
   ]
  },
  {
   "cell_type": "code",
   "execution_count": 5,
   "id": "7f68e428-750b-471e-86c7-cc7718b55308",
   "metadata": {},
   "outputs": [
    {
     "name": "stderr",
     "output_type": "stream",
     "text": [
      "[I 2025-02-28 09:03:50,978] A new study created in memory with name: no-name-faa1635b-4f47-4e90-8447-71a108d58179\n",
      "/var/folders/cd/64q4_xtd5ybfk0cy_yn_56hm0000gn/T/ipykernel_23704/2767309836.py:5: FutureWarning: suggest_loguniform has been deprecated in v3.0.0. This feature will be removed in v6.0.0. See https://github.com/optuna/optuna/releases/tag/v3.0.0. Use suggest_float(..., log=True) instead.\n",
      "  lr = trial.suggest_loguniform('lr', 1e-4, 1e-1)\n",
      "[I 2025-02-28 09:03:51,539] Trial 0 finished with value: 1.412248969078064 and parameters: {'hidden_size': 6, 'lr': 0.0007178087681879401}. Best is trial 0 with value: 1.412248969078064.\n",
      "/var/folders/cd/64q4_xtd5ybfk0cy_yn_56hm0000gn/T/ipykernel_23704/2767309836.py:5: FutureWarning: suggest_loguniform has been deprecated in v3.0.0. This feature will be removed in v6.0.0. See https://github.com/optuna/optuna/releases/tag/v3.0.0. Use suggest_float(..., log=True) instead.\n",
      "  lr = trial.suggest_loguniform('lr', 1e-4, 1e-1)\n",
      "[I 2025-02-28 09:03:51,556] Trial 1 finished with value: 0.030749762430787086 and parameters: {'hidden_size': 16, 'lr': 0.05528743939630371}. Best is trial 1 with value: 0.030749762430787086.\n",
      "[I 2025-02-28 09:03:51,572] Trial 2 finished with value: 0.030104808509349823 and parameters: {'hidden_size': 30, 'lr': 0.02886077700630927}. Best is trial 2 with value: 0.030104808509349823.\n",
      "[I 2025-02-28 09:03:51,588] Trial 3 finished with value: 2.009509801864624 and parameters: {'hidden_size': 9, 'lr': 0.00034276336095174896}. Best is trial 2 with value: 0.030104808509349823.\n",
      "[I 2025-02-28 09:03:51,604] Trial 4 finished with value: 2.7133049964904785 and parameters: {'hidden_size': 18, 'lr': 0.0004962040276962303}. Best is trial 2 with value: 0.030104808509349823.\n",
      "[I 2025-02-28 09:03:51,621] Trial 5 finished with value: 0.458557665348053 and parameters: {'hidden_size': 30, 'lr': 0.0022610254519643195}. Best is trial 2 with value: 0.030104808509349823.\n",
      "[I 2025-02-28 09:03:51,636] Trial 6 finished with value: 0.031195564195513725 and parameters: {'hidden_size': 25, 'lr': 0.024515216421894342}. Best is trial 2 with value: 0.030104808509349823.\n",
      "[I 2025-02-28 09:03:51,652] Trial 7 finished with value: 1.3770420551300049 and parameters: {'hidden_size': 26, 'lr': 0.0006392769411734215}. Best is trial 2 with value: 0.030104808509349823.\n",
      "[I 2025-02-28 09:03:51,667] Trial 8 finished with value: 0.03007158450782299 and parameters: {'hidden_size': 21, 'lr': 0.0801015235685971}. Best is trial 8 with value: 0.03007158450782299.\n",
      "[I 2025-02-28 09:03:51,683] Trial 9 finished with value: 0.03134126588702202 and parameters: {'hidden_size': 4, 'lr': 0.02785111442748713}. Best is trial 8 with value: 0.03007158450782299.\n",
      "[I 2025-02-28 09:03:51,703] Trial 10 finished with value: 0.07320719212293625 and parameters: {'hidden_size': 13, 'lr': 0.00632091569196183}. Best is trial 8 with value: 0.03007158450782299.\n",
      "[I 2025-02-28 09:03:51,722] Trial 11 finished with value: 0.0297447107732296 and parameters: {'hidden_size': 32, 'lr': 0.09931864632299335}. Best is trial 11 with value: 0.0297447107732296.\n",
      "[I 2025-02-28 09:03:51,741] Trial 12 finished with value: 0.03092530183494091 and parameters: {'hidden_size': 23, 'lr': 0.08328384336309075}. Best is trial 11 with value: 0.0297447107732296.\n",
      "[I 2025-02-28 09:03:51,760] Trial 13 finished with value: 2.3570761680603027 and parameters: {'hidden_size': 21, 'lr': 0.00010259053522333902}. Best is trial 11 with value: 0.0297447107732296.\n",
      "[I 2025-02-28 09:03:51,778] Trial 14 finished with value: 0.030663499608635902 and parameters: {'hidden_size': 31, 'lr': 0.010293389256995349}. Best is trial 11 with value: 0.0297447107732296.\n",
      "[I 2025-02-28 09:03:51,797] Trial 15 finished with value: 0.03194667398929596 and parameters: {'hidden_size': 14, 'lr': 0.09033117391205892}. Best is trial 11 with value: 0.0297447107732296.\n",
      "[I 2025-02-28 09:03:51,815] Trial 16 finished with value: 0.03183693438768387 and parameters: {'hidden_size': 27, 'lr': 0.010853803968976353}. Best is trial 11 with value: 0.0297447107732296.\n",
      "[I 2025-02-28 09:03:51,833] Trial 17 finished with value: 0.036574315279722214 and parameters: {'hidden_size': 20, 'lr': 0.003961879177392258}. Best is trial 11 with value: 0.0297447107732296.\n",
      "[I 2025-02-28 09:03:51,852] Trial 18 finished with value: 0.049982547760009766 and parameters: {'hidden_size': 32, 'lr': 0.0017993774996348847}. Best is trial 11 with value: 0.0297447107732296.\n",
      "[I 2025-02-28 09:03:51,870] Trial 19 finished with value: 0.030338678508996964 and parameters: {'hidden_size': 12, 'lr': 0.04467901645397812}. Best is trial 11 with value: 0.0297447107732296.\n"
     ]
    },
    {
     "name": "stdout",
     "output_type": "stream",
     "text": [
      "Best parameters (Optuna): {'hidden_size': 32, 'lr': 0.09931864632299335} with Loss: 0.0297447107732296\n"
     ]
    }
   ],
   "source": [
    "import optuna\n",
    "\n",
    "def objective(trial):\n",
    "    hidden = trial.suggest_int('hidden_size', 4, 32)\n",
    "    lr = trial.suggest_loguniform('lr', 1e-4, 1e-1)\n",
    "    loss = train_model(hidden, lr, epochs=100)\n",
    "    return loss\n",
    "\n",
    "study = optuna.create_study(direction='minimize')\n",
    "study.optimize(objective, n_trials=20)\n",
    "\n",
    "print(\"Best parameters (Optuna):\", study.best_params, \"with Loss:\", study.best_value)\n"
   ]
  }
 ],
 "metadata": {
  "kernelspec": {
   "display_name": "Python (torch_env)",
   "language": "python",
   "name": "torch_env"
  },
  "language_info": {
   "codemirror_mode": {
    "name": "ipython",
    "version": 3
   },
   "file_extension": ".py",
   "mimetype": "text/x-python",
   "name": "python",
   "nbconvert_exporter": "python",
   "pygments_lexer": "ipython3",
   "version": "3.10.16"
  }
 },
 "nbformat": 4,
 "nbformat_minor": 5
}
